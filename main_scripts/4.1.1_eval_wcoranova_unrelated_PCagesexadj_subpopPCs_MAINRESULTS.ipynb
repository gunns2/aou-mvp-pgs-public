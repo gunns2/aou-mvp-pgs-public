{
 "cells": [
  {
   "cell_type": "code",
   "execution_count": null,
   "id": "0",
   "metadata": {},
   "outputs": [],
   "source": [
    "library(data.table)\n",
    "library(Matrix)\n",
    "library(dplyr)\n",
    "library(tidyr)\n",
    "library(ggplot2)\n",
    "library(rlang)\n",
    "library(stringr)\n",
    "library(coranova)"
   ]
  },
  {
   "cell_type": "code",
   "execution_count": null,
   "id": "1",
   "metadata": {},
   "outputs": [],
   "source": [
    "source(\"../eval_functions_refactored.R\")"
   ]
  },
  {
   "cell_type": "code",
   "execution_count": null,
   "id": "2",
   "metadata": {},
   "outputs": [],
   "source": [
    "prscs_names <- paste0(\"prscs_\", c(\"META_afr\", \"META_amr\", \"META_eur\", \"AFR_afr\", \"HIS_amr\", \"EUR_eur\"))\n",
    "#ldpred_names <-paste0(\"ldpred_\", c(\"METAss_AFRld_inf\", \"METAss_AFRld_auto\", \"METAss_AMRld_inf\", \"METAss_AMRld_auto\", \"METAss_EURld_inf\", \"METAss_EURld_auto\", \"AFRss_AFRld_inf\", \"AFRss_AFRld_auto\", \"HISss_AMRld_inf\", \"HISss_AMRld_auto\", \"EURss_EURld_inf\", \"EURss_EURld_auto\"))\n",
    "ldpred_names <-paste0(\"ldpred_\", c(\"METAss_afrld_auto\", \"METAss_amrld_auto\", \"METAss_eurld_auto\", \"AFRss_afrld_auto\", \"HISss_amrld_auto\", \"EURss_eurld_auto\"))\n",
    "x_names <- c(\"prscsx\")\n",
    "\n",
    "subpopPCs <- fread(\"../2024-05-31_global_subpop_v2_gnomad-AoU-PCs-in-AOU.tsv\")"
   ]
  },
  {
   "cell_type": "code",
   "execution_count": null,
   "id": "3",
   "metadata": {},
   "outputs": [],
   "source": [
    "make_outcome_list_subpopPCs <- function (score_name, phen_name, age_sex = FALSE) \n",
    "{\n",
    "    ldpred <- fread(paste0(\"../computed_scores/\", score_name, \"_LDpred.txt\"))\n",
    "    prscs <- fread(paste0(\"../computed_scores/\", score_name, \"_PRScs.txt\"))\n",
    "    prscsx <- fread(paste0(\"../computed_scores/\", score_name, \"_PRScsx.txt\"))\n",
    "    covars <- as.data.frame(fread(\"../AoU_98K_covariates.tsv\"))\n",
    "    phen <- fread(paste0(\"../outcomes/\", phen_name, \".txt\"))\n",
    "    \n",
    "    ldp_list <- compare_scores_subpopPCadj_return_list(ldpred, phen, covars, age_sex)\n",
    "    cs_list <- compare_scores_subpopPCadj_return_list(prscs, phen, covars, age_sex)\n",
    "    x_list <- compare_scores_subpopPCadj_return_list(prscsx, phen,  covars, age_sex)\n",
    "    \n",
    "    alist <- Map(cbind, cs_list, ldp_list, x_list)\n",
    "    new_col_name <- c(\"mean\", paste0(\"prscs_score\", 1:6), \"mean2\", \n",
    "        paste0(c(\"ldp_inf\", \"ldp_auto\"), rep(1:6, each = 2)), \n",
    "        \"mean3\", paste0(\"x_score\", 1:5))\n",
    "    alist <- lapply(alist, setNames, nm = new_col_name)\n",
    "    cormat_list <- lapply(alist, cor)\n",
    "    cormat_df <- as.data.frame(do.call(rbind, lapply(cormat_list, \n",
    "        getVals, outcome = \"mean\", measures = c(paste0(\"prscs_score\", \n",
    "            1:6), paste0(\"ldp_auto\", 1:6), \"x_score5\"))))\n",
    "    cormat_df$anc <- rownames(cormat_df)\n",
    "    colnames(cormat_df) <- c(prscs_names, ldpred_names, x_names, \"anc\")\n",
    "    cormat_df$outcome <- phen_name\n",
    "    return(list(cormat_df, cormat_list, alist))\n",
    "}"
   ]
  },
  {
   "cell_type": "code",
   "execution_count": null,
   "id": "4",
   "metadata": {},
   "outputs": [],
   "source": [
    "compare_scores_subpopPCadj_return_list <- function (score_data, phen_data, covar_file, age_sex) \n",
    "{\n",
    "    score_num <- length(colnames(score_data)) - 4\n",
    "    print(paste(\"Score Number:\", score_num))\n",
    "    dat <- phen_data %>% \n",
    "            left_join(covar_file) %>% \n",
    "            left_join(score_data, by = c(person_id = \"IID\")) %>% \n",
    "            filter(unrel == 1) %>%\n",
    "            left_join(subpopPCs %>% \n",
    "                  select(!c(ancestry_pred_other, \n",
    "                            contains(\"prob\"), \n",
    "                            contains(\"prev_global\"))), \n",
    "                  by = c(\"person_id\" = \"s\"))\n",
    "    \n",
    "    print(paste(\"Data Dimensions:\", dim(dat)))\n",
    "    res <- list()\n",
    "    for (pop in c(\"afr\", \"eur\", \"amr\")) {\n",
    "        print(paste(\"Population:\", pop))\n",
    "        \n",
    "        dat_anc <- dat[dat[[\"ancestry_pred_other\"]] == pop, ]\n",
    "        dat_anc$mean <- inormal(dat_anc$mean)\n",
    "        pcs <- paste0(toupper(pop), \"_PC\", 1:20)\n",
    "        \n",
    "        if(age_sex == TRUE){\n",
    "            covs <- c(\"age\", \"is_male\", pcs)\n",
    "        }else{\n",
    "            covs <- pcs\n",
    "        }\n",
    "        \n",
    "        dat_anc <- dat_anc %>% select(mean, contains(\"SCORE\"), all_of(covs)) %>% na.omit()\n",
    "        dat_anc$mean1 <- perform_adj_PC_specify_covs(dat_anc, \"mean\", paste(covs, collapse = \" + \"))\n",
    "        scores <- lapply(1:score_num, function(i) perform_adj_PC_specify_covs(dat_anc, paste0(\"SCORE\", i, \"_SUM\"), paste(covs, collapse = \" + \")))\n",
    "                         \n",
    "        res[[pop]] <- cbind(dat_anc$mean1, bind_cols(scores))\n",
    "    }\n",
    "    return(res)\n",
    "}"
   ]
  },
  {
   "cell_type": "code",
   "execution_count": null,
   "id": "5",
   "metadata": {},
   "outputs": [],
   "source": [
    "hemo <- make_outcome_list_subpopPCs(\"Hemoglobin_Mean_INT\", \"hemoglobin\", age_sex = TRUE)\n",
    "hemo_cormat_df <- hemo[[1]]\n",
    "hemo_cormat_list <- hemo[[2]]\n",
    "hemo_list <- hemo[[3]]\n",
    "\n",
    "bmi <- make_outcome_list_subpopPCs(\"mean_BMI_INT\", \"bmi\", age_sex =TRUE)\n",
    "bmi_cormat_df <- bmi[[1]]\n",
    "bmi_cormat_list <- bmi[[2]]\n",
    "bmi_list <- bmi[[3]]\n",
    "\n",
    "ldl <- make_outcome_list_subpopPCs(\"LDLC_Mean_INT\", \"ldl\", age_sex =TRUE)\n",
    "ldl_cormat_df <- ldl[[1]]\n",
    "ldl_cormat_list <- ldl[[2]]\n",
    "ldl_list <- ldl[[3]]\n",
    "\n",
    "sbp <- make_outcome_list_subpopPCs(\"mean_Systolic_INT\", \"sbp\", age_sex =TRUE)\n",
    "sbp_cormat_df <- sbp[[1]]\n",
    "sbp_cormat_list <- sbp[[2]]\n",
    "sbp_list <- sbp[[3]]\n",
    "\n",
    "height <- make_outcome_list_subpopPCs(\"mean_Height_INT\", \"height\", age_sex =TRUE)\n",
    "height_cormat_df <- height[[1]]\n",
    "height_cormat_list <- height[[2]]\n",
    "height_list <- height[[3]]"
   ]
  },
  {
   "cell_type": "markdown",
   "id": "6",
   "metadata": {},
   "source": [
    "## Is PRS-CSx better than mean META scores?"
   ]
  },
  {
   "cell_type": "markdown",
   "id": "7",
   "metadata": {},
   "source": [
    "### Estimating Average Difference"
   ]
  },
  {
   "cell_type": "code",
   "execution_count": null,
   "id": "8",
   "metadata": {},
   "outputs": [],
   "source": [
    "a <- fread(\"dat_continuous_unrelated_refactored_PCagesex_subpopPCs.txt\")\n",
    "b <- a %>% \n",
    "    filter(anc %in% c(\"afr\", \"amr\",\"eur\"), phecode != \"basophils\") %>% \n",
    "    select(!c(score, score1)) %>% group_by(phecode,anc, method, ss) %>%  \n",
    "    summarize(mean(R2))\n",
    "c <- b %>% \n",
    "    filter(ss == \"META\" | ss == \"prscsx\" | toupper(anc) == ss) %>% \n",
    "    mutate(method = ifelse(ss == \"prscsx\", \"prscsx\", method))\n",
    "\n",
    "a1 <- fread(\"dat_binary_unrelated_refactored_PCagesex_subpopPCs.txt\") \n",
    "b1 <- a1 %>% \n",
    "    filter(anc %in% c(\"afr\", \"amr\",\"eur\"), phecode != \"Phe_250_1\") %>% \n",
    "    select(!c(cases, controls, score, score2, score1, R2_type, traits, names)) %>% \n",
    "    group_by(phecode,anc, method, ss) %>%  \n",
    "    summarize(mean(R2))\n",
    "c1 <- b1 %>% \n",
    "    filter(ss == \"META\" | ss == \"prscsx\" | toupper(anc) == ss) %>% \n",
    "    mutate(method = ifelse(ss == \"prscsx\", \"prscsx\", method))\n"
   ]
  },
  {
   "cell_type": "code",
   "execution_count": null,
   "id": "9",
   "metadata": {},
   "outputs": [],
   "source": [
    "print(\"Combined Binary and Continuous\")\n",
    "c_xmeta <- rbind(c, c1) %>% \n",
    "            filter(ss == \"META\" | ss == \"prscsx\") %>% \n",
    "            select(!ss) %>% \n",
    "            pivot_wider(names_from = method, values_from = `mean(R2)`) \n",
    "c_xmeta %>% \n",
    "    ungroup() %>% \n",
    "    group_by(anc) %>% \n",
    "    mutate(prop_diff_ldpred = (prscsx - ldpred)/ldpred, \n",
    "           prop_diff_prscs = (prscsx - prscs)/prscs, \n",
    "           prop_diff_both = (prscsx - (prscs + ldpred)/2)/((prscs + ldpred)/2)) %>%   \n",
    "    summarize(mean(prop_diff_ldpred), mean(prop_diff_prscs), mean(prop_diff_both))"
   ]
  },
  {
   "cell_type": "markdown",
   "id": "10",
   "metadata": {},
   "source": [
    "### Using Coranova"
   ]
  },
  {
   "cell_type": "code",
   "execution_count": null,
   "id": "11",
   "metadata": {},
   "outputs": [],
   "source": [
    "A_meta_prscsx <- matrix(c( 1/3, 1/3, 1/3, -1, rep(0,4), rep(0,4),\n",
    "               rep(0,4), 1/3, 1/3, 1/3, -1, rep(0,4),\n",
    "                rep(0,4), rep(0,4), 1/3, 1/3, 1/3, -1), byrow = T, ncol = 12, nrow = 3)"
   ]
  },
  {
   "cell_type": "code",
   "execution_count": null,
   "id": "12",
   "metadata": {},
   "outputs": [],
   "source": [
    "A_meta_prscsx"
   ]
  },
  {
   "cell_type": "code",
   "execution_count": null,
   "id": "13",
   "metadata": {},
   "outputs": [],
   "source": [
    "#PRS-CSx better than average of PRS-CSmeta scores in all traits \n",
    "print(\"hemo\")\n",
    "perform_alt_test(hemo_list[c(\"afr\", \"amr\", \"eur\")], \n",
    "                     \"mean\", \n",
    "                     c(paste0(\"prscs_score\", 1:3), \"x_score5\"), \n",
    "                     A_meta_prscsx, \n",
    "                     \"parametric\", TRUE) #2.3e-14\n",
    "\n",
    "print(\"bmi\")\n",
    "perform_alt_test(bmi_list[c(\"afr\", \"amr\", \"eur\")], \n",
    "                 \"mean\", \n",
    "                 c(paste0(\"prscs_score\", 1:3), \"x_score5\"), \n",
    "                 A_meta_prscsx, \n",
    "                 \"parametric\", TRUE) # 2e-139\n",
    "\n",
    "print(\"sbp\")\n",
    "perform_alt_test(sbp_list[c(\"afr\", \"amr\", \"eur\")], \n",
    "                 \"mean\", \n",
    "                 c(paste0(\"prscs_score\", 1:3), \"x_score5\"), \n",
    "                 A_meta_prscsx, \n",
    "                 \"parametric\", TRUE) #1.23e-115\n",
    "\n",
    "print(\"height\")\n",
    "perform_alt_test(height_list[c(\"afr\", \"amr\", \"eur\")], \n",
    "                 \"mean\", \n",
    "                 c(paste0(\"prscs_score\", 1:3), \"x_score5\"), \n",
    "                 A_meta_prscsx, \n",
    "                 \"parametric\", TRUE) #0 >> 0\n",
    "\n",
    "print(\"ldl\")\n",
    "perform_alt_test(ldl_list[c(\"afr\", \"amr\", \"eur\")], \n",
    "                 \"mean\", \n",
    "                 c(paste0(\"prscs_score\", 1:3), \"x_score5\"), \n",
    "                 A_meta_prscsx, \n",
    "                 \"parametric\", TRUE) #1.17e-21\n"
   ]
  },
  {
   "cell_type": "code",
   "execution_count": null,
   "id": "14",
   "metadata": {},
   "outputs": [],
   "source": [
    "#PRS-CSx better than average of LDpred meta scores in all traits \n",
    "print(\"hemo\")\n",
    "perform_alt_test(hemo_list[c(\"afr\", \"amr\", \"eur\")], \n",
    "                 \"mean\", \n",
    "                 c(paste0(\"ldp_auto\", 1:3), \"x_score5\"), \n",
    "                 A_meta_prscsx, \n",
    "                 \"parametric\", TRUE) #5.7e-16\n",
    "\n",
    "print(\"bmi\")\n",
    "perform_alt_test(bmi_list[c(\"afr\", \"amr\", \"eur\")], \n",
    "                 \"mean\", \n",
    "                 c(paste0(\"ldp_auto\", 1:3), \"x_score5\"), \n",
    "                 A_meta_prscsx, \n",
    "                 \"parametric\", TRUE) #1.2e-104\n",
    "\n",
    "print(\"sbp\")\n",
    "perform_alt_test(sbp_list[c(\"afr\", \"amr\", \"eur\")], \n",
    "                 \"mean\", \n",
    "                 c(paste0(\"ldp_auto\", 1:3), \"x_score5\"), \n",
    "                 A_meta_prscsx, \n",
    "                 \"parametric\", TRUE) # 1e-18\n",
    "\n",
    "print(\"height\")\n",
    "perform_alt_test(height_list[c(\"afr\", \"amr\", \"eur\")], \n",
    "                 \"mean\", \n",
    "                 c(paste0(\"ldp_auto\", 1:3), \"x_score5\"), \n",
    "                 A_meta_prscsx, \n",
    "                 \"parametric\", TRUE) #0\n",
    "\n",
    "print(\"ldl\")\n",
    "perform_alt_test(ldl_list[c(\"afr\", \"amr\", \"eur\")], \n",
    "                 \"mean\", \n",
    "                 c(paste0(\"ldp_auto\", 1:3), \"x_score5\"), \n",
    "                 A_meta_prscsx, \n",
    "                 \"parametric\", TRUE) #1.1e-13\n"
   ]
  },
  {
   "cell_type": "markdown",
   "id": "15",
   "metadata": {},
   "source": [
    "#### Does prs-csx perform similarily across ancestry groups? "
   ]
  },
  {
   "cell_type": "code",
   "execution_count": null,
   "id": "16",
   "metadata": {},
   "outputs": [],
   "source": [
    "perform_coranova_parametric(bmi_list, \"mean\", \"x_score5\")\n",
    "perform_coranova_parametric(ldl_list, \"mean\", \"x_score5\") #equiv\n",
    "perform_coranova_parametric(sbp_list, \"mean\", \"x_score5\")\n",
    "perform_coranova_parametric(height_list, \"mean\", \"x_score5\")\n",
    "perform_coranova_parametric(hemo_list, \"mean\", \"x_score5\")"
   ]
  },
  {
   "cell_type": "markdown",
   "id": "17",
   "metadata": {},
   "source": [
    "## Compare LDpred v PRScs:"
   ]
  },
  {
   "cell_type": "markdown",
   "id": "18",
   "metadata": {},
   "source": [
    "### Compare LDpred v PRScs: Estimating Average Difference"
   ]
  },
  {
   "cell_type": "markdown",
   "id": "19",
   "metadata": {},
   "source": [
    "#### Estimating difference between LDpred2 and PRS-CS with correlation"
   ]
  },
  {
   "cell_type": "code",
   "execution_count": null,
   "id": "20",
   "metadata": {},
   "outputs": [],
   "source": [
    "a <- rbind(hemo_cormat_df, height_cormat_df, ldl_cormat_df, sbp_cormat_df, bmi_cormat_df) %>% \n",
    "        select(outcome, anc, contains(\"META\"))\n",
    "b <- a %>% pivot_longer(cols = contains(\"META\"), names_to = \"score\", values_to = \"corr\") %>% \n",
    "        mutate(ld = ifelse(grepl(\"afr\", score), \"afr\", ifelse(grepl(\"amr\", score), \"amr\", \"eur\")),\n",
    "               method = ifelse(grepl(\"prscs\", score), \"prscs\", \"ldpred\")) %>%  \n",
    "        select(!score)\n",
    "c <- b %>% pivot_wider(names_from = method, values_from = corr) %>% \n",
    "    mutate(diff = ldpred - prscs, prop = (ldpred - prscs)/prscs)\n",
    "\n",
    "c %>% summarize(mean(diff), mean(prop))\n",
    "\n",
    "c %>% group_by(anc) %>% summarize(mean(diff), mean(prop))"
   ]
  },
  {
   "cell_type": "markdown",
   "id": "21",
   "metadata": {},
   "source": [
    "#### Estimating difference between LDpred2 and PRS-CS with R2\n"
   ]
  },
  {
   "cell_type": "code",
   "execution_count": null,
   "id": "22",
   "metadata": {},
   "outputs": [],
   "source": [
    "a <- fread(\"dat_continuous_unrelated_refactored_PCagesex_subpopPCs.txt\")\n",
    "b <- a %>% filter(anc %in% c(\"afr\", \"amr\",\"eur\"), phecode != \"basophils\") %>%   filter(ss == \"META\") %>% dplyr::select(!c(N, score, ss, score2, score1))\n",
    "c <- b %>% pivot_wider(names_from = method, values_from = R2) %>% mutate(diff = ldpred - prscs, prop = (ldpred - prscs)/prscs)\n",
    "\n",
    "a1 <- fread(\"dat_binary_unrelated_refactored_PCagesex_subpopPCs.txt\") \n",
    "b1 <- a1 %>% filter(anc %in% c(\"afr\", \"amr\",\"eur\"), phecode != \"Phe_250_1\") %>%   filter(ss == \"META\") %>% dplyr::select(!c(cases, controls, score, ss, score2, score1, R2_type, traits, names))\n",
    "c1 <- b1 %>% pivot_wider(names_from = method, values_from = R2) %>% mutate(diff = ldpred - prscs, prop = (ldpred - prscs)/prscs)\n",
    "\n",
    "d <- rbind(c, c1) \n",
    "\n",
    "print(\"all\")\n",
    "d %>% summarize(mean(diff), mean(prop))\n",
    "d %>% group_by(anc) %>% summarize(mean(diff), mean(prop))\n",
    "\n",
    "print(\"binary\")\n",
    "c1 %>% summarize(mean(diff), mean(prop))\n",
    "c1 %>% group_by(anc) %>% summarize(mean(diff), mean(prop))\n",
    "\n",
    "print(\"continuous\")\n",
    "c %>% summarize(mean(diff), mean(prop))\n",
    "c %>% group_by(anc) %>% summarize(mean(diff), mean(prop))"
   ]
  },
  {
   "cell_type": "markdown",
   "id": "23",
   "metadata": {},
   "source": [
    "#### Estimating difference between LDpred2 and PRS-CS with R2 only eur group"
   ]
  },
  {
   "cell_type": "code",
   "execution_count": null,
   "id": "24",
   "metadata": {},
   "outputs": [],
   "source": [
    "a <- fread(\"dat_continuous_unrelated_refactored.txt\")\n",
    "head(a)\n",
    "b <- a %>% filter(anc %in% c(\"afr\", \"amr\",\"eur\"), phecode != \"basophils\") %>% \n",
    "            filter(ss == \"EUR\", anc == \"eur\") %>% \n",
    "            dplyr::select(!c(N, score, ss, score2, score1))\n",
    "\n",
    "a1 <- fread(\"dat_binary_unrelated_refactored.txt\") \n",
    "b1 <- a1 %>% filter(anc %in% c(\"afr\", \"amr\",\"eur\"), phecode != \"Phe_250_1\") %>% \n",
    "                filter(ss == \"EUR\", anc == \"eur\") %>% \n",
    "                dplyr::select(!c(cases, controls, score, ss, score2, score1, R2_type, traits, names))\n",
    "\n",
    "c <- rbind(b %>% mutate(type = \"cont\"), \n",
    "           b1%>% mutate(type = \"binary\")) \n",
    "\n",
    "d <- c %>% pivot_wider(names_from = method, values_from = R2) %>% mutate(diff = ldpred - prscs, prop = (ldpred - prscs)/prscs)\n",
    "\n",
    "d %>% summarize(mean(diff), mean(prop))"
   ]
  },
  {
   "cell_type": "code",
   "execution_count": null,
   "id": "25",
   "metadata": {},
   "outputs": [],
   "source": []
  },
  {
   "cell_type": "markdown",
   "id": "26",
   "metadata": {},
   "source": [
    "### Compare LDpred v PRScs:  Using Coranova"
   ]
  },
  {
   "cell_type": "code",
   "execution_count": null,
   "id": "27",
   "metadata": {},
   "outputs": [],
   "source": [
    "#Taking average of performance of PRS-CS meta - avg of performance of LDpred meta in each ancestry \n",
    "contrast_mat_ldpvprscs <- matrix(c(1, 1, 1, -1, -1, -1, rep(0, 6), rep(0, 6),\n",
    "                                  rep(0, 6), 1, 1, 1, -1, -1, -1,rep(0, 6), \n",
    "                                  rep(0, 6), rep(0, 6), 1, 1, 1, -1, -1, -1), byrow = T, ncol = 18, nrow = 3)\n",
    "contrast_mat_ldpvprscs_1pop <- matrix(c(1, 1, 1, -1, -1, -1), byrow = T, ncol = 6, nrow = 1)\n",
    "\n",
    "\n",
    "#Taking average of performance each PRS-CS meta - LDpred meta across ancestries, what we want! \n",
    "contrast_ldpvprscs2 <- matrix(c(1, 0, 0, -1, 0, 0, 1, 0, 0, -1, 0, 0, 1, 0, 0, -1, 0, 0, \n",
    "                         0, 1, 0, 0, -1, 0, 0, 1, 0, 0, -1, 0, 0, 1, 0, 0, -1, 0,\n",
    "                         0, 0, 1, 0, 0, -1, 0, 0, 1, 0, 0, -1, 0, 0, 1, 0, 0, -1), byrow = T, ncol = 18, nrow = 3)\n",
    "\n",
    "contrast_ldpvprscs2_1pop <- matrix(c(1, 0, 0, -1, 0, 0,\n",
    "                         0, 1, 0, 0, -1, 0,\n",
    "                         0, 0, 1, 0, 0, -1), byrow = T, ncol = 6, nrow = 3)\n",
    "\n",
    "contrast_ldpvprscs3 <- matrix(c(1, 1, 1, -1, -1, -1,1, 1, 1, -1, -1, -1,1, 1, 1, -1, -1, -1), byrow = T, ncol = 18, nrow = 1)\n"
   ]
  },
  {
   "cell_type": "code",
   "execution_count": null,
   "id": "28",
   "metadata": {},
   "outputs": [],
   "source": [
    "contrast_ldpvprscs2"
   ]
  },
  {
   "cell_type": "code",
   "execution_count": null,
   "id": "29",
   "metadata": {},
   "outputs": [],
   "source": [
    "#PRS-CS is better than LDpred for scores built with AMR and EUR panel, \n",
    "#methods are equivalent with AFR panels\n",
    "print(\"hemo\")\n",
    "perform_alt_test(hemo_list, \n",
    "                     \"mean\", \n",
    "                     c(\"prscs_score1\", \"prscs_score2\", \"prscs_score3\", \"ldp_auto1\", \"ldp_auto2\", \"ldp_auto3\"),\n",
    "                    contrast_ldpvprscs2, \"parametric\", TRUE)  #6.4e-07\n",
    "perform_coranova_parametric(hemo_list, \"mean\",  c(\"prscs_score1\", \"ldp_auto1\")) #pW 0.6\n"
   ]
  },
  {
   "cell_type": "code",
   "execution_count": null,
   "id": "30",
   "metadata": {},
   "outputs": [],
   "source": [
    "contrast_ldpvprscs2"
   ]
  },
  {
   "cell_type": "code",
   "execution_count": null,
   "id": "31",
   "metadata": {},
   "outputs": [],
   "source": [
    "#methods are equivalent \n",
    "print(\"ldl\")\n",
    "perform_alt_test(ldl_list, \n",
    "                     \"mean\", \n",
    "                     c(\"prscs_score1\", \"prscs_score2\", \"prscs_score3\", \"ldp_auto1\", \"ldp_auto2\", \"ldp_auto3\"),\n",
    "                    contrast_ldpvprscs2, \"parametric\", TRUE)  #p = 0.4\n"
   ]
  },
  {
   "cell_type": "code",
   "execution_count": null,
   "id": "32",
   "metadata": {},
   "outputs": [],
   "source": [
    "#LDpred better\n",
    "print(\"height\")\n",
    "perform_alt_test(height_list, \n",
    "                     \"mean\", \n",
    "                     c(\"prscs_score1\",\"prscs_score2\", \"prscs_score3\", \"ldp_auto1\", \"ldp_auto2\", \"ldp_auto3\"),\n",
    "                    contrast_ldpvprscs2, \"parametric\", TRUE) #5.7e-173\n",
    "\n"
   ]
  },
  {
   "cell_type": "code",
   "execution_count": null,
   "id": "33",
   "metadata": {},
   "outputs": [],
   "source": [
    "print(\"sbp\") #ldpred better\n",
    "perform_alt_test(sbp_list, \n",
    "                 \"mean\", \n",
    "                 c(\"prscs_score1\", \"prscs_score2\", \"prscs_score3\", \"ldp_auto1\", \"ldp_auto2\", \"ldp_auto3\"),\n",
    "                 contrast_ldpvprscs2, \"parametric\", TRUE) \n",
    "#1.5e-81\n"
   ]
  },
  {
   "cell_type": "code",
   "execution_count": null,
   "id": "34",
   "metadata": {},
   "outputs": [],
   "source": [
    "#LDpred2 is better than PRS-CS for scores built with AFR (3e-36)\n",
    "#PRS-CS is equiv with AMR panels p = 0.86\n",
    "#PRS-CS is better with EUR panels p =0.0003\n",
    "print(\"bmi\")\n",
    "perform_alt_test(bmi_list, \n",
    "                 \"mean\",\n",
    "                 c(\"prscs_score1\", \"prscs_score2\", \"prscs_score3\", \"ldp_auto1\", \"ldp_auto2\", \"ldp_auto3\"),\n",
    "                 contrast_ldpvprscs2, \"parametric\", TRUE)  #2.5e-44\n",
    "perform_coranova_parametric(bmi_list, \"mean\",  c(\"prscs_score1\", \"ldp_auto1\")) # pW 3e-36\n",
    "\n",
    "perform_coranova_parametric(bmi_list, \"mean\",  c(\"prscs_score2\", \"ldp_auto2\")) #pW = 0.86\n",
    "\n",
    "perform_coranova_parametric(bmi_list, \"mean\",  c(\"prscs_score3\", \"ldp_auto3\")) #pW = 0.0003\n"
   ]
  },
  {
   "cell_type": "markdown",
   "id": "35",
   "metadata": {},
   "source": [
    "## Comparing LDpanels:"
   ]
  },
  {
   "cell_type": "markdown",
   "id": "36",
   "metadata": {},
   "source": [
    "### Comparing LDpanels: Estimating difference between LDpanels with R2"
   ]
  },
  {
   "cell_type": "code",
   "execution_count": null,
   "id": "37",
   "metadata": {},
   "outputs": [],
   "source": [
    "a <- fread(\"dat_continuous_unrelated_refactored_PCagesex_subpopPCs.txt\")\n",
    "b <- a %>% filter(anc %in% c(\"afr\", \"amr\",\"eur\"), phecode != \"basophils\") %>% \n",
    "            filter(ss == \"META\") %>% dplyr::select(!c(N, score, ss, score2, score1))\n",
    "c <- b %>% pivot_wider(names_from = ld, values_from = R2)\n",
    "\n",
    "a1 <- fread(\"dat_binary_unrelated_refactored_PCagesex_subpopPCs.txt\") \n",
    "b1 <- a1 %>% filter(anc %in% c(\"afr\", \"amr\",\"eur\"), phecode != \"Phe_250_1\") %>% \n",
    "        filter(ss == \"META\") %>% dplyr::select(!c(cases, controls, R2_type, traits, names, score, ss, score2, score1))\n",
    "c1 <- b1 %>% pivot_wider(names_from = ld, values_from = R2)\n",
    "\n",
    "\n",
    "rbind(c, c1) %>% mutate(amr_v_afr = amr - afr, amr_v_afr_prop = (amr - afr)/afr,\n",
    "            amr_v_eur = amr - eur, amr_v_eur_prop = (amr - eur)/eur) %>%\n",
    "     group_by(anc, method) %>% summarize(mean(amr_v_afr), mean(amr_v_eur),\n",
    "                                         mean(amr_v_afr_prop), mean(amr_v_eur_prop)) %>%  \n",
    "    arrange(method)"
   ]
  },
  {
   "cell_type": "code",
   "execution_count": null,
   "id": "38",
   "metadata": {},
   "outputs": [],
   "source": [
    "rbind(c, c1) %>% mutate(amr_v_afr = amr - afr, amr_v_afr_prop = (amr - afr)/afr,\n",
    "            amr_v_eur = amr - eur, amr_v_eur_prop = (amr - eur)/eur) %>%\n",
    "     group_by(anc) %>% summarize(mean(amr_v_afr), mean(amr_v_eur),mean(amr_v_afr_prop), mean(amr_v_eur_prop)) %>%\n",
    "select(anc, contains(\"prop\"))"
   ]
  },
  {
   "cell_type": "markdown",
   "id": "39",
   "metadata": {},
   "source": [
    "### Comparing LDpanels: Using Coranova"
   ]
  },
  {
   "cell_type": "code",
   "execution_count": null,
   "id": "40",
   "metadata": {},
   "outputs": [],
   "source": [
    "contrast_mat_ldpanels <- matrix(c(1, -1, 0, 1, -1, 0, 1, -1, 0, 1, -1, 0, 1, -1, 0, 1, -1, 0,\n",
    "                                  1, 0, -1, 1, 0, -1, 1, 0, -1, 1, 0, -1, 1, 0, -1, 1, 0, -1), byrow = T, ncol = 18, nrow = 2)\n",
    "contrast_mat_ldpanels\n",
    "rankMatrix(contrast_mat_ldpanels)\n",
    "\n",
    "contrast_mat_ldpanels_amrref <- matrix(c(-1, 1, 0, -1, 1, 0, -1, 1, 0, -1, 1, 0, -1, 1, 0, -1, 1, 0,\n",
    "                                  0, 1, -1, 0, 1, -1, 0, 1, -1, 0, 1, -1, 0, 1, -1, 0, 1, -1), byrow = T, ncol = 18, nrow = 2)\n",
    "contrast_mat_ldpanels_amrref\n",
    "rankMatrix(contrast_mat_ldpanels_amrref)\n",
    "\n",
    "contrast_mat_ldpanels_amrref_1pop <- matrix(c(-1, 1, 0, -1, 1, 0, \n",
    "                                        0, 1, -1, 0, 1, -1), byrow = T, ncol = 6, nrow = 2)\n",
    "contrast_mat_ldpanels_amrref_1pop\n",
    "rankMatrix(contrast_mat_ldpanels_amrref_1pop)\n",
    "\n",
    "\n",
    "contrast_mat_ldpanels_amrref_1method <- matrix(c(-1, 1, 0, -1, 1, 0,-1, 1, 0,  \n",
    "                                        0, 1, -1, 0, 1, -1, 0, 1, -1), byrow = T, ncol = 9, nrow = 2)\n",
    "\n",
    "contrast_mat_ldpanels_amrref_1method_vafr <- matrix(c(-1, 1, 0, -1, 1, 0,-1, 1, 0), byrow = T, ncol = 9, nrow = 1)\n",
    "\n",
    "contrast_mat_ldpanels_amrref_1method_veur <- matrix(c(0, 1, -1, 0, 1, -1, 0, 1, -1), byrow = T, ncol = 9, nrow = 1)"
   ]
  },
  {
   "cell_type": "code",
   "execution_count": null,
   "id": "41",
   "metadata": {},
   "outputs": [],
   "source": [
    "#aggregate across ancestries, and methods -> AMR is sig best\n",
    "\n",
    "#smallest p-val is 0.00048, for hemo\n",
    "perform_alt_test(hemo_list, \n",
    "                     \"mean\", \n",
    "                     c(\"prscs_score1\",\"prscs_score2\", \"prscs_score3\", \"ldp_auto1\", \"ldp_auto2\", \"ldp_auto3\"),\n",
    "                    contrast_mat_ldpanels_amrref, \"parametric\", TRUE) #p = 0.00048\n",
    "perform_alt_test(height_list, \n",
    "                     \"mean\", \n",
    "                     c(\"prscs_score1\",\"prscs_score2\", \"prscs_score3\", \"ldp_auto1\", \"ldp_auto2\", \"ldp_auto3\"),\n",
    "                    contrast_mat_ldpanels_amrref, \"parametric\", TRUE) #p = 1.6e-128\n",
    "perform_alt_test(sbp_list, \n",
    "                     \"mean\", \n",
    "                     c(\"prscs_score1\",\"prscs_score2\", \"prscs_score3\", \"ldp_auto1\", \"ldp_auto2\", \"ldp_auto3\"),\n",
    "                    contrast_mat_ldpanels_amrref, \"parametric\", TRUE) #3e-64\n",
    "perform_alt_test(ldl_list, \n",
    "                     \"mean\", \n",
    "                     c(\"prscs_score1\",\"prscs_score2\", \"prscs_score3\", \"ldp_auto1\", \"ldp_auto2\", \"ldp_auto3\"),\n",
    "                    contrast_mat_ldpanels_amrref, \"parametric\", TRUE) #8e-09\n",
    "perform_alt_test(bmi_list, \n",
    "                     \"mean\", \n",
    "                     c(\"prscs_score1\",\"prscs_score2\", \"prscs_score3\", \"ldp_auto1\", \"ldp_auto2\", \"ldp_auto3\"),\n",
    "                    contrast_mat_ldpanels_amrref, \"parametric\", TRUE) #5e-24"
   ]
  },
  {
   "cell_type": "code",
   "execution_count": null,
   "id": "42",
   "metadata": {},
   "outputs": [],
   "source": [
    "### aggregate across ancestries, just prscs"
   ]
  },
  {
   "cell_type": "code",
   "execution_count": null,
   "id": "43",
   "metadata": {},
   "outputs": [],
   "source": [
    "print(\"hemo\") #AMR better in both, overall sig\n",
    "perform_alt_test(hemo_list, \n",
    "                     \"mean\", \n",
    "                     c(\"prscs_score1\",\"prscs_score2\", \"prscs_score3\"),\n",
    "                    contrast_mat_ldpanels_amrref_1method, \"parametric\", TRUE)  #1e-07"
   ]
  },
  {
   "cell_type": "code",
   "execution_count": null,
   "id": "44",
   "metadata": {},
   "outputs": [],
   "source": [
    "print(\"height\") #AMR better in both, p = 1e-79\n",
    "perform_alt_test(height_list, \n",
    "                     \"mean\", \n",
    "                     c(\"prscs_score1\",\"prscs_score2\", \"prscs_score3\"),\n",
    "                    contrast_mat_ldpanels_amrref_1method, \"parametric\", TRUE)\n"
   ]
  },
  {
   "cell_type": "code",
   "execution_count": null,
   "id": "45",
   "metadata": {},
   "outputs": [],
   "source": [
    "print(\"sbp\")\n",
    "perform_alt_test(sbp_list, \n",
    "                     \"mean\", \n",
    "                     c(\"prscs_score1\",\"prscs_score2\", \"prscs_score3\" ),\n",
    "                    contrast_mat_ldpanels_amrref_1method, \"parametric\", TRUE)\n",
    "\n",
    "#eur LD panel not sig better than amr LD panel p = 0.04\n",
    "perform_alt_test(sbp_list, \n",
    "                     \"mean\", \n",
    "                     c(\"prscs_score1\",\"prscs_score2\", \"prscs_score3\" ),\n",
    "                    contrast_mat_ldpanels_amrref_1method_veur, \"parametric\", TRUE)"
   ]
  },
  {
   "cell_type": "code",
   "execution_count": null,
   "id": "46",
   "metadata": {},
   "outputs": [],
   "source": [
    "print(\"ldl\") #AMR better in both, overall sig (p = 2e-07)\n",
    "perform_alt_test(ldl_list, \n",
    "                     \"mean\", \n",
    "                     c(\"prscs_score1\",\"prscs_score2\", \"prscs_score3\"),\n",
    "                    contrast_mat_ldpanels_amrref_1method, \"parametric\", TRUE)"
   ]
  },
  {
   "cell_type": "code",
   "execution_count": null,
   "id": "47",
   "metadata": {},
   "outputs": [],
   "source": [
    "print(\"bmi\")  #AMR better in both, overall sig (p = 6e-37)\n",
    "perform_alt_test(bmi_list, \n",
    "                     \"mean\", \n",
    "                     c(\"prscs_score1\",\"prscs_score2\", \"prscs_score3\"),\n",
    "                    contrast_mat_ldpanels_amrref_1method, \"parametric\", TRUE)"
   ]
  },
  {
   "cell_type": "code",
   "execution_count": null,
   "id": "48",
   "metadata": {},
   "outputs": [],
   "source": [
    "### aggregate across ancestries, just LDp"
   ]
  },
  {
   "cell_type": "code",
   "execution_count": null,
   "id": "49",
   "metadata": {},
   "outputs": [],
   "source": [
    "print(\"hemo\") #not sig overall (p = 0.06) -> AMR better than AFR, EUR better than AMR but not sig (p = 0.06)\n",
    "perform_alt_test(hemo_list, \n",
    "                     \"mean\", \n",
    "                     c(paste0(\"ldp_auto\",1:3)),\n",
    "                    contrast_mat_ldpanels_amrref_1method, \"parametric\", TRUE)\n",
    "perform_alt_test(hemo_list, \n",
    "                     \"mean\", \n",
    "                     c(paste0(\"ldp_auto\",1:3)),\n",
    "                    contrast_mat_ldpanels_amrref_1method_veur, \"parametric\", TRUE)\n"
   ]
  },
  {
   "cell_type": "code",
   "execution_count": null,
   "id": "50",
   "metadata": {},
   "outputs": [],
   "source": [
    "print(\"height\")  #AMR better in both, overall sig (p = 3e-97)\n",
    "perform_alt_test(height_list, \n",
    "                     \"mean\", \n",
    "                     c(paste0(\"ldp_auto\",1:3)),\n",
    "                    contrast_mat_ldpanels_amrref_1method, \"parametric\", TRUE)"
   ]
  },
  {
   "cell_type": "code",
   "execution_count": null,
   "id": "51",
   "metadata": {},
   "outputs": [],
   "source": [
    "print(\"sbp\")  #AMR better in both, overall sig (p = 6e-26)\n",
    "perform_alt_test(sbp_list, \n",
    "                     \"mean\", \n",
    "                     c(paste0(\"ldp_auto\",1:3)),\n",
    "                    contrast_mat_ldpanels_amrref_1method, \"parametric\", TRUE)"
   ]
  },
  {
   "cell_type": "code",
   "execution_count": null,
   "id": "52",
   "metadata": {},
   "outputs": [],
   "source": [
    "print(\"ldl\")  #AMR better in both, overall sig (p = 6e-06)\n",
    "perform_alt_test(ldl_list, \n",
    "                     \"mean\", \n",
    "                     c(paste0(\"ldp_auto\",1:3)),\n",
    "                    contrast_mat_ldpanels_amrref_1method, \"parametric\", TRUE)"
   ]
  },
  {
   "cell_type": "code",
   "execution_count": null,
   "id": "53",
   "metadata": {},
   "outputs": [],
   "source": [
    "print(\"bmi\")  #AMR better in both, overall sig (p = 5e-08)\n",
    "perform_alt_test(bmi_list, \n",
    "                     \"mean\", \n",
    "                    c(paste0(\"ldp_auto\",1:3)),\n",
    "                    contrast_mat_ldpanels_amrref_1method, \"parametric\", TRUE)"
   ]
  },
  {
   "cell_type": "markdown",
   "id": "54",
   "metadata": {},
   "source": [
    "## Comparing Multi to Single: PRS-CSx v ancestry-specific\n"
   ]
  },
  {
   "cell_type": "markdown",
   "id": "55",
   "metadata": {},
   "source": [
    "### Estimating difference between PRS-CSx and ancestry-specific PGS with R2"
   ]
  },
  {
   "cell_type": "code",
   "execution_count": null,
   "id": "56",
   "metadata": {},
   "outputs": [],
   "source": [
    "a <- fread(\"dat_continuous_unrelated_refactored_PCagesex_subpopPCs.txt\")\n",
    "b <- a %>% filter(anc %in% c(\"afr\", \"amr\",\"eur\"), phecode != \"basophils\") %>% \n",
    "        select(!c(N, score1, score2, ld)) %>% mutate(type = \"cont\") \n",
    "a1 <- fread(\"dat_binary_unrelated_refactored_PCagesex_subpopPCs.txt\") \n",
    "b1 <- a1 %>% filter(anc %in% c(\"afr\", \"amr\",\"eur\"), phecode != \"Phe_250_1\") %>% \n",
    "        select(!c(cases, controls, score2, score1, R2_type, traits, names, ld)) %>% \n",
    "        mutate(type = \"binary\")\n",
    "\n",
    "c <- rbind(b,b1) %>% filter(ss != \"META\", ss == \"prscsx\" |\n",
    "                            anc == \"afr\" & grepl(\"AFR\", ss) | \n",
    "                            anc == \"eur\" & grepl(\"EUR\", ss) | \n",
    "                            anc == \"amr\" & grepl(\"HIS\", ss)) %>%  \n",
    "        mutate(score = ifelse(score == \"prscsx\", \"prscsx\", \n",
    "                       ifelse(method == \"ldpred\", \"anc_specL\", \"anc_specP\"))) %>% \n",
    "        select(!c(ss, method)) %>%  \n",
    "        pivot_wider(names_from = score, values_from = R2)\n",
    "\n",
    "c %>% group_by(anc, type) %>% \n",
    "        mutate(prop_diffL = (prscsx - anc_specL)/anc_specL, prop_diffP = (prscsx - anc_specP)/anc_specP) %>%  \n",
    "        summarize(mean(prop_diffL), mean(prop_diffP))\n",
    "\n",
    "print(\"PRScsx v ancestry specific\")\n",
    "c %>% group_by(anc) %>% mutate(prop_diffL = (prscsx - anc_specL)/anc_specL, prop_diffP = (prscsx - anc_specP)/anc_specP) %>%  \n",
    "      summarize(mean(prop_diffL), mean(prop_diffP))\n",
    "\n",
    "print(\"PRScsx v ancestry specific wo Phe_428_1, only reporting for amr pop\")\n",
    "c %>% group_by(anc) %>% filter(phecode != \"Phe_428_1\", anc == \"amr\") %>% mutate(prop_diffL = (prscsx - anc_specL)/anc_specL, prop_diffP = (prscsx - anc_specP)/anc_specP) %>%  \n",
    "      summarize(mean(prop_diffL), mean(prop_diffP))"
   ]
  },
  {
   "cell_type": "code",
   "execution_count": null,
   "id": "57",
   "metadata": {},
   "outputs": [],
   "source": [
    "a1 <- fread(\"dat_binary_unrelated_refactored_PCagesex_b.txt\") \n",
    "a1 %>% filter(phecode == \"Phe_428_1\", anc == \"amr\", score == \"HISss_AMRld_auto\" | score == \"prscsx\")"
   ]
  },
  {
   "cell_type": "code",
   "execution_count": null,
   "id": "58",
   "metadata": {},
   "outputs": [],
   "source": [
    "a1 <- fread(\"dat_binary_unrelated_refactored_PCagesex_subpopPCs.txt\") \n",
    "a1 %>% filter(phecode == \"Phe_428_1\", anc == \"amr\", score == \"HISss_AMRld_auto\" | score == \"prscsx\")"
   ]
  },
  {
   "cell_type": "markdown",
   "id": "59",
   "metadata": {},
   "source": [
    "### Comparing Multi to Single: PRS-CSx v ancestry-specific: Using Coranova"
   ]
  },
  {
   "cell_type": "code",
   "execution_count": null,
   "id": "60",
   "metadata": {},
   "outputs": [],
   "source": [
    "contrast_x_single <- matrix(c(1, -1, 0, 0, 0, 0, 0, 0, 0, 0, 0, 0, \n",
    "                                 0, 0, 0, 0, 1, 0, -1, 0, 0, 0, 0, 0,\n",
    "                                 0, 0, 0, 0, 0, 0, 0, 0, 1, 0, 0, -1), byrow = T, ncol = 12, nrow = 3)\n",
    "contrast_x_single_aframr <- matrix(c(1, -1, 0, 0, 0, 0, 0, 0,\n",
    "                                 0, 0, 0, 0, 1, 0, -1, 0), byrow = T, ncol = 8, nrow = 2)\n",
    "\n",
    "score_to_comp <- \"x_score5\"\n"
   ]
  },
  {
   "cell_type": "code",
   "execution_count": null,
   "id": "61",
   "metadata": {},
   "outputs": [],
   "source": [
    "contrast_x_single"
   ]
  },
  {
   "cell_type": "markdown",
   "id": "62",
   "metadata": {
    "code_folding": []
   },
   "source": [
    "#### contrast x with PRS-CS ancestry-spec"
   ]
  },
  {
   "cell_type": "code",
   "execution_count": null,
   "id": "63",
   "metadata": {},
   "outputs": [],
   "source": [
    "print(\"hemo\")\n",
    "# x sig better (p = 7e-6)\n",
    "perform_alt_test(hemo_list[c(\"afr\", \"amr\", \"eur\")], \n",
    "                     \"mean\", \n",
    "                     c(score_to_comp, paste0(\"prscs_score\", 4:6)),\n",
    "                    contrast_x_single, \"parametric\", TRUE)\n",
    "\n",
    "perform_alt_test(hemo_list[c(\"afr\", \"amr\")],  #p = 8.2e-06\n",
    "                     \"mean\", \n",
    "                     c(score_to_comp, paste0(\"prscs_score\", 4:6)),\n",
    "                    contrast_x_single_aframr, \"parametric\", TRUE)"
   ]
  },
  {
   "cell_type": "code",
   "execution_count": null,
   "id": "64",
   "metadata": {},
   "outputs": [],
   "source": [
    "print(\"height\")\n",
    "# x sig better (p =3.4e-255)\n",
    "perform_alt_test(height_list[c(\"afr\", \"amr\", \"eur\")], \n",
    "                     \"mean\", \n",
    "                     c(score_to_comp, paste0(\"prscs_score\", 4:6)),\n",
    "                    contrast_x_single, \"parametric\", TRUE)\n",
    "\n",
    "perform_alt_test(height_list[c(\"afr\", \"amr\")],  #p = 2.9e-251\n",
    "                     \"mean\", \n",
    "                     c(score_to_comp, paste0(\"prscs_score\", 4:6)),\n",
    "                    contrast_x_single_aframr, \"parametric\", TRUE)"
   ]
  },
  {
   "cell_type": "code",
   "execution_count": null,
   "id": "65",
   "metadata": {},
   "outputs": [],
   "source": [
    "print(\"sbp\")\n",
    "# overall (p = 1e-42), eur better but not sig so\n",
    "perform_alt_test(sbp_list[c(\"afr\", \"amr\", \"eur\")], \n",
    "                     \"mean\", \n",
    "                     c(score_to_comp, paste0(\"prscs_score\", 4:6)),\n",
    "                    contrast_x_single, \"parametric\", TRUE)\n",
    "perform_coranova_parametric(sbp_list[c(\"eur\")],  #pW = 0.56\n",
    "                     \"mean\", \n",
    "                     c(\"x_score5\", paste0(\"prscs_score6\")))\n",
    "perform_alt_test(sbp_list[c(\"afr\", \"amr\")],  #p = 1.1e-43\n",
    "                     \"mean\", \n",
    "                     c(score_to_comp, paste0(\"prscs_score\", 4:6)),\n",
    "                    contrast_x_single_aframr, \"parametric\", TRUE)"
   ]
  },
  {
   "cell_type": "code",
   "execution_count": null,
   "id": "66",
   "metadata": {},
   "outputs": [],
   "source": [
    "print(\"bmi\")\n",
    "#overall p = 1.9e-166\n",
    "#x better or equiv (EUR-only pW = 0.4)\n",
    "perform_alt_test(bmi_list[c(\"afr\", \"amr\", \"eur\")], \n",
    "                     \"mean\", \n",
    "                     c(score_to_comp, paste0(\"prscs_score\", 4:6)),\n",
    "                    contrast_x_single, \"parametric\", TRUE)\n",
    "perform_coranova_parametric(bmi_list[c(\"eur\")], \n",
    "                     \"mean\", \n",
    "                     c(\"x_score5\", paste0(\"prscs_score6\")))\n",
    "perform_alt_test(bmi_list[c(\"afr\", \"amr\")], #1.17e-167\n",
    "                 \"mean\",\n",
    "                 c(score_to_comp, paste0(\"prscs_score\", 4:6)), \n",
    "                 contrast_x_single_aframr, \"parametric\", TRUE)"
   ]
  },
  {
   "cell_type": "code",
   "execution_count": null,
   "id": "67",
   "metadata": {},
   "outputs": [],
   "source": [
    "print(\"ldl\")\n",
    "#x sig better (p = 1.5e-14)\n",
    "perform_alt_test(ldl_list[c(\"afr\", \"amr\", \"eur\")], \n",
    "                     \"mean\", \n",
    "                     c(score_to_comp, paste0(\"prscs_score\", 4:6)),\n",
    "                    contrast_x_single, \"parametric\", TRUE)\n",
    "perform_alt_test(ldl_list[c(\"afr\", \"amr\")], #6e-09\n",
    "                 \"mean\",\n",
    "                 c(score_to_comp, paste0(\"prscs_score\", 4:6)), \n",
    "                 contrast_x_single_aframr, \"parametric\", TRUE)"
   ]
  },
  {
   "cell_type": "code",
   "execution_count": null,
   "id": "68",
   "metadata": {},
   "outputs": [],
   "source": [
    "#Just among Europeans, comparing PRS-CSx to EUR-specific PRS-CS score\n",
    "perform_coranova_parametric(bmi_list[c(\"eur\")], \n",
    "                     \"mean\", \n",
    "                     c(\"x_score5\", paste0(\"prscs_score6\"))) #eur better, but equiv p = 0.4\n",
    "perform_coranova_parametric(sbp_list[c(\"eur\")], \n",
    "                     \"mean\", \n",
    "                     c(\"x_score5\", paste0(\"prscs_score6\"))) # eur better, but equiv p = 0.6\n",
    "\n",
    "perform_coranova_parametric(ldl_list[c(\"eur\")],  #prscs-x better p= 5.6e-08\n",
    "                     \"mean\", \n",
    "                     c(\"x_score5\", paste0(\"prscs_score6\")))\n",
    "\n",
    "perform_coranova_parametric(hemo_list[c(\"eur\")],  #prscs-x better equiv 0.07\n",
    "                     \"mean\", \n",
    "                     c(\"x_score5\", paste0(\"prscs_score6\")))\n",
    "perform_coranova_parametric(height_list[c(\"eur\")],  #prscs-x better 6.7e-07\n",
    "                     \"mean\", \n",
    "                     c(\"x_score5\", paste0(\"prscs_score6\")))"
   ]
  },
  {
   "cell_type": "markdown",
   "id": "69",
   "metadata": {},
   "source": [
    "#### contrast x with LDp ancestry-spec"
   ]
  },
  {
   "cell_type": "code",
   "execution_count": null,
   "id": "70",
   "metadata": {},
   "outputs": [],
   "source": [
    "#contrast x with LDp\n",
    "\n",
    "# x sig better for all, p < 1.3e-16\n",
    "perform_alt_test(hemo_list[c(\"afr\", \"amr\", \"eur\")], \n",
    "                     \"mean\", \n",
    "                     c(score_to_comp, paste0(\"ldp_auto\", 4:6)),\n",
    "                    contrast_x_single, \"parametric\", TRUE)\n",
    "\n",
    "perform_alt_test(height_list[c(\"afr\", \"amr\", \"eur\")], \n",
    "                     \"mean\", \n",
    "                     c(score_to_comp, paste0(\"ldp_auto\", 4:6)),\n",
    "                    contrast_x_single, \"parametric\", TRUE)\n",
    "\n",
    "perform_alt_test(sbp_list[c(\"afr\", \"amr\", \"eur\")], \n",
    "                     \"mean\", \n",
    "                     c(score_to_comp, paste0(\"ldp_auto\", 4:6)),\n",
    "                    contrast_x_single, \"parametric\", TRUE)\n",
    "\n",
    "perform_alt_test(bmi_list[c(\"afr\", \"amr\", \"eur\")], \n",
    "                     \"mean\", \n",
    "                     c(score_to_comp, paste0(\"ldp_auto\", 4:6)),\n",
    "                    contrast_x_single, \"parametric\", TRUE)\n",
    "\n",
    "perform_alt_test(ldl_list[c(\"afr\", \"amr\", \"eur\")], \n",
    "                     \"mean\", \n",
    "                     c(score_to_comp, paste0(\"ldp_auto\", 4:6)),\n",
    "                    contrast_x_single, \"parametric\", TRUE)"
   ]
  },
  {
   "cell_type": "markdown",
   "id": "71",
   "metadata": {},
   "source": [
    "#### Compute pairwise prs-csx vs ancestry-specific "
   ]
  },
  {
   "cell_type": "code",
   "execution_count": null,
   "id": "72",
   "metadata": {},
   "outputs": [],
   "source": [
    "get_pairwise_x_v_ancestry <- function(trait_list, trait_name, method){\n",
    "    if(method == \"ldp\"){\n",
    "    afr <- perform_coranova_parametric(trait_list[c(\"afr\")], \"mean\",  c(score_to_comp, paste0(\"ldp_auto4\")))\n",
    "    eur <- perform_coranova_parametric(trait_list[c(\"eur\")], \"mean\",  c(score_to_comp, paste0(\"ldp_auto6\")))\n",
    "    amr <- perform_coranova_parametric(trait_list[c(\"amr\")], \"mean\",  c(score_to_comp, paste0(\"ldp_auto5\")))\n",
    "    }else{\n",
    "    afr <- perform_coranova_parametric(trait_list[c(\"afr\")], \"mean\",  c(score_to_comp, paste0(\"prscs_score4\")))\n",
    "    eur <- perform_coranova_parametric(trait_list[c(\"eur\")], \"mean\",  c(score_to_comp, paste0(\"prscs_score6\")))\n",
    "    amr <- perform_coranova_parametric(trait_list[c(\"amr\")], \"mean\",  c(score_to_comp, paste0(\"prscs_score5\")))    \n",
    "    }\n",
    "    afr$pop <- \"afr\"; eur$pop <- \"eur\"; amr$pop <- \"amr\"\n",
    "    trait <- rbind(as.data.frame(afr[c(\"pW\", \"diff\", \"pop\")]),\n",
    "                   as.data.frame(amr[c(\"pW\", \"diff\", \"pop\")]), \n",
    "                   as.data.frame(eur[c(\"pW\", \"diff\", \"pop\")]))\n",
    "    trait$outcome <- trait_name\n",
    "    trait$method <- method\n",
    "    return(trait)\n",
    "}"
   ]
  },
  {
   "cell_type": "code",
   "execution_count": null,
   "id": "73",
   "metadata": {},
   "outputs": [],
   "source": [
    "hemo <- get_pairwise_x_v_ancestry(hemo_list, \"hemo\", \"ldp\")\n",
    "height <- get_pairwise_x_v_ancestry(height_list, \"height\", \"ldp\")\n",
    "sbp <- get_pairwise_x_v_ancestry(sbp_list, \"sbp\", \"ldp\")\n",
    "ldl <- get_pairwise_x_v_ancestry(ldl_list, \"ldl\", \"ldp\")\n",
    "bmi <- get_pairwise_x_v_ancestry(bmi_list, \"bmi\", \"ldp\")\n",
    "pairwise_x_v_ancestry_ldp <- rbind(hemo, height, sbp, ldl, bmi)\n",
    "\n",
    "hemo <- get_pairwise_x_v_ancestry(hemo_list, \"hemo\", \"prscs\")\n",
    "height <- get_pairwise_x_v_ancestry(height_list, \"height\", \"prscs\")\n",
    "sbp <- get_pairwise_x_v_ancestry(sbp_list, \"sbp\", \"prscs\")\n",
    "ldl <- get_pairwise_x_v_ancestry(ldl_list, \"ldl\", \"prscs\")\n",
    "bmi <- get_pairwise_x_v_ancestry(bmi_list, \"bmi\", \"prscs\")\n",
    "\n",
    "pairwise_x_v_ancestry <- rbind(pairwise_x_v_ancestry_ldp, hemo, height, sbp, ldl, bmi)"
   ]
  },
  {
   "cell_type": "code",
   "execution_count": null,
   "id": "74",
   "metadata": {},
   "outputs": [],
   "source": [
    "pairwise_x_v_ancestry %>% filter(diff < 0) #only time pairwise diff is negative, not significantly different"
   ]
  },
  {
   "cell_type": "markdown",
   "id": "75",
   "metadata": {},
   "source": [
    "## Comparing Multi to Single: mean of meta v ancestry-specific\n"
   ]
  },
  {
   "cell_type": "markdown",
   "id": "76",
   "metadata": {},
   "source": [
    "### Estimating difference between mmPGS are to ancestry-specific PGS "
   ]
  },
  {
   "cell_type": "markdown",
   "id": "77",
   "metadata": {},
   "source": [
    "#### Estimating difference between mmPGS are to ancestry-specific PGS with correlation"
   ]
  },
  {
   "cell_type": "code",
   "execution_count": null,
   "id": "78",
   "metadata": {},
   "outputs": [],
   "source": [
    "a <- rbind(hemo_cormat_df, height_cormat_df, ldl_cormat_df, sbp_cormat_df, bmi_cormat_df)\n",
    "a <- a %>% mutate(prscs_META_avg = (prscs_META_afr + prscs_META_amr + prscs_META_eur)/3, \n",
    "             ldpred_META_avg = (ldpred_METAss_afrld_auto + ldpred_METAss_amrld_auto + ldpred_METAss_eurld_auto)/3)\n",
    "b <- a %>% select(outcome, anc, prscs_META_avg, ldpred_META_avg , contains(c(\"AFR\", \"HIS\", \"EUR\"), ignore.case = FALSE))\n",
    "\n",
    "c <- b %>% pivot_longer(cols = contains(c(\"AFR\", \"HIS\", \"EUR\")), names_to = \"anc_score\", values_to = \"anc_score2\") %>%  \n",
    "  filter(anc == \"afr\" & grepl(\"AFR\", anc_score) | anc == \"eur\" & grepl(\"EUR\", anc_score) | anc == \"amr\" & grepl(\"HIS\", anc_score))\n"
   ]
  },
  {
   "cell_type": "code",
   "execution_count": null,
   "id": "79",
   "metadata": {},
   "outputs": [],
   "source": [
    "c_prscs <- c %>% filter( grepl(\"prscs\", anc_score)) %>% select(!ldpred_META_avg) %>% mutate(method = \"prscs\")\n",
    "c_ldp <- c %>% filter( grepl(\"ldpred\", anc_score)) %>% select(!prscs_META_avg)%>% mutate(method = \"ldpred\")"
   ]
  },
  {
   "cell_type": "code",
   "execution_count": null,
   "id": "80",
   "metadata": {},
   "outputs": [],
   "source": [
    "colnames(c_prscs) <- c(\"outcome\", \"anc\", \"META_avg\", \"a\", \"anc_spec\", \"method\")\n",
    "colnames(c_ldp) <- c(\"outcome\", \"anc\", \"META_avg\", \"a\", \"anc_spec\", \"method\")\n",
    "d <- rbind(c_prscs %>% select(!a), c_ldp %>% select(!a))  %>% mutate(diff = META_avg - anc_spec, prop_diff = (META_avg - anc_spec)/anc_spec)\n",
    "d %>% group_by( method, anc) %>% summarize(mean(diff), mean(prop_diff))"
   ]
  },
  {
   "cell_type": "markdown",
   "id": "81",
   "metadata": {},
   "source": [
    "#### Estimating difference between mmPGS are to ancestry-specific PGS with R2"
   ]
  },
  {
   "cell_type": "code",
   "execution_count": null,
   "id": "82",
   "metadata": {},
   "outputs": [],
   "source": [
    "a <- fread(\"dat_continuous_unrelated_refactored_PCagesex_subpopPCs.txt\")\n",
    "b <- a %>% filter(anc %in% c(\"afr\", \"amr\",\"eur\"), phecode != \"basophils\") %>% \n",
    " filter(ss != \"prscsx\") %>% group_by(phecode,anc, method, ss) %>%  \n",
    "summarize(mean(R2)) %>% pivot_wider(names_from = ss, values_from = `mean(R2)`)  %>% \n",
    "pivot_longer(cols = contains(c(\"AFR\", \"HIS\", \"EUR\")), names_to = \"anc_score\", values_to = \"anc_score2\") %>%  \n",
    "  filter(anc == \"afr\" & grepl(\"AFR\", anc_score) | anc == \"eur\" & grepl(\"EUR\", anc_score) | anc == \"amr\" & grepl(\"HIS\", anc_score))\n",
    "\n",
    "#just continuous comparing avg of meta to ancestry-specific\n",
    "b %>% \n",
    "mutate(diff = META - anc_score2, prop_diff = (META - anc_score2)/anc_score2) %>%  \n",
    "group_by(method, anc) %>% summarize(mean(diff), mean(prop_diff)) "
   ]
  },
  {
   "cell_type": "code",
   "execution_count": null,
   "id": "83",
   "metadata": {},
   "outputs": [],
   "source": [
    "a1 <- fread(\"dat_binary_unrelated_refactored_PCagesex_subpopPCs.txt\") \n",
    "b1 <- a1 %>% filter(anc %in% c(\"afr\", \"amr\",\"eur\"), phecode != \"Phe_250_1\") %>% \n",
    "select(!c(cases, controls, score, score2, score1, R2_type, traits, names)) %>%  \n",
    "filter(ss != \"prscsx\") %>% group_by(phecode, anc, method, ss) %>%  \n",
    "summarize(mean(R2)) %>% pivot_wider(names_from = ss, values_from = `mean(R2)`)%>% \n",
    "pivot_longer(cols = contains(c(\"AFR\", \"HIS\", \"EUR\")), names_to = \"anc_score\", values_to = \"anc_score2\") %>%  \n",
    "  filter(anc == \"afr\" & grepl(\"AFR\", anc_score) | anc == \"eur\" & grepl(\"EUR\", anc_score) | anc == \"amr\" & grepl(\"HIS\", anc_score))\n",
    "\n",
    "#just binary comparimg avg of meta to ancestry-specific\n",
    "b1 %>% \n",
    "mutate(diff = META - anc_score2, prop_diff = (META - anc_score2)/anc_score2) %>%  \n",
    "group_by( method, anc) %>% summarize(mean(diff), mean(prop_diff)) "
   ]
  },
  {
   "cell_type": "code",
   "execution_count": null,
   "id": "84",
   "metadata": {},
   "outputs": [],
   "source": [
    "#binary + continuous comparimg avg of meta to ancestry-specific\n",
    "#in results\n",
    "rbind(b, b1) %>% \n",
    "mutate(diff = META - anc_score2, prop_diff = (META - anc_score2)/anc_score2) %>%  \n",
    "group_by( method, anc) %>% summarize(mean(diff), mean(prop_diff)) \n",
    "\n",
    "rbind(b, b1) %>% \n",
    "filter(phecode != \"Phe_428_1\", anc == \"amr\")%>% \n",
    "mutate(diff = META - anc_score2, prop_diff = (META - anc_score2)/anc_score2) %>%  \n",
    "group_by( method, anc) %>% summarize(mean(diff), mean(prop_diff)) "
   ]
  },
  {
   "cell_type": "markdown",
   "id": "85",
   "metadata": {},
   "source": [
    "### Comparing Multi to Single: mean of meta v ancestry-specific: Using Coranova"
   ]
  },
  {
   "cell_type": "code",
   "execution_count": null,
   "id": "86",
   "metadata": {},
   "outputs": [],
   "source": [
    "#all three ancestry groups\n",
    "A <- matrix(c( 1/3, 1/3, 1/3, -1, 0, 0, rep(0,6), rep(0,6),\n",
    "               rep(0,6), 1/3, 1/3, 1/3, 0, -1, 0, rep(0,6),\n",
    "                rep(0,6), rep(0,6), 1/3, 1/3, 1/3, 0, 0, -1), byrow = T, ncol = 18, nrow = 3)\n",
    "#only. AMR and AFR\n",
    "B <- matrix(c( 1/3, 1/3, 1/3, -1, 0, 0, rep(0,6),\n",
    "               rep(0,6), 1/3, 1/3, 1/3, 0, -1, 0), byrow = T, ncol = 12, nrow = 2)\n",
    "\n",
    "#only. EUR\n",
    "C <- matrix(c( 1/3, 1/3, 1/3, 0, 0, -1), byrow = T, ncol = 6, nrow = 1)\n",
    "\n",
    "E <- matrix(c( 1/3, 1/3, 1/3, -1), byrow = T, ncol = 4, nrow = 1)\n",
    "\n",
    "A_bothmethods <-  matrix(c( 1/3, 1/3, 1/3, -1, 0, 0,  1/3, 1/3, 1/3, -1, 0, 0, rep(0,12), rep(0,12),\n",
    "               rep(0,12), 1/3, 1/3, 1/3, 0, -1, 0, 1/3, 1/3, 1/3, 0, -1, 0, rep(0,12),\n",
    "                rep(0,12), rep(0,12), 1/3, 1/3, 1/3, 0, 0, -1, 1/3, 1/3, 1/3, 0, 0, -1), byrow = T, ncol = 36, nrow = 3)"
   ]
  },
  {
   "cell_type": "code",
   "execution_count": null,
   "id": "87",
   "metadata": {},
   "outputs": [],
   "source": [
    "print(\"hemo\")\n",
    "#mean is sig better in AFR and AMR (p = 7.8e-05) , \n",
    "#ancestry is sig better in EUR with p 0.02\n",
    "perform_alt_test(hemo_list[c(\"afr\", \"amr\", \"eur\")], \n",
    "                 \"mean\", \n",
    "                 c(paste0(\"prscs_score\", 1:6)),\n",
    "                 A, \"parametric\", TRUE) #overall p 2e-05\n",
    "perform_alt_test(hemo_list[c(\"afr\", \"amr\")], \n",
    "                 \"mean\", c(paste0(\"prscs_score\", 1:6)),\n",
    "                 B, \"parametric\", TRUE) #7.8e-05\n",
    "perform_alt_test(hemo_list[c(\"eur\")], \n",
    "                 \"mean\", c(paste0(\"prscs_score\", 1:3), \"prscs_score6\"),\n",
    "                 E, \"parametric\", TRUE) #comparing mean to eur score #0.017"
   ]
  },
  {
   "cell_type": "code",
   "execution_count": null,
   "id": "88",
   "metadata": {},
   "outputs": [],
   "source": [
    "print(\"bmi\")\n",
    "#mean is sig better in AFR and AMR (p = 7.5e-179), \n",
    "#ancestry is sig better in EUR p 1.5e-54\n",
    "perform_alt_test(bmi_list[c(\"afr\", \"amr\", \"eur\")], \n",
    "                 \"mean\", c(paste0(\"prscs_score\", 1:6)),\n",
    "                 A, \"parametric\", TRUE) #overall p  7.5e-179\n",
    "perform_alt_test(bmi_list[c(\"afr\", \"amr\")], \n",
    "                 \"mean\", c(paste0(\"prscs_score\", 1:6)),\n",
    "                 B, \"parametric\", TRUE) #1.1e-127\n",
    "perform_alt_test(bmi_list[c(\"eur\")], \n",
    "                 \"mean\", c(paste0(\"prscs_score\", 1:3), \"prscs_score6\"),\n",
    "                 E, \"parametric\", TRUE) #1.5e-54"
   ]
  },
  {
   "cell_type": "code",
   "execution_count": null,
   "id": "89",
   "metadata": {},
   "outputs": [],
   "source": [
    "print(\"ldl\")\n",
    "#mean is sig better in AFR and AMR (p = 0.0003) , equiv in EUR (p = 0.95)\n",
    "perform_alt_test(ldl_list[c(\"afr\", \"amr\", \"eur\")], #0.001\n",
    "                 \"mean\", c(paste0(\"prscs_score\", 1:6)),A, \"parametric\", TRUE)\n",
    "perform_alt_test(ldl_list[c(\"afr\", \"amr\")],  #0.0003\n",
    "                 \"mean\", c(paste0(\"prscs_score\", 1:6)), B, \"parametric\", TRUE)\n",
    "perform_alt_test(ldl_list[c(\"eur\")],  #0.95\n",
    "                 \"mean\", c(paste0(\"prscs_score\", 1:3), \"prscs_score6\"), E, \"parametric\", TRUE)"
   ]
  },
  {
   "cell_type": "code",
   "execution_count": null,
   "id": "90",
   "metadata": {},
   "outputs": [],
   "source": [
    "print(\"sbp\")\n",
    "#mean is sig better in AFR and AMR (2.02e-21) , \n",
    "#ancestry is sig better in EUR (p = 8.2e-30)\n",
    "perform_alt_test(sbp_list[c(\"afr\", \"amr\", \"eur\")], \n",
    "                 \"mean\", \n",
    "                 c(paste0(\"prscs_score\", 1:6)), A, \"parametric\", TRUE) #overall p 2.8e-48\n",
    "perform_alt_test(sbp_list[c(\"afr\", \"amr\")],  #2.02e-21\n",
    "                 \"mean\",  \n",
    "                 c(paste0(\"prscs_score\", 1:6)), B, \"parametric\", TRUE)\n",
    "perform_alt_test(sbp_list[c(\"eur\")], #8.2e-30\n",
    "                 \"mean\", \n",
    "                 c(paste0(\"prscs_score\", 1:3), \"prscs_score6\"), E, \"parametric\", TRUE)"
   ]
  },
  {
   "cell_type": "code",
   "execution_count": null,
   "id": "91",
   "metadata": {},
   "outputs": [],
   "source": [
    "print(\"height\")\n",
    "#mean is sig better in AFR and AMR (p =7e-28) ,  \n",
    "#ancestry is sig better in EUR (p = 0)\n",
    "perform_alt_test(height_list[c(\"afr\", \"amr\", \"eur\")], #0\n",
    "                 \"mean\", c(paste0(\"prscs_score\", 1:6)),A, \"parametric\", TRUE)\n",
    "\n",
    "perform_alt_test(height_list[c(\"afr\", \"amr\")], #7e-28\n",
    "                 \"mean\", c(paste0(\"prscs_score\", 1:6)),B, \"parametric\", TRUE)\n",
    "\n",
    "\n",
    "perform_alt_test(height_list[c(\"eur\")],  #0\n",
    "                 \"mean\", \n",
    "                 c(paste0(\"prscs_score\", 1:3), \"prscs_score6\"), E, \"parametric\", TRUE)"
   ]
  },
  {
   "cell_type": "code",
   "execution_count": null,
   "id": "92",
   "metadata": {},
   "outputs": [],
   "source": [
    "#meta LDp is significantly better than single for all traits\n",
    "perform_alt_test(hemo_list[c(\"afr\", \"amr\", \"eur\")], \n",
    "                 \"mean\", c(paste0(\"ldp_auto\", 1:6)),A, \"parametric\", TRUE) #1.6e-06\n",
    "perform_alt_test(height_list[c(\"afr\", \"amr\", \"eur\")], \n",
    "                 \"mean\", c(paste0(\"ldp_auto\", 1:6)),A, \"parametric\", TRUE) #4.7e-57\n",
    "perform_alt_test(bmi_list[c(\"afr\", \"amr\", \"eur\")], \n",
    "                 \"mean\", c(paste0(\"ldp_auto\", 1:6)),A, \"parametric\", TRUE) #6.2e-96\n",
    "perform_alt_test(sbp_list[c(\"afr\", \"amr\", \"eur\")], \n",
    "                 \"mean\", c(paste0(\"ldp_auto\", 1:6)),A, \"parametric\", TRUE) #7.5e-24\n",
    "perform_alt_test(ldl_list[c(\"afr\", \"amr\", \"eur\")], \n",
    "                 \"mean\", c(paste0(\"ldp_auto\", 1:6)),A, \"parametric\", TRUE) #6.9e-10\n",
    "\n"
   ]
  }
 ],
 "metadata": {
  "kernelspec": {
   "display_name": "R",
   "language": "R",
   "name": "ir"
  },
  "language_info": {
   "codemirror_mode": "r",
   "file_extension": ".r",
   "mimetype": "text/x-r-source",
   "name": "R",
   "pygments_lexer": "r",
   "version": "4.4.0"
  },
  "toc": {
   "base_numbering": 1,
   "nav_menu": {},
   "number_sections": true,
   "sideBar": true,
   "skip_h1_title": false,
   "title_cell": "Table of Contents",
   "title_sidebar": "Contents",
   "toc_cell": false,
   "toc_position": {},
   "toc_section_display": true,
   "toc_window_display": false
  }
 },
 "nbformat": 4,
 "nbformat_minor": 5
}
