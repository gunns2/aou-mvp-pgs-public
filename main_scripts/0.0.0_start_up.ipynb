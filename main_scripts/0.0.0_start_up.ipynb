{
 "cells": [
  {
   "cell_type": "markdown",
   "id": "0",
   "metadata": {},
   "source": [
    "Bring in computed scores:"
   ]
  },
  {
   "cell_type": "code",
   "execution_count": null,
   "id": "1",
   "metadata": {},
   "outputs": [],
   "source": [
    "#!gsutil cp -r gs://fc-secure-bc2fd5b9-ef9a-455d-a3d8-51eb5469ed79/computed_scores ."
   ]
  },
  {
   "cell_type": "code",
   "execution_count": null,
   "id": "2",
   "metadata": {},
   "outputs": [],
   "source": [
    "!ls ~/home/jupyter/packages/coranova/R/"
   ]
  },
  {
   "cell_type": "code",
   "execution_count": null,
   "id": "3",
   "metadata": {},
   "outputs": [],
   "source": [
    "!rm -r comparisons_binary"
   ]
  },
  {
   "cell_type": "markdown",
   "id": "4",
   "metadata": {},
   "source": [
    "Bring in pheno files:"
   ]
  },
  {
   "cell_type": "code",
   "execution_count": null,
   "id": "5",
   "metadata": {},
   "outputs": [],
   "source": [
    "!gsutil cp gs://fc-secure-3f7876b9-da74-4f9d-98fb-b7268fb807a8/AoU_98K/phenotype/AoU_98K_covariates.tsv.gz .\n",
    "!gunzip AoU_98K_covariates.tsv.gz\n",
    "!gsutil cp gs://fc-secure-bc2fd5b9-ef9a-455d-a3d8-51eb5469ed79/icd_cohort_processed.txt.gz .\n",
    "!gunzip icd_cohort_processed.txt.gz\n",
    "!gsutil cp  gs://fc-secure-bc2fd5b9-ef9a-455d-a3d8-51eb5469ed79/*R .\n",
    "!gsutil cp gs://fc-secure-bc2fd5b9-ef9a-455d-a3d8-51eb5469ed79/self_report_demographics.txt ."
   ]
  },
  {
   "cell_type": "code",
   "execution_count": null,
   "id": "6",
   "metadata": {},
   "outputs": [],
   "source": [
    "!gsutil cp -r gs://fc-secure-bc2fd5b9-ef9a-455d-a3d8-51eb5469ed79/outcomes ."
   ]
  },
  {
   "cell_type": "code",
   "execution_count": null,
   "id": "7",
   "metadata": {},
   "outputs": [],
   "source": [
    "!grep 'prscs_R2liab2_nocov_unrel_res.txt' *.ipynb"
   ]
  },
  {
   "cell_type": "code",
   "execution_count": null,
   "id": "8",
   "metadata": {},
   "outputs": [],
   "source": [
    "!head computed_scores/mean_Systolic_INT_PRScs.txt"
   ]
  }
 ],
 "metadata": {
  "kernelspec": {
   "display_name": "Python 3",
   "language": "python",
   "name": "python3"
  },
  "language_info": {
   "codemirror_mode": {
    "name": "ipython",
    "version": 3
   },
   "file_extension": ".py",
   "mimetype": "text/x-python",
   "name": "python",
   "nbconvert_exporter": "python",
   "pygments_lexer": "ipython3",
   "version": "3.10.12"
  },
  "toc": {
   "base_numbering": 1,
   "nav_menu": {},
   "number_sections": true,
   "sideBar": true,
   "skip_h1_title": false,
   "title_cell": "Table of Contents",
   "title_sidebar": "Contents",
   "toc_cell": false,
   "toc_position": {},
   "toc_section_display": true,
   "toc_window_display": false
  }
 },
 "nbformat": 4,
 "nbformat_minor": 5
}
