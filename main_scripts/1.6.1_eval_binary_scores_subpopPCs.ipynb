{
 "cells": [
  {
   "cell_type": "code",
   "execution_count": null,
   "metadata": {},
   "outputs": [],
   "source": [
    "library(stringr)\n",
    "library(data.table)\n",
    "library(dplyr)\n",
    "library(DescTools)"
   ]
  },
  {
   "cell_type": "code",
   "execution_count": null,
   "metadata": {},
   "outputs": [],
   "source": [
    "source(\"eval_functions_refactored.R\")"
   ]
  },
  {
   "cell_type": "code",
   "execution_count": null,
   "metadata": {},
   "outputs": [],
   "source": [
    "covars <- fread(\"AoU_98K_covariates.tsv\")\n",
    "icd <- fread(\"icd_cohort_processed.txt\")\n",
    "colnames(icd)[2:1854] <- paste0(\"Phe_\", str_replace(colnames(icd)[2:1854], \"\\\\.\", \"_\"))\n",
    "head(colnames(icd))\n",
    "sire <- fread(\"self_report_demographics.txt\")\n",
    "\n",
    "subpopPCs <- fread(\"2024-05-31_global_subpop_v2_gnomad-AoU-PCs-in-AOU.tsv\")"
   ]
  },
  {
   "cell_type": "code",
   "execution_count": null,
   "metadata": {},
   "outputs": [],
   "source": [
    "dir <- \"comparisons_binary_refactored_naomit_10subpopPCs/\" #using!\n",
    "dir.create(dir)"
   ]
  },
  {
   "cell_type": "code",
   "execution_count": null,
   "metadata": {},
   "outputs": [],
   "source": [
    "phecodes <- c(\"Phe_428_1\", \"Phe_427_21\", \"Phe_411_2\", \"Phe_411_3\", \"Phe_250_2\")\n",
    "methods <- c(\"LDpred\", \"PRScs\", \"PRScsx\")"
   ]
  },
  {
   "cell_type": "code",
   "execution_count": null,
   "metadata": {},
   "outputs": [],
   "source": [
    "colnames(dat)"
   ]
  },
  {
   "cell_type": "code",
   "execution_count": null,
   "metadata": {},
   "outputs": [],
   "source": [
    "phecode <- \"Phe_428_1\"\n",
    "method <- \"LDpred\"\n",
    "\n",
    "score_data <- fread(paste0(\"computed_scores/\", phecode, \"_\", \n",
    "        method, \".txt\"))\n",
    "score_num <- length(colnames(score_data)) - 4\n",
    "dat <- icd %>% \n",
    "        select(\"person_id\", all_of(phecode)) %>% \n",
    "        left_join(covars) %>% \n",
    "        left_join(score_data, by = c(person_id = \"IID\")) %>% \n",
    "        left_join(subpopPCs %>% \n",
    "                  select(!c(ancestry_pred_other, \n",
    "                            contains(\"prob\"), \n",
    "                            contains(\"prev_global\"))), \n",
    "                  by = c(\"person_id\" = \"s\"))\n",
    "\n",
    "pop <- \"amr\"\n",
    "covs <- c(\"age\", \"is_male\", paste0(toupper(pop), \"_PC\", 1:10))\n",
    "#covs <- c(\"age\", \"is_male\", paste0(\"PC\", 1:10))\n",
    "dat_anc <- dat[dat$ancestry_pred_other == pop, ]\n",
    "dat_anc1 <- dat_anc %>% select(phecode, contains(\"SCORE\"), all_of(covs)) %>% na.omit()"
   ]
  },
  {
   "cell_type": "code",
   "execution_count": null,
   "metadata": {},
   "outputs": [],
   "source": [
    "i <- 10\n",
    "score_col <- paste0(\"SCORE\", i, \"_SUM\")\n",
    "model <- glm(as.formula(paste(phecode, paste(c(paste0(\"scale(\", \n",
    "                  score_col, \")\"), covs), collapse = \" + \"), \n",
    "                  sep = \" ~ \")), family = \"binomial\", data = dat_anc)\n",
    "summary(model)\n",
    "R2liab <- R2Liability(dat_anc, phecode, 10, covs)\n",
    "R2liab"
   ]
  },
  {
   "cell_type": "code",
   "execution_count": null,
   "metadata": {},
   "outputs": [],
   "source": []
  },
  {
   "cell_type": "code",
   "execution_count": null,
   "metadata": {},
   "outputs": [],
   "source": [
    "R2liab <- R2Liability(dat_anc, phecode, NA, covs)\n",
    "R2liab"
   ]
  },
  {
   "cell_type": "code",
   "execution_count": null,
   "metadata": {},
   "outputs": [],
   "source": [
    "compare_method_popprev_subpopPCs <- function (phecode, dir, method, age_sex = FALSE, sire = NULL) \n",
    "{\n",
    "    print(phecode)\n",
    "    score_data <- fread(paste0(\"computed_scores/\", phecode, \"_\", \n",
    "        method, \".txt\"))\n",
    "    score_num <- length(colnames(score_data)) - 4\n",
    "    dat <- icd %>% \n",
    "        select(\"person_id\", all_of(phecode)) %>% \n",
    "        left_join(covars) %>% \n",
    "        left_join(score_data, by = c(person_id = \"IID\")) %>% \n",
    "        left_join(subpopPCs %>% \n",
    "                  select(!c(ancestry_pred_other, \n",
    "                            contains(\"prob\"), \n",
    "                            contains(\"prev_global\"))), \n",
    "                  by = c(\"person_id\" = \"s\"))\n",
    "    \n",
    "    if (!is.null(sire)) {\n",
    "        dat <- dat %>% left_join(sire) %>% filter(unrel == 1)\n",
    "    }\n",
    "    else {\n",
    "        dat <- dat %>% filter(unrel == 1)\n",
    "    }\n",
    "    grouping_var <- \"ancestry_pred_other\"\n",
    "    grouping_name <- \"ancestry\"\n",
    "    if (age_sex) {\n",
    "        adj_level <- \"PCagesex-adj\"\n",
    "    }else{\n",
    "        adj_level <- \"PC-adj\"\n",
    "    }\n",
    "    \n",
    "    cstat_file <- paste0(dir, phecode, \"_\", method, \"_\", grouping_name, \n",
    "        \"_cstat_\", adj_level, \"_unrel.txt\")\n",
    "    beta_file <- paste0(dir, phecode, \"_\", method, \"_\", grouping_name, \n",
    "        \"_beta_\", adj_level, \"_unrel.txt\")\n",
    "    R2liab_file <- paste0(dir, phecode, \"_\", method, \"_\", grouping_name, \n",
    "        \"_R2liab_\", adj_level, \"_unrel.txt\")\n",
    "    print(cstat_file)\n",
    "    \n",
    "    for (pop in c(\"amr\", \"eur\", \"afr\")) {\n",
    "        if (age_sex) {\n",
    "            covs <- c(\"age\", \"is_male\", paste0(toupper(pop), \"_PC\", 1:20))\n",
    "        }\n",
    "        else {\n",
    "            covs <- paste0(toupper(pop), \"_PC\", 1:10)   \n",
    "        }\n",
    "        dat_anc <- dat[dat[[grouping_var]] == pop, ]\n",
    "        \n",
    "        dat_anc <- dat_anc %>% select(phecode, contains(\"SCORE\"), all_of(covs)) %>% na.omit()\n",
    "        \n",
    "        \n",
    "        ncases <- sum(dat_anc[[phecode]] == T, na.rm = T)\n",
    "        ncontrols <- sum(dat_anc[[phecode]] == F, na.rm = T)\n",
    "        print(pop)\n",
    "        print(ncases)\n",
    "        if (ncases > 100) {\n",
    "            \n",
    "            baseline <- glm(as.formula(paste(phecode, paste0(covs, \n",
    "                collapse = \"+\"), sep = \" ~ \")), family = \"binomial\", \n",
    "                data = dat_anc)\n",
    "            baseline_R2liab <- R2Liability(dat_anc, phecode, \n",
    "                NA, covs)\n",
    "            R2obs_values <- numeric(score_num)\n",
    "            R2liab_values <- numeric(score_num)\n",
    "            Cstat_values <- numeric(score_num)\n",
    "            for (i in 1:score_num) {\n",
    "                score_col <- paste0(\"SCORE\", i, \"_SUM\")\n",
    "                model <- glm(as.formula(paste(phecode, paste(c(paste0(\"scale(\", \n",
    "                  score_col, \")\"), covs), collapse = \" + \"), \n",
    "                  sep = \" ~ \")), family = \"binomial\", data = dat_anc)\n",
    "                write_beta_line(model, i, phecode, pop, beta_file)\n",
    "                R2liab <- R2Liability(dat_anc, phecode, i, covs)\n",
    "                R2obs_values[i] <- R2liab[1]\n",
    "                R2liab_values[i] <- R2liab[2]\n",
    "                Cstat_values[i] <- Cstat(model)\n",
    "            }\n",
    "            write(paste(phecode, pop, ncases, ncontrols, baseline_R2liab[1], \n",
    "                paste(R2obs_values, collapse = \";\"), sep = \";\"), \n",
    "                file = R2liab_file, append = TRUE)\n",
    "            write(paste(phecode, pop, ncases, ncontrols, baseline_R2liab[2], \n",
    "                paste(R2liab_values, collapse = \";\"), sep = \";\"), \n",
    "                file = R2liab_file, append = TRUE)\n",
    "            write(paste(phecode, pop, ncases, ncontrols, Cstat(baseline), \n",
    "                paste(Cstat_values, collapse = \";\"), sep = \";\"), \n",
    "                file = cstat_file, append = TRUE)\n",
    "        }\n",
    "    }\n",
    "}"
   ]
  },
  {
   "cell_type": "code",
   "execution_count": null,
   "metadata": {},
   "outputs": [],
   "source": [
    "for(method in methods){\n",
    "    sapply(phecodes, compare_method_popprev_subpopPCs, dir=dir, method = method, age_sex = TRUE)\n",
    "}"
   ]
  }
 ],
 "metadata": {
  "kernelspec": {
   "display_name": "R",
   "language": "R",
   "name": "ir"
  },
  "language_info": {
   "codemirror_mode": "r",
   "file_extension": ".r",
   "mimetype": "text/x-r-source",
   "name": "R",
   "pygments_lexer": "r",
   "version": "4.4.0"
  },
  "toc": {
   "base_numbering": 1,
   "nav_menu": {},
   "number_sections": true,
   "sideBar": true,
   "skip_h1_title": false,
   "title_cell": "Table of Contents",
   "title_sidebar": "Contents",
   "toc_cell": false,
   "toc_position": {},
   "toc_section_display": true,
   "toc_window_display": false
  }
 },
 "nbformat": 4,
 "nbformat_minor": 2
}
