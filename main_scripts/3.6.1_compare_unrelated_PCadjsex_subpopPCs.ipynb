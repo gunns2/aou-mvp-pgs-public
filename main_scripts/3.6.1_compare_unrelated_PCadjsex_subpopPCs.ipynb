{
 "cells": [
  {
   "cell_type": "code",
   "execution_count": null,
   "id": "0",
   "metadata": {},
   "outputs": [],
   "source": [
    "library(stringr)\n",
    "library(data.table)\n",
    "library(dplyr)\n",
    "library(patchwork)\n",
    "library(data.table)\n",
    "library(dplyr)\n",
    "library(ggplot2)\n",
    "library(forcats)\n",
    "library(stringr)\n",
    "library(tidyr)\n",
    "library(ggpattern)"
   ]
  },
  {
   "cell_type": "code",
   "execution_count": null,
   "id": "1",
   "metadata": {},
   "outputs": [],
   "source": [
    "source(\"eval_functions_refactored.R\")"
   ]
  },
  {
   "cell_type": "markdown",
   "id": "2",
   "metadata": {},
   "source": [
    "## Binary Traits"
   ]
  },
  {
   "cell_type": "code",
   "execution_count": null,
   "id": "3",
   "metadata": {},
   "outputs": [],
   "source": [
    "#dir <- comparisons_binary_refactored_naomit\n",
    "dir <- \"comparisons_binary_refactored_naomit_subpopPCs/\"\n",
    "\n",
    "#read in \"nocov\" results with only PCs adjusted for (no age and sex)\n",
    "R2_prscs_nocov <- combine_res(dir, \"*PRScs_ancestry_R2liab_PCagesex-adj_unrel.txt\") %>% unique()\n",
    "colnames(R2_prscs_nocov) <- c(\"phecode\", \"anc\", \"cases\", \"controls\", \"baseline\", \"META_afr\", \"META_amr\", \"META_eur\", \"AFR_afr\", \"HIS_amr\", \"EUR_eur\")\n",
    "R2_prscs_nocov$R2_type <- rep(c(\"obs\", \"liab\"), nrow(R2_prscs_nocov)/2)\n",
    "\n",
    "R2_ldpred_nocov <- combine_res(dir, \"*LDpred_ancestry_R2liab_PCagesex-adj_unrel.txt\")%>% unique()\n",
    "colnames(R2_ldpred_nocov) <- c(\"phecode\", \"anc\", \"cases\", \"controls\", \"baseline\", \"METAss_AFRld_inf\", \"METAss_AFRld_auto\", \"METAss_AMRld_inf\", \"METAss_AMRld_auto\", \"METAss_EURld_inf\", \"METAss_EURld_auto\", \"AFRss_AFRld_inf\", \"AFRss_AFRld_auto\", \"HISss_AMRld_inf\", \"HISss_AMRld_auto\", \"EURss_EURld_inf\", \"EURss_EURld_auto\")\n",
    "R2_ldpred_nocov$R2_type <- rep(c(\"obs\", \"liab\"), nrow(R2_ldpred_nocov)/2)\n",
    "\n",
    "R2_prscsx_nocov <-  combine_res_prscsx(dir, \"*PRScsx_ancestry_R2liab_PCagesex-adj_unrel.txt\") %>% unique()\n",
    "R2_prscsx_nocov$R2_type <- rep(c(\"obs\", \"liab\"), nrow(R2_prscsx_nocov)/2)\n",
    "\n",
    "R2_prscs_nocov <- inner_join(R2_prscs_nocov, \n",
    "                             R2_prscsx_nocov %>% select(phecode, anc, cases, controls, baseline, prscsx, R2_type))"
   ]
  },
  {
   "cell_type": "code",
   "execution_count": null,
   "id": "4",
   "metadata": {},
   "outputs": [],
   "source": [
    "#convert data into useable format (long)\n",
    "\n",
    "names <- data.frame(phecode = c(\"Phe_411_2\",\"Phe_411_3\", \"Phe_250_2\", \"Phe_427_21\", \"Phe_428_1\"),\n",
    "                    traits = c(\"Myocardial Infarction\", \"Angina Pectoris\", \"Type 2 Diabetes\", \"Atrial Fibrillation\", \"Congestive Heart Failure\" ),\n",
    "                    names = c(\"MI\", \"AP\",\"T2D\", \"AF\", \"CHF\"))\n",
    "R2_prscs_nocov1 <- R2_prscs_nocov %>% \n",
    "                    filter( R2_type == \"liab\") %>%  #select liability R2 based on pop prevalance\n",
    "                    pivot_longer(cols = c(\"baseline\",\"META_afr\", \"META_amr\", \"META_eur\", \"AFR_afr\", \"HIS_amr\", \"EUR_eur\", \"prscsx\"), names_to = \"score\", values_to = \"R2\") \n",
    "R2_prscs_nocov2 <- R2_prscs_nocov1 %>% separate(score, into = c(\"ss\", \"ld\"), remove = F)\n",
    "\n",
    "\n",
    "R2_ldpred_nocov1 <- R2_ldpred_nocov %>% \n",
    "                        filter( R2_type == \"liab\")  %>% \n",
    "                        pivot_longer(cols = c(\"baseline\", contains(\"ss\")), names_to = \"score\", values_to = \"R2\") \n",
    "R2_ldpred_nocov2 <- R2_ldpred_nocov1 %>% \n",
    "                        separate(score, into = c(\"ss\", \"ld\", \"type\"), remove = F) %>% \n",
    "                        mutate(ss = str_remove(ss, \"ss\"), ld = tolower(str_remove(ld, \"ld\"))) \n",
    "R2_ldpred_nocov3 <- R2_ldpred_nocov2 %>% \n",
    "                        filter(type %in% c(\"auto\", NA)) %>% \n",
    "                        select(!type)\n",
    "binary_dat <- bind_rows(R2_prscs_nocov2 %>% \n",
    "                  mutate(method =  \"prscs\") %>% \n",
    "                  filter(score != \"baseline\"), R2_ldpred_nocov3%>% mutate(method = \"ldpred\"))\n",
    "binary_dat <- binary_dat %>% mutate(score2 = paste(ss, ld, method, sep = \"_\" ), score1 =paste(ss, ld, sep = \"_\" ))\n",
    "\n",
    "binary_dat1 <- binary_dat %>%\n",
    "  group_by(phecode, anc) %>%\n",
    "  mutate(R2 = R2 - R2[score == \"baseline\"])  %>%\n",
    "  filter(score != \"baseline\") %>%  full_join(names)\n",
    "\n",
    "write.table(binary_dat1, \"dat_binary_unrelated_refactored_PCagesex_subpopPCs.txt\", quote = F, row.names = F, sep = \";\")\n",
    "\n"
   ]
  },
  {
   "cell_type": "markdown",
   "id": "5",
   "metadata": {},
   "source": [
    "### boot"
   ]
  },
  {
   "cell_type": "code",
   "execution_count": null,
   "id": "6",
   "metadata": {},
   "outputs": [],
   "source": [
    "#dir <- comparisons_binary_refactored_naomit\n",
    "dir <- \"comparisons_binary_refactored_subpopPCs_boot/\"\n",
    "\n",
    "#read in \"nocov\" results with only PCs adjusted for (no age and sex)\n",
    "R2_prscs <- combine_res(dir, \"*PRScs_ancestry_boot_PCagesex-adj_unrel.txt\") %>% unique()\n",
    "colnames(R2_prscs) <- c(\"phecode\", \"anc\", \"cases\", \"controls\", \"score_num\", \"R2\", \"R2_lower\", \"R2_upper\")\n",
    "prscs_cols <- data.frame(score_num = paste0(\"SCORE\",c(1:6), \"_SUM\"), \n",
    "                         score = c(\"META_afr\", \"META_amr\", \"META_eur\", \"AFR_afr\", \"HIS_amr\", \"EUR_eur\"))\n",
    "R2_prscs <- R2_prscs %>% left_join(prscs_cols)\n",
    "\n",
    "\n",
    "R2_ldpred <- combine_res(dir, \"*LDpred_ancestry_boot_PCagesex-adj_unrel.txt\")\n",
    "colnames(R2_ldpred) <- c(\"phecode\", \"anc\", \"cases\", \"controls\", \"score_num\", \"R2\", \"R2_lower\", \"R2_upper\")\n",
    "ldpred_cols <- data.frame(score_num = paste0(\"SCORE\",c(1:12), \"_SUM\"), \n",
    "                          score = c(\"METAss_AFRld_inf\", \"METAss_AFRld_auto\", \"METAss_AMRld_inf\", \"METAss_AMRld_auto\", \"METAss_EURld_inf\", \"METAss_EURld_auto\", \"AFRss_AFRld_inf\", \"AFRss_AFRld_auto\", \"HISss_AMRld_inf\", \"HISss_AMRld_auto\", \"EURss_EURld_inf\", \"EURss_EURld_auto\"))\n",
    "R2_ldpred <- R2_ldpred %>% left_join(ldpred_cols)\n",
    "\n",
    "R2_prscsx <-  combine_res(dir, \"*PRScsx_ancestry_boot_PCagesex-adj_unrel.txt\") %>% unique()\n",
    "colnames(R2_prscsx) <- c(\"phecode\", \"anc\", \"cases\", \"controls\", \"score_num\", \"R2\", \"R2_lower\", \"R2_upper\")\n",
    "R2_prscsx <- rbind(R2_prscsx %>% filter(phecode == \"Phe_250_2\", score_num == \"SCORE5_SUM\"),\n",
    "                   R2_prscsx %>% filter(phecode != \"Phe_250_2\", score_num == \"SCORE4_SUM\")) %>%\n",
    "                        mutate(score = \"prscsx\")\n"
   ]
  },
  {
   "cell_type": "code",
   "execution_count": null,
   "id": "7",
   "metadata": {},
   "outputs": [],
   "source": [
    "\n",
    "names <- data.frame(phecode = c(\"Phe_411_2\",\"Phe_411_3\", \"Phe_250_2\", \"Phe_427_21\", \"Phe_428_1\"),\n",
    "                    traits = c(\"Myocardial Infarction\", \"Angina Pectoris\", \"Type 2 Diabetes\", \"Atrial Fibrillation\", \"Congestive Heart Failure\" ),\n",
    "                    names = c(\"MI\", \"AP\",\"T2D\", \"AF\", \"CHF\"))\n",
    "R2_prscs1 <- R2_prscs %>% rbind(R2_prscsx)\n",
    "\n",
    "R2_prscs2 <- R2_prscs1 %>% separate(score, into = c(\"ss\", \"ld\"), remove = F)\n",
    "\n",
    "R2_ldpred2 <- R2_ldpred %>% \n",
    "                        separate(score, into = c(\"ss\", \"ld\", \"type\"), remove = F) %>% \n",
    "                        mutate(ss = str_remove(ss, \"ss\"), ld = tolower(str_remove(ld, \"ld\"))) \n",
    "\n",
    "R2_ldpred3 <- R2_ldpred2 %>% \n",
    "                        filter(type %in% c(\"auto\", NA)) %>% \n",
    "                        select(!type)\n",
    "\n",
    "binary_dat <- bind_rows(R2_prscs2 %>% \n",
    "                        mutate(method =  \"prscs\"), \n",
    "                        R2_ldpred3 %>% \n",
    "                        mutate(method = \"ldpred\")) %>% \n",
    "                        mutate(score2 = paste(ss, ld, method, sep = \"_\" ), \n",
    "                               score1 =paste(ss, ld, sep = \"_\" )) %>%  \n",
    "                        full_join(names) %>% \n",
    "                        select(!score_num)\n",
    "\n",
    "write.table(binary_dat, \"dat_binary_unrelated_refactored_PCagesex_subpopPCs_boot.txt\", quote = F, row.names = F, sep = \";\")\n",
    "\n"
   ]
  },
  {
   "cell_type": "code",
   "execution_count": null,
   "id": "8",
   "metadata": {},
   "outputs": [],
   "source": [
    "binary_dat %>% filter(phecode == \"Phe_250_2\", anc == \"eur\", method == \"ldpred\")"
   ]
  },
  {
   "cell_type": "code",
   "execution_count": null,
   "id": "9",
   "metadata": {},
   "outputs": [],
   "source": [
    "#binary_prior <- fread(\"dat_binary_unrelated_refactored_PCagesex_b.txt\")\n",
    "\n",
    "#then arrange to have same order\n",
    "#cor(binary_prior$R2, binary_dat1$R2)"
   ]
  },
  {
   "cell_type": "code",
   "execution_count": null,
   "id": "10",
   "metadata": {},
   "outputs": [],
   "source": [
    "#preparing data for figures\n",
    "\n",
    "dat_fill_prscsx <- data.frame(traits = rep(c(\"Angina Pectoris\",\"Atrial Fibrillation\", \"Congestive Heart Failure\", \"Myocardial Infarction\", \"Type 2 Diabetes\"), 3), \n",
    "                  names = rep(c(\"AP\", \"AF\", \"CHF\", \"MI\",  \"T2D\"),3))\n",
    "dat_fill_prscsx$anc <- c(rep(\"eur\",5), rep(\"amr\",5), rep(\"afr\",5))\n",
    "dat_fill_prscsx$ss <- \"prscsx\"\n",
    "dat_fill_prscsx$score2 <- \"prscsx_NA_prscs\"\n",
    "dat_fill_prscsx$score1  <-\"prscsx_NA\"\n",
    "dat_fill_prscsx$method <- \"ldpred\"\n",
    "dat_fill_prscsx$R2 <- -2\n",
    "dat_fill_prscsx$R2_type <- \"liab\" \n",
    "\n",
    "binary_dat2 <- plyr::rbind.fill(binary_dat1, dat_fill_prscsx)\n",
    "\n",
    "dat_fill <- data.frame(traits = rep(rep(c(\"Angina Pectoris\",\"Atrial Fibrillation\", \"Congestive Heart Failure\", \"Myocardial Infarction\",  \"Type 2 Diabetes\"), 3),2),\n",
    "                   names = rep(rep(c(\"AP\",\"AF\", \"CHF\", \"MI\", \"T2D\"), 3),2))  \n",
    "dat_fill$anc <- rep(c(rep(\"eur\", 5), rep(\"amr\", 5), rep(\"afr\", 5)),2)\n",
    "dat_fill$ld <- rep(c(rep(\"amr\", 5), rep(\"afr\", 5)),3)\n",
    "dat_fill$R2 <- rep(c(rep(0, 5), rep(-2,5)),3)\n",
    "dat_fill$ss <- \"fill\"\n",
    "dat_fill$score2 <- \"fill\"\n",
    "dat_fill$score1  <-\"fill\"\n",
    "dat_fill$method <- \"fill\"\n",
    "dat_fill$R2_type <- \"liab\" \n",
    "binary_dat3 <- plyr::rbind.fill(binary_dat2, dat_fill)"
   ]
  },
  {
   "cell_type": "code",
   "execution_count": null,
   "id": "11",
   "metadata": {},
   "outputs": [],
   "source": [
    "#getting prevalence information\n",
    "binary_dat1 %>% \n",
    "    select(phecode, traits, anc, cases, controls) %>% \n",
    "    unique() %>%  \n",
    "    filter(anc %in% c(\"afr\", \"eur\", \"amr\"))%>% \n",
    "    mutate(n = cases + controls, prev = cases/n) %>% \n",
    "    select(phecode, traits, anc, n, prev)"
   ]
  },
  {
   "cell_type": "code",
   "execution_count": null,
   "id": "12",
   "metadata": {},
   "outputs": [],
   "source": [
    "make_plot_binary <- function(trait, ylim){\n",
    "    binary_dat3 %>% filter(R2_type == \"liab\", traits == trait, anc %in% c(\"eur\", \"afr\", \"amr\")) %>% \n",
    "  ggplot(aes(x = fct_relevel(score1, c(\"prscsx_NA\", \"META_afr\", \"META_amr\", \"META_eur\",\"fill\", \"AFR_afr\", \"HIS_amr\", \"EUR_eur\")), y = R2)) + \n",
    "  geom_col_pattern( linewidth=1, width =  0.75, aes(fill=ss, pattern_density=fct_relevel(method, c( \"prscs\", \"ldpred\")), \n",
    "                                                    color = ld), pattern_fill=\"white\", pattern_color =\"white\", pattern = 'stripe', \n",
    "                                                       pattern_spacing=.05, position = position_dodge(1)) + \n",
    "  theme_minimal() +   ylim(0, ylim) +   facet_wrap(~toupper(anc)) +\n",
    "  scale_color_manual(values = c(\"afr\" = \"#7D82B8\",\n",
    "                                \"eur\"=\"#9ED8DB\",\n",
    "                                \"amr\"=\"#DF3B57\"), na.value=\"#F2CCC3\") +  \n",
    "  scale_fill_manual(values = c(\"AFR\" = \"#7D82B8\",\n",
    "                                \"EUR\"=\"#9ED8DB\",\n",
    "                                \"HIS\"=\"#DF3B57\",\n",
    "                                \"META\" = \"#1D3354\",\n",
    "                                \"prscsx\" = \"#F2CCC3\"), na.value=\"white\") + \n",
    "  scale_pattern_density_discrete(name = \"Method\") +   \n",
    "  theme(legend.key.size = unit(1, 'cm'),panel.grid.major.x = element_blank(),\n",
    "        panel.grid.minor.x = element_blank(), axis.text.x=element_blank(), \n",
    "        axis.ticks.x=element_blank(), strip.text.x= element_blank()) + xlab(NULL) }"
   ]
  },
  {
   "cell_type": "code",
   "execution_count": null,
   "id": "13",
   "metadata": {},
   "outputs": [],
   "source": [
    "names <- data.frame(phecode = c(\"Phe_411_2\",\"Phe_411_3\", \"Phe_250_1\", \"Phe_250_2\", \"Phe_427_21\", \"Phe_428_1\"),\n",
    "                    traits = c(\"Myocardial Infarction\", \"Angina Pectoris\", \"Type 1 Diabetes\", \"Type 2 Diabetes\", \"Atrial Fibrillation\", \"Congestive Heart Failure\" ),\n",
    "                    names = c(\"MI\", \"AP\", \"T1D\", \"T2D\", \"AF\", \"CHF\"))\n",
    "ap <- make_plot_binary(\"Angina Pectoris\", 0.025)\n",
    "af <- make_plot_binary(\"Atrial Fibrillation\", 0.06)\n",
    "chf <- make_plot_binary(\"Congestive Heart Failure\", 0.023)\n",
    "mi <- make_plot_binary(\"Myocardial Infarction\", 0.034)\n",
    "t2d <- make_plot_binary(\"Type 2 Diabetes\", 0.11)\n",
    "binary_plot <- plot_spacer()/ ap / plot_spacer()/af/plot_spacer()/chf/plot_spacer()/mi/plot_spacer()/t2d + plot_layout(guides = \"collect\", heights = c(1, 5, 1, 5, 1, 5, 1, 5, 1, 5), nrow = 10)\n",
    "ggsave(binary_plot, file=\"figs_refactored/binary_plot_5_unrelated_PCagesex_subpop.pdf\", width=10, height=10, dpi=300)\n"
   ]
  },
  {
   "cell_type": "markdown",
   "id": "14",
   "metadata": {},
   "source": [
    "## Continuous Traits"
   ]
  },
  {
   "cell_type": "code",
   "execution_count": null,
   "id": "15",
   "metadata": {},
   "outputs": [],
   "source": [
    "#dir <- \"comparisons_continuous_refactored_inormalfixed/\"\n",
    "dir <- \"comparisons_continuous_refactored_inormalfixed_PCfixed_subpopPCs/\"\n",
    "\n",
    "R2_ldpred_adj <- combine_res(dir, \"*LDpred_ancestry_R2_PCagesex-adj_unrel.txt\") %>% distinct()\n",
    "R2_prscs_adj <- combine_res(dir, \"*PRScs_ancestry_R2_PCagesex-adj_unrel.txt\") %>% distinct()\n",
    "R2_prscsx_adj <- combine_res(dir, \"*PRScsx_ancestry_R2_PCagesex-adj_unrel.txt\") %>% distinct()\n",
    "colnames(R2_ldpred_adj)<-  c(\"phecode\", \"anc\", \"N\", \"METAss_AFRld_inf\", \"METAss_AFRld_auto\", \"METAss_AMRld_inf\", \"METAss_AMRld_auto\", \"METAss_EURld_inf\", \"METAss_EURld_auto\", \"AFRss_AFRld_inf\", \"AFRss_AFRld_auto\", \"HISss_AMRld_inf\", \"HISss_AMRld_auto\", \"EURss_EURld_inf\", \"EURss_EURld_auto\")\n",
    "colnames(R2_prscs_adj)<-  c(\"phecode\", \"anc\", \"N\", \"META_afr\", \"META_amr\", \"META_eur\", \"AFR_afr\", \"HIS_amr\", \"EUR_eur\")\n",
    "colnames(R2_prscsx_adj)<-  c(\"phecode\", \"anc\", \"N\",\"AFRx\", \"EURx\", \"AMRx\", \"EASx\", \"prscsx\")\n",
    "\n",
    "R2_prscs_adj <- full_join(R2_prscs_adj, R2_prscsx_adj %>% select(phecode, anc, N, prscsx))\n",
    "\n"
   ]
  },
  {
   "cell_type": "code",
   "execution_count": null,
   "id": "16",
   "metadata": {},
   "outputs": [],
   "source": [
    "#convert data into usable format (long)\n",
    "R2_ldpred_adj1 <- R2_ldpred_adj  %>% \n",
    "                    pivot_longer(cols = c(contains(\"ss\")), names_to = \"score\", values_to = \"R2\") \n",
    "R2_ldpred_adj2 <- R2_ldpred_adj1 %>% \n",
    "                    separate(score, into = c(\"ss\", \"ld\", \"type\"), remove = F) %>% \n",
    "                    mutate(ss = str_remove(ss, \"ss\"), ld = tolower(str_remove(ld, \"ld\"))) \n",
    "R2_ldpred_adj3 <- R2_ldpred_adj2 %>% \n",
    "                    filter(type %in% c(\"auto\", NA)) %>% \n",
    "                    select(!type)\n",
    "\n",
    "R2_prscs_adj1 <- R2_prscs_adj  %>% \n",
    "                    pivot_longer(cols = c(\"prscsx\", \"META_afr\", \"META_amr\", \"META_eur\", \"AFR_afr\", \"HIS_amr\", \"EUR_eur\"), names_to = \"score\", values_to = \"R2\")\n",
    "R2_prscs_adj2 <- R2_prscs_adj1 %>% \n",
    "                    separate(score, into = c(\"ss\", \"ld\"), remove = F)\n",
    "\n",
    "dat_cont <- bind_rows(R2_prscs_adj2 %>% \n",
    "                 mutate(method =  \"prscs\") %>% filter(score != \"baseline\"), \n",
    "                 R2_ldpred_adj3 %>% \n",
    "                 mutate(method = \"ldpred\"))\n",
    "\n",
    "\n",
    "dat_cont <- dat_cont %>% mutate(score2 = paste(ss, ld, method, sep = \"_\" ), score1 =paste(ss, ld, sep = \"_\" ))\n",
    "write.table(dat_cont, \"dat_continuous_unrelated_refactored_PCagesex_subpopPCs.txt\", quote = F, row.names = F)"
   ]
  },
  {
   "cell_type": "code",
   "execution_count": null,
   "id": "17",
   "metadata": {},
   "outputs": [],
   "source": [
    "dat_fill_prscsx <- data.frame(phecode = rep(c(\"mean_BMI_INT\", \"Hemoglobin_Mean_INT\", \"mean_Height_INT\", \"mean_Systolic_INT\", \"LDLC_Mean_INT\"), 3))\n",
    "dat_fill_prscsx$anc <- c(rep(\"eur\",5), rep(\"amr\",5), rep(\"afr\",5))\n",
    "dat_fill_prscsx$ss <- \"prscsx\"\n",
    "dat_fill_prscsx$score2 <- \"prscsx_NA_prscs\"\n",
    "dat_fill_prscsx$score1  <-\"prscsx_NA\"\n",
    "dat_fill_prscsx$method <- \"ldpred\"\n",
    "dat_fill_prscsx$R2 <- -2\n",
    "\n",
    "#dat2 <- data.frame(phecode = c(\"basophils\"), ss = c(\"prscsx\"), anc = c(\"eur\"), score2 = c(\"prscsx_NA_prscs\"), score1 = c(\"prscsx_NA\"), ≈ R2 = c(0))\n",
    "dat_cont1 <- plyr::rbind.fill(dat_cont, dat_fill_prscsx)\n",
    "\n",
    "dat_fill <- data.frame(phecode = rep(rep(c(\"mean_BMI_INT\", \"Hemoglobin_Mean_INT\", \"mean_Height_INT\", \"mean_Systolic_INT\", \"LDLC_Mean_INT\"), 2),3))\n",
    "dat_fill$anc <- c(rep(\"eur\",5), rep(\"amr\",5), rep(\"afr\",5))\n",
    "dat_fill$ss <- \"fill\"\n",
    "dat_fill$score2 <- \"fill\"\n",
    "dat_fill$score1  <-\"fill\"\n",
    "dat_fill$method <- \"fill\"\n",
    "dat_fill$ld <- rep(c(rep(\"amr\", 5), rep(\"afr\", 5)),3)\n",
    "dat_fill$R2 <- rep(c(rep(0, 5), rep(-2, 5)),3)\n",
    "\n",
    "#dat2 <- data.frame(phecode = c(\"basophils\"), ss = c(\"prscsx\"), anc = c(\"eur\"), score2 = c(\"prscsx_NA_prscs\"), score1 = c(\"prscsx_NA\"), ≈ R2 = c(0))\n",
    "dat_cont2 <- plyr::rbind.fill(dat_cont1, dat_fill)\n",
    "names <- data.frame(phecode = c(\"mean_BMI_INT\", \"Hemoglobin_Mean_INT\", \"mean_Height_INT\", \"mean_Systolic_INT\", \"LDLC_Mean_INT\"),\n",
    "                    traits = c(\"BMI\", \"Hemoglobin\",  \"Height\", \"SBP\", \"LDL\" ))\n",
    "dat_cont2 <- dat_cont2 %>% inner_join(names)"
   ]
  },
  {
   "cell_type": "code",
   "execution_count": null,
   "id": "18",
   "metadata": {},
   "outputs": [],
   "source": [
    "make_plot_cont <- function(trait, ylim){\n",
    "    dat_cont2 %>% filter(traits == trait, anc %in% c(\"eur\", \"afr\", \"amr\")) %>% \n",
    "  ggplot(aes(x = fct_relevel(score1, c(\"prscsx_NA\", \"META_afr\", \"META_amr\", \"META_eur\",\"fill\", \"AFR_afr\", \"HIS_amr\", \"EUR_eur\")), y = R2)) + \n",
    "  geom_col_pattern( linewidth=1, width =  0.75, aes(fill=ss, pattern_density=fct_relevel(method, c( \"prscs\", \"ldpred\")), \n",
    "                                                    color = ld), pattern_fill=\"white\", pattern_color =\"white\", pattern = 'stripe', \n",
    "                                                       pattern_spacing=.05, position = position_dodge(1)) + \n",
    "  theme_minimal() + ylim(0, ylim) +   facet_wrap(~toupper(anc)) +\n",
    "  scale_color_manual(values = c(\"afr\" = \"#7D82B8\",\n",
    "                                \"eur\"=\"#9ED8DB\",\n",
    "                                \"amr\"=\"#DF3B57\"), na.value=\"#F2CCC3\") +  \n",
    "  scale_fill_manual(values = c(\"AFR\" = \"#7D82B8\",\n",
    "                                \"EUR\"=\"#9ED8DB\",\n",
    "                                \"HIS\"=\"#DF3B57\",\n",
    "                                \"META\" = \"#1D3354\",\n",
    "                                \"prscsx\" = \"#F2CCC3\"), na.value=\"white\") + \n",
    "  scale_pattern_density_discrete(name = \"Method\") + \n",
    "  theme(legend.key.size = unit(1, 'cm'),panel.grid.major.x = element_blank(),\n",
    "        panel.grid.minor.x = element_blank(), axis.text.x=element_blank(), \n",
    "        axis.ticks.x=element_blank(), strip.text.x= element_blank()) + xlab(NULL) }"
   ]
  },
  {
   "cell_type": "code",
   "execution_count": null,
   "id": "19",
   "metadata": {},
   "outputs": [],
   "source": [
    "dir.create(\"figs_refactored\")"
   ]
  },
  {
   "cell_type": "code",
   "execution_count": null,
   "id": "20",
   "metadata": {},
   "outputs": [],
   "source": [
    "bmi <- make_plot_cont(\"BMI\", 0.115)\n",
    "hemo <- make_plot_cont(\"Hemoglobin\", 0.023)\n",
    "height <- make_plot_cont(\"Height\", 0.27)\n",
    "ldl <- make_plot_cont(\"LDL\", 0.10)\n",
    "sbp <- make_plot_cont(\"SBP\", 0.055)\n",
    "cont_plot <- plot_spacer()/ bmi / plot_spacer()/hemo/plot_spacer()/height/plot_spacer()/ldl/plot_spacer()/sbp + plot_layout(guides = \"collect\", heights = c(1, 5, 1, 5, 1, 5, 1, 5, 1, 5), nrow = 10)\n",
    "ggsave(cont_plot, file=\"figs_refactored/cont_plot_5_unrel_PCagesex_subpopPCs.pdf\", width=10, height=10, dpi=300)"
   ]
  },
  {
   "cell_type": "code",
   "execution_count": null,
   "id": "21",
   "metadata": {},
   "outputs": [],
   "source": [
    "### Presentation Figures"
   ]
  },
  {
   "cell_type": "code",
   "execution_count": null,
   "id": "22",
   "metadata": {},
   "outputs": [],
   "source": [
    "fig_dir <- \"figs_refactored_PCagesex_subpopPCs/\"\n",
    "dir.create(fig_dir)"
   ]
  },
  {
   "cell_type": "markdown",
   "id": "23",
   "metadata": {},
   "source": [
    "### Comparison Figures"
   ]
  },
  {
   "cell_type": "code",
   "execution_count": null,
   "id": "24",
   "metadata": {},
   "outputs": [],
   "source": [
    "a <- fread(\"dat_continuous_unrelated_refactored_PCagesex_subpopPCs.txt\")\n",
    "a1 <- fread(\"dat_binary_unrelated_refactored_PCagesex_subpopPCs.txt\") "
   ]
  },
  {
   "cell_type": "markdown",
   "id": "25",
   "metadata": {},
   "source": [
    "#### PRS-CSx v ancestry-spec"
   ]
  },
  {
   "cell_type": "code",
   "execution_count": null,
   "id": "26",
   "metadata": {},
   "outputs": [],
   "source": [
    "b <- a %>% \n",
    "        filter(anc %in% c(\"afr\", \"amr\",\"eur\"), phecode != \"basophils\") %>% \n",
    "        select(!c(N, score2)) %>% mutate(type = \"cont\") \n",
    "b1 <- a1 %>% \n",
    "        filter(anc %in% c(\"afr\", \"amr\",\"eur\"), phecode != \"Phe_250_1\") %>% \n",
    "        select(!c(cases, controls, score2, R2_type, traits, names)) %>% \n",
    "        mutate(type = \"binary\")\n",
    "c_x_vanc <- rbind(b,b1) %>% \n",
    "        filter(ss != \"META\", \n",
    "               ss == \"prscsx\" | anc == \"afr\" & grepl(\"AFR\", ss) | anc == \"eur\" & grepl(\"EUR\", ss) | anc == \"amr\" & grepl(\"HIS\", ss)) %>%  \n",
    "        mutate(score = ifelse(score == \"prscsx\", \"prscsx\", \n",
    "                              ifelse(method == \"ldpred\", \"anc_specL\", \"anc_specP\")))\n"
   ]
  },
  {
   "cell_type": "code",
   "execution_count": null,
   "id": "27",
   "metadata": {},
   "outputs": [],
   "source": [
    "make_plotx_vanc <- function(trait, ylim, name){\n",
    "    c_x_vanc %>% filter(phecode == trait, anc %in% c(\"eur\", \"afr\", \"amr\")) %>% \n",
    "    ggplot(aes(x = fct_relevel(score, c(\"prscsx\", \"anc_specP\", \"anc_specL\")), y = R2)) + \n",
    "    geom_col_pattern( linewidth=1, width =  0.75, \n",
    "                     aes(fill=ss, pattern_density=fct_relevel(method, c( \"prscs\", \"ldpred\")), \n",
    "                         color = ld), pattern_fill=\"white\", pattern_color =\"white\", pattern = 'stripe', \n",
    "                         pattern_spacing=0.15, position = position_dodge(1)) +  #pattern_spacing=.05\n",
    "    theme_minimal() + \n",
    "    facet_wrap(~anc) +\n",
    "    scale_color_manual(values = c(\"afr\" = \"#7D82B8\",\n",
    "                                \"eur\"=\"#9ED8DB\",\n",
    "                                \"amr\"=\"#DF3B57\"), na.value=\"#F2CCC3\") +  \n",
    "    scale_fill_manual(values = c(\"AFR\" = \"#7D82B8\",\n",
    "                                \"EUR\"=\"#9ED8DB\",\n",
    "                                \"HIS\"=\"#DF3B57\",\n",
    "                                \"META\" = \"#1D3354\",\n",
    "                                \"prscsx\" = \"#F2CCC3\"), na.value=\"white\") + \n",
    "    scale_pattern_density_discrete(name = \"Method\") +  \n",
    "    ylim(0, ylim) + \n",
    "    theme(plot.title = element_text(size=10), \n",
    "          legend.key.size = unit(1, 'cm'),\n",
    "          panel.grid.major.x = element_blank(),\n",
    "          panel.grid.minor.x = element_blank(), \n",
    "          axis.text.x=element_blank(), \n",
    "          axis.ticks.x=element_blank(), \n",
    "          legend.position = \"none\") + xlab(NULL) }\n"
   ]
  },
  {
   "cell_type": "code",
   "execution_count": null,
   "id": "28",
   "metadata": {},
   "outputs": [],
   "source": [
    "height_XN <- make_plotx_vanc(\"mean_Height_INT\", 0.27, \"Height\")\n",
    "bmi_XN <- make_plotx_vanc(\"mean_BMI_INT\", 0.115, \"BMI\")\n",
    "hemo_XN <- make_plotx_vanc(\"Hemoglobin_Mean_INT\", 0.023, \"Hemoglobin\")\n",
    "ldl_XN <- make_plotx_vanc(\"LDLC_Mean_INT\", 0.09, \"LDL Cholesterol\")\n",
    "sbp_XN <- make_plotx_vanc(\"mean_Systolic_INT\", 0.055, \"Systolic Blood Pressure\")\n",
    "\n",
    "#cont_plot_meta_v_anc <- plot_spacer()/ bmi / plot_spacer()/hemo/plot_spacer()/height/plot_spacer()/ldl/plot_spacer()/sbp + plot_layout(guides = \"collect\", heights = c(1, 5, 1, 5, 1, 5, 1, 5, 1, 5), nrow = 10)\n",
    "cont_plot_x_v_anc <-  bmi_XN / hemo_XN/height_XN/ldl_XN/sbp_XN + plot_layout(guides = \"collect\")\n",
    "\n",
    "\n",
    "#cont_plot_x_v_anc <- plot_spacer()/ bmi / plot_spacer()/hemo/plot_spacer()/height/plot_spacer()/ldl/plot_spacer()/sbp + plot_layout(guides = \"collect\", heights = c(1, 5, 1, 5, 1, 5, 1, 5, 1, 5), nrow = 10)\n",
    "#cont_plot_x_v_anc\n",
    "ggsave(cont_plot_x_v_anc, file= paste0(fig_dir, \"cont_plot_5_unrel_x_v_anc_taller_subpopPCs.pdf\"), width = 3, height=10, dpi=300)\n",
    "\n",
    "#cont_plot_x_v_anc_wide <- bmi + hemo + height + ldl + sbp + plot_layout(ncol = 5)\n",
    "#cont_plot_x_v_anc_wide\n",
    "#ggsave(cont_plot_x_v_anc_wide, file=\"cont_plot_5_unrel_x_v_anc_wide.pdf\", width = 15, height= 3, dpi=500)"
   ]
  },
  {
   "cell_type": "code",
   "execution_count": null,
   "id": "29",
   "metadata": {},
   "outputs": [],
   "source": [
    "names <- data.frame(phecode = c(\"Phe_411_2\",\"Phe_411_3\", \"Phe_250_1\", \"Phe_250_2\", \"Phe_427_21\", \"Phe_428_1\"),\n",
    "                    traits = c(\"Myocardial Infarction\", \"Angina Pectoris\", \"Type 1 Diabetes\", \"Type 2 Diabetes\", \"Atrial Fibrillation\", \"Congestive Heart Failure\" ),\n",
    "                    names = c(\"MI\", \"AP\", \"T1D\", \"T2D\", \"AF\", \"CHF\"))"
   ]
  },
  {
   "cell_type": "code",
   "execution_count": null,
   "id": "30",
   "metadata": {},
   "outputs": [],
   "source": [
    "t2d_XN <- make_plotx_vanc(\"Phe_250_2\", 0.11, \"Type 2 Diabetes\") #Type 2 Diabetes\n",
    "mi_XN <- make_plotx_vanc(\"Phe_411_2\", 0.034, \"Myocardial Infarction\") #Myocardial Infarction\n",
    "ap_XN <- make_plotx_vanc(\"Phe_411_3\", 0.025, \"Angina Pectoris\")  #Angina Pectoris\n",
    "af_XN <- make_plotx_vanc(\"Phe_427_21\",  0.06, \"Atrial Fibrillation\") #AF\n",
    "chf_XN <- make_plotx_vanc(\"Phe_428_1\", 0.023, \"Congestive Heart Failure\") #CHF\n",
    "\n",
    "bin_plot_x_v_anc <- ap_XN / af_XN/chf_XN/mi_XN/t2d_XN + plot_layout(guides = \"collect\")\n",
    "#bin_plot_x_v_anc <- plot_spacer()/ ap / plot_spacer()/af/plot_spacer()/chf/plot_spacer()/mi/plot_spacer()/t2d + plot_layout(guides = \"collect\", heights = c(1, 5, 1, 5, 1, 5, 1, 5, 1, 5), nrow = 10)\n",
    "#cont_plot_x_v_anc\n",
    "ggsave(bin_plot_x_v_anc, file=paste0(fig_dir,\"bin_plot_5_unrel_x_v_anc_taller.pdf\"), width = 3, height=10, dpi=300)\n",
    "\n",
    "\n"
   ]
  },
  {
   "cell_type": "markdown",
   "id": "31",
   "metadata": {},
   "source": [
    "#### META v ancestry-spec"
   ]
  },
  {
   "cell_type": "code",
   "execution_count": null,
   "id": "32",
   "metadata": {},
   "outputs": [],
   "source": [
    "b <-  a %>% filter(anc %in% c(\"afr\", \"amr\",\"eur\"), phecode != \"basophils\")  %>% \n",
    "        filter(ss != \"prscsx\") %>% \n",
    "        group_by(phecode,anc, method, ss) %>%  \n",
    "        summarize(mean(R2)) %>%  \n",
    "        filter(anc == \"afr\" & grepl(\"AFR\", ss) |\n",
    "               anc == \"eur\" & grepl(\"EUR\", ss) | \n",
    "               anc == \"amr\" & grepl(\"HIS\", ss) | \n",
    "               ss == \"META\")\n",
    "\n",
    "b1 <-  a1 %>% filter(anc %in% c(\"afr\", \"amr\",\"eur\"), phecode != \"Phe_250_1\")  %>% \n",
    "        filter(ss != \"prscsx\") %>% \n",
    "        group_by(phecode,anc, method, ss) %>%  \n",
    "        summarize(mean(R2)) %>%  \n",
    "        filter(anc == \"afr\" & grepl(\"AFR\", ss) | \n",
    "               anc == \"eur\" & grepl(\"EUR\", ss) | \n",
    "               anc == \"amr\" & grepl(\"HIS\", ss) | \n",
    "               ss == \"META\")\n",
    "\n",
    "c_MN <- rbind(b, b1)"
   ]
  },
  {
   "cell_type": "code",
   "execution_count": null,
   "id": "33",
   "metadata": {},
   "outputs": [],
   "source": [
    "c_MN %>% filter(phecode == \"Hemoglobin_Mean_INT\", anc == \"eur\")"
   ]
  },
  {
   "cell_type": "code",
   "execution_count": null,
   "id": "34",
   "metadata": {},
   "outputs": [],
   "source": [
    "make_plotmeta_vanc <- function(trait, lim, name){\n",
    "    c_MN %>% mutate(R2 = `mean(R2)`, \n",
    "                 score1 = ifelse(ss == \"META\", \"META\", \"anc_spec\"), \n",
    "                 score = paste0(score1, method)) %>% \n",
    "    filter(phecode == trait) %>%\n",
    "    ggplot(aes(x = fct_relevel(score, c(\"METAprscs\", \"METAldpred\",  \"anc_specprscs\", \"anc_specldpred\")), \n",
    "               y = R2)) + \n",
    "    geom_col_pattern(linewidth=1, \n",
    "                     width =  0.75, \n",
    "                     aes(fill=ss, \n",
    "                         pattern_density=fct_relevel(method, c( \"prscs\", \"ldpred\")), \n",
    "                         color = ss), \n",
    "                     pattern_fill=\"white\", \n",
    "                     pattern_color =\"white\", \n",
    "                     pattern = 'stripe', \n",
    "                     pattern_spacing=0.15, position = position_dodge(1)) +  \n",
    "    theme_minimal() + \n",
    "    facet_wrap(~anc)+ \n",
    "    scale_color_manual(values = c(\"AFR\" = \"#7D82B8\",\n",
    "                                  \"EUR\"=\"#9ED8DB\",\n",
    "                                  \"HIS\"=\"#DF3B57\"), \n",
    "                       na.value=\"#1D3354\") +  \n",
    "    scale_fill_manual(values = c(\"AFR\" = \"#7D82B8\",\n",
    "                                 \"EUR\"=\"#9ED8DB\",\n",
    "                                 \"HIS\"=\"#DF3B57\",\n",
    "                                 \"META\" = \"#1D3354\",\n",
    "                                 \"prscsx\" = \"#F2CCC3\"), \n",
    "                      na.value=\"white\") + \n",
    "    scale_pattern_density_discrete(name = \"Method\") +  \n",
    "    ylim(0, lim) +\n",
    "    theme(plot.title = element_text(size=10), \n",
    "          legend.key.size = unit(1, 'cm'),\n",
    "          panel.grid.major.x = element_blank(),\n",
    "          panel.grid.minor.x = element_blank(), \n",
    "          axis.text.x=element_blank(), \n",
    "          axis.ticks.x=element_blank(),\n",
    "          legend.position = \"none\") + \n",
    "    xlab(NULL)}"
   ]
  },
  {
   "cell_type": "code",
   "execution_count": null,
   "id": "35",
   "metadata": {},
   "outputs": [],
   "source": []
  },
  {
   "cell_type": "code",
   "execution_count": null,
   "id": "36",
   "metadata": {},
   "outputs": [],
   "source": [
    "height_MN <- make_plotmeta_vanc(\"mean_Height_INT\", 0.27, \"Height\")\n",
    "bmi_MN  <- make_plotmeta_vanc(\"mean_BMI_INT\", 0.115, \"BMI\")\n",
    "hemo_MN  <- make_plotmeta_vanc(\"Hemoglobin_Mean_INT\", 0.023, \"Hemoglobin\")\n",
    "ldl_MN  <- make_plotmeta_vanc(\"LDLC_Mean_INT\", 0.09, \"LDL Cholesterol\")\n",
    "sbp_MN  <- make_plotmeta_vanc(\"mean_Systolic_INT\", 0.055, \"Systolic Blood Pressure\")\n",
    "\n",
    "#cont_plot_meta_v_anc <- plot_spacer()/ bmi / plot_spacer()/hemo/plot_spacer()/height/plot_spacer()/ldl/plot_spacer()/sbp + plot_layout(guides = \"collect\", heights = c(1, 5, 1, 5, 1, 5, 1, 5, 1, 5), nrow = 10)\n",
    "cont_plot_meta_v_anc <-  bmi_MN  / hemo_MN /height_MN /ldl_MN /sbp_MN  + plot_layout(guides = \"collect\")\n",
    "\n",
    "#cont_plot_meta_v_anc\n",
    "ggsave(cont_plot_meta_v_anc, file=paste0(fig_dir,\"cont_plot_5_meta_v_anc_taller.pdf\"), width=3, height=10, dpi=300)\n",
    "\n",
    "#cont_plot_meta_v_anc_wide <- bmi + hemo + height + ldl + sbp + plot_layout(ncol = 5)\n",
    "#cont_plot_x_v_anc_wide\n",
    "#ggsave(cont_plot_meta_v_anc_wide, file=\"cont_plot_5_unrel_meta_v_anc_wide.pdf\", width = 15, height= 3, dpi=500)"
   ]
  },
  {
   "cell_type": "code",
   "execution_count": null,
   "id": "37",
   "metadata": {},
   "outputs": [],
   "source": []
  },
  {
   "cell_type": "code",
   "execution_count": null,
   "id": "38",
   "metadata": {},
   "outputs": [],
   "source": [
    "t2d_MN  <- make_plotmeta_vanc(\"Phe_250_2\", 0.11, \"Type 2 Diabetes\") #Type 2 Diabetes\n",
    "mi_MN  <- make_plotmeta_vanc(\"Phe_411_2\", 0.034, \"Myocardial Infarction\") #Myocardial Infarction\n",
    "ap_MN  <- make_plotmeta_vanc(\"Phe_411_3\", 0.025, \"Angina Pectoris\")  #Angina Pectoris\n",
    "af_MN  <- make_plotmeta_vanc(\"Phe_427_21\",  0.06, \"Atrial Fibrillation\") #AF\n",
    "chf_MN  <- make_plotmeta_vanc(\"Phe_428_1\", 0.023, \"Congestive Heart Failure\") #CHF\n",
    "\n",
    "#bin_plot_meta_v_anc <- plot_spacer()/ ap / plot_spacer()/af/plot_spacer()/chf/plot_spacer()/mi/plot_spacer()/t2d + plot_layout(guides = \"collect\", heights = c(1, 5, 1, 5, 1, 5, 1, 5, 1, 5), nrow = 10)\n",
    "\n",
    "bin_plot_meta_v_anc <- ap_MN  / af_MN /chf_MN /mi_MN /t2d_MN  + plot_layout(guides = \"collect\")\n",
    "#cont_plot_x_v_anc\n",
    "ggsave(bin_plot_meta_v_anc, file=paste0(fig_dir,\"bin_plot_5_meta_v_anc_taller.pdf\"), width = 3, height=10, dpi=300)\n"
   ]
  },
  {
   "cell_type": "markdown",
   "id": "39",
   "metadata": {},
   "source": [
    "#### META v prscsx"
   ]
  },
  {
   "cell_type": "code",
   "execution_count": null,
   "id": "40",
   "metadata": {},
   "outputs": [],
   "source": [
    "b <- a %>% \n",
    "        filter(anc %in% c(\"afr\", \"amr\",\"eur\"), phecode != \"basophils\") %>%\n",
    "        select(!c(score, score1)) %>% group_by(phecode,anc, method, ss) %>%\n",
    "        summarize(mean(R2))\n",
    "c <- b %>% \n",
    "        filter(ss == \"META\" | \n",
    "               ss == \"prscsx\" | \n",
    "               toupper(anc) == ss) %>%  \n",
    "        mutate(method = ifelse(ss == \"prscsx\", \"prscsx\", method))\n",
    "\n",
    "b1 <- a1 %>% \n",
    "        filter(anc %in% c(\"afr\", \"amr\",\"eur\"), \n",
    "               phecode != \"Phe_250_1\") %>% \n",
    "        select(!c(cases, controls, score, score2, score1, R2_type, traits, names)) %>% \n",
    "        group_by(phecode,anc, method, ss) %>%\n",
    "        summarize(mean(R2))\n",
    "\n",
    "c1 <- b1 %>% \n",
    "        filter(ss == \"META\" |\n",
    "               ss == \"prscsx\" | \n",
    "               toupper(anc) == ss) %>%  \n",
    "        mutate(method = ifelse(ss == \"prscsx\", \"prscsx\", method))\n",
    "\n",
    "c_xmeta <- rbind(c, c1) %>% \n",
    "        filter(ss == \"META\" | \n",
    "               ss == \"prscsx\") %>%  \n",
    "        mutate(method = ifelse(method == \"prscsx\", \"prscs\", method)) "
   ]
  },
  {
   "cell_type": "code",
   "execution_count": null,
   "id": "41",
   "metadata": {},
   "outputs": [],
   "source": [
    "make_plotmeta_vprscsx <- function(trait, lim, name){\n",
    "    c_xmeta %>% \n",
    "        mutate(R2 = `mean(R2)`, \n",
    "               score1 = ifelse(ss == \"META\", \"META\", \"prscsx\"), \n",
    "               score = paste0(score1, method)) %>% \n",
    "        filter(phecode == trait) %>%\n",
    "    ggplot(aes(x = fct_relevel(score, c(\"prscsxprscs\", \"METAprscs\", \"METAldpred\")), \n",
    "               y = R2)) + \n",
    "    geom_col_pattern(linewidth=1, \n",
    "                     width = 0.75, \n",
    "                     aes(fill=ss, \n",
    "                         pattern_density=fct_relevel(method, c( \"prscs\", \"ldpred\")), \n",
    "                         color = ss), \n",
    "                     pattern_fill=\"white\", \n",
    "                     pattern_color =\"white\", \n",
    "                     pattern = 'stripe',\n",
    "                     pattern_spacing=0.15,\n",
    "                     position = position_dodge(1)) +  \n",
    "    theme_minimal() + \n",
    "    facet_wrap(~anc)+ \n",
    "    scale_color_manual(values = c(\"AFR\" = \"#7D82B8\",\n",
    "                                \"EUR\"=\"#9ED8DB\",\n",
    "                                \"HIS\"=\"#DF3B57\", \"META\" = \"#1D3354\"), \n",
    "                       na.value=\"#F2CCC3\") +  \n",
    "    scale_fill_manual(values = c(\"AFR\" = \"#7D82B8\",\n",
    "                                \"EUR\"=\"#9ED8DB\",\n",
    "                                \"HIS\"=\"#DF3B57\",\n",
    "                                \"META\" = \"#1D3354\",\n",
    "                                \"prscsx\" = \"#F2CCC3\"), \n",
    "                      na.value=\"white\") + \n",
    "  scale_pattern_density_discrete(name = \"Method\") +  ylim(0, lim) + \n",
    "  theme(plot.title = element_text(size=10), legend.key.size = unit(1, 'cm'), panel.grid.major.x = element_blank(), \n",
    "        panel.grid.minor.x = element_blank(), axis.text.x=element_blank(),axis.ticks.x=element_blank(), legend.position = \"none\")  + xlab(NULL)\n",
    "}"
   ]
  },
  {
   "cell_type": "code",
   "execution_count": null,
   "id": "42",
   "metadata": {},
   "outputs": [],
   "source": [
    "height_MX <- make_plotmeta_vprscsx(\"mean_Height_INT\", 0.27, \"Height\")\n",
    "bmi_MX <- make_plotmeta_vprscsx(\"mean_BMI_INT\", 0.115,\"BMI\")\n",
    "hemo_MX <- make_plotmeta_vprscsx(\"Hemoglobin_Mean_INT\", 0.023, \"Hemoglobin\")\n",
    "ldl_MX <- make_plotmeta_vprscsx(\"LDLC_Mean_INT\", 0.09, \"LDL Cholesterol\")\n",
    "sbp_MX <- make_plotmeta_vprscsx(\"mean_Systolic_INT\", 0.055, \"Systolic Blood Pressure\")\n",
    "\n",
    "\n",
    "cont_plot_meta_v_x <-  bmi_MX / hemo_MX/height_MX/ldl_MX/sbp_MX + plot_layout(guides = \"collect\")\n",
    "#cont_plot_meta_v_x\n",
    "ggsave(cont_plot_meta_v_x, file=paste0(fig_dir,\"cont_plot_5_meta_v_x_taller.pdf\"), width=3, height=10, dpi=300)\n",
    "\n",
    "#cont_plot_meta_v_x_wide <- bmi + hemo + height + ldl + sbp + plot_layout(ncol = 5)\n",
    "#cont_plot_x_v_anc_wide\n",
    "#ggsave(cont_plot_meta_v_x_wide, file=\"cont_plot_5_unrel_meta_v_x_wide.pdf\", width = 15, height= 3, dpi=500)"
   ]
  },
  {
   "cell_type": "code",
   "execution_count": null,
   "id": "43",
   "metadata": {},
   "outputs": [],
   "source": [
    "t2d_MX <- make_plotmeta_vprscsx(\"Phe_250_2\", 0.11, \"Type 2 Diabetes\") #Type 2 Diabetes\n",
    "mi_MX <- make_plotmeta_vprscsx(\"Phe_411_2\", 0.034, \"Myocardial Infarction\") #Myocardial Infarction\n",
    "ap_MX <- make_plotmeta_vprscsx(\"Phe_411_3\", 0.025, \"Angina Pectoris\")  #Angina Pectoris\n",
    "af_MX <- make_plotmeta_vprscsx(\"Phe_427_21\",  0.06, \"Atrial Fibrillation\") #AF\n",
    "chf_MX <- make_plotmeta_vprscsx(\"Phe_428_1\", 0.023, \"Congestive Heart Failure\") #CHF\n",
    "\n",
    "#bin_plot_meta_v_x <- plot_spacer()/ ap / plot_spacer()/af/plot_spacer()/chf/plot_spacer()/mi/plot_spacer()/t2d + plot_layout(guides = \"collect\", heights = c(1, 5, 1, 5, 1, 5, 1, 5, 1, 5), nrow = 10)\n",
    "bin_plot_meta_v_x <- ap_MX / af_MX/chf_MX/mi_MX/t2d_MX + plot_layout(guides = \"collect\")\n",
    "#cont_plot_x_v_anc\n",
    "ggsave(bin_plot_meta_v_x, file=paste0(fig_dir,\"bin_plot_5_meta_v_x_taller.pdf\"), width = 3, height=10, dpi=300)"
   ]
  },
  {
   "cell_type": "code",
   "execution_count": null,
   "id": "44",
   "metadata": {},
   "outputs": [],
   "source": [
    "#all_plot_x_v_anc <- (ap + bmi) / (af + hemo)/(chf + height)/(mi + ldl)/(t2d + sbp) + plot_layout(guides = \"collect\")\n",
    "\n",
    "all_plot_x_v_anc <- (ap_XN + bmi_XN) / (af_XN + hemo_XN)/(chf_XN + height_XN)/(mi_XN + ldl_XN)/(t2d_XN + sbp_XN) + plot_layout(guides = \"collect\")\n",
    "\n",
    "ggsave(all_plot_x_v_anc, file=paste0(fig_dir,\"all_plot_5_unrel_x_v_anc_taller_named.pdf\"), width = 7, height=9, dpi=300)\n",
    "\n",
    "all_plot_META_v_x <- (ap_MX + bmi_MX) / (af_MX + hemo_MX)/(chf_MX + height_MX)/(mi_MX + ldl_MX)/(t2d_MX + sbp_MX) + plot_layout(guides = \"collect\")\n",
    "\n",
    "all_plot_META_v_anc <- (ap_MN + bmi_MN)/(af_MN + hemo_MN)/(chf_MN + height_MN)/(mi_MN + ldl_MN)/(t2d_MN + sbp_MN) + plot_layout(guides = \"collect\")\n",
    "\n",
    "ggsave(all_plot_META_v_x, file=paste0(fig_dir,\"all_plot_5_unrel_META_v_x_taller_named.pdf\"), width = 7, height=9, dpi=300)\n",
    "\n",
    "ggsave(all_plot_META_v_anc, file=paste0(fig_dir,\"all_plot_5_unrel_META_v_anc_taller_named.pdf\"), width = 7, height=9, dpi=300)\n"
   ]
  },
  {
   "cell_type": "code",
   "execution_count": null,
   "id": "45",
   "metadata": {},
   "outputs": [],
   "source": [
    "a <- height_MN + height_XN   + height_MX  + plot_layout(guides = \"collect\", ncol = 3)  + plot_annotation(tag_levels = 'A')\n",
    "ggsave(a, file=paste0(fig_dir,\"height_all.pdf\"), width=10, height=5, dpi=300)"
   ]
  },
  {
   "cell_type": "code",
   "execution_count": null,
   "id": "46",
   "metadata": {},
   "outputs": [],
   "source": [
    "b <- height_XN   /  height_MN / height_MX  + plot_layout(guides = \"collect\", nrow = 3)  + plot_annotation(tag_levels = 'A')\n",
    "ggsave(b, file=paste0(fig_dir,\"height_all_tall.pdf\"), width=5, height=7, dpi=300)"
   ]
  }
 ],
 "metadata": {
  "kernelspec": {
   "display_name": "R",
   "language": "R",
   "name": "ir"
  },
  "language_info": {
   "codemirror_mode": "r",
   "file_extension": ".r",
   "mimetype": "text/x-r-source",
   "name": "R",
   "pygments_lexer": "r",
   "version": "4.4.0"
  },
  "toc": {
   "base_numbering": 1,
   "nav_menu": {},
   "number_sections": true,
   "sideBar": true,
   "skip_h1_title": false,
   "title_cell": "Table of Contents",
   "title_sidebar": "Contents",
   "toc_cell": false,
   "toc_position": {},
   "toc_section_display": true,
   "toc_window_display": false
  }
 },
 "nbformat": 4,
 "nbformat_minor": 5
}
