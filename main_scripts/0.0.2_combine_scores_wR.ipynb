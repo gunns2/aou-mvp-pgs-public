{
 "cells": [
  {
   "cell_type": "code",
   "execution_count": null,
   "id": "0",
   "metadata": {},
   "outputs": [],
   "source": [
    "install.packages('DescTools')"
   ]
  },
  {
   "cell_type": "code",
   "execution_count": null,
   "id": "1",
   "metadata": {},
   "outputs": [],
   "source": [
    "library(stringr)\n",
    "library(data.table)\n",
    "#library(DescTools)\n",
    "library(ggplot2)\n",
    "library(dplyr)\n",
    "covars <- fread(\"AoU_98K_covariates.tsv\")\n",
    "icd <- fread(\"icd_cohort_processed.txt\")\n",
    "colnames(icd)[2:1854] <- paste0(\"Phe_\", str_replace(colnames(icd)[2:1854], \"\\\\.\", \"_\"))\n",
    "head(colnames(icd))"
   ]
  },
  {
   "cell_type": "code",
   "execution_count": null,
   "id": "2",
   "metadata": {},
   "outputs": [],
   "source": [
    "#args <- phecode <- \"Baso_Fra_Mean_INT\"\n",
    "#source('combine_eval_PRScs.R')"
   ]
  },
  {
   "cell_type": "code",
   "execution_count": null,
   "id": "3",
   "metadata": {},
   "outputs": [],
   "source": [
    "source(\"eval_functions.R\")\n",
    "#combine_plink_scores(\"LDLC_Mean_INT\", \"^PRScsx.*.sscore$\", \"PRScsx\", \"computed_scores/\")"
   ]
  },
  {
   "cell_type": "code",
   "execution_count": null,
   "id": "4",
   "metadata": {},
   "outputs": [],
   "source": [
    "combine_plink_scores(\"Hemoglobin_Mean_INT\", \"LDp\", \"LDpred\", \"computed_scores/\")"
   ]
  },
  {
   "cell_type": "code",
   "execution_count": null,
   "id": "5",
   "metadata": {},
   "outputs": [],
   "source": [
    "combine_plink_scores(\"Baso_Fra_Mean_INT\", \"^PRScsx_\", \"PRScsx1\", \"computed_scores/\")"
   ]
  },
  {
   "cell_type": "code",
   "execution_count": null,
   "id": "6",
   "metadata": {},
   "outputs": [],
   "source": [
    "combine_plink_scores(\"mean_Height_INT\", \"^PRS_\", \"PRScs\", \"computed_scores/\")"
   ]
  },
  {
   "cell_type": "code",
   "execution_count": null,
   "id": "7",
   "metadata": {},
   "outputs": [],
   "source": [
    "combine_plink_scores(\"Hemoglobin_Mean_INT\", \"^PRScsx_\", \"PRScsx\", \"computed_scores/\")"
   ]
  },
  {
   "cell_type": "code",
   "execution_count": null,
   "id": "8",
   "metadata": {},
   "outputs": [],
   "source": [
    "#combine_plink_scores(\"Baso_Fra_Mean_INT\", \"^PRScsx.*.sscore$\", \"PRScsx\", \"computed_scores/\")\n",
    "combine_plink_scores(\"CRP_dL_Mean_INT\", \"^PRScsx.*.sscore$\", \"PRScsx\", \"computed_scores/\")\n",
    "combine_plink_scores(\"proBNP_Mean_INT\", \"^PRScsx.*.sscore$\", \"PRScsx\", \"computed_scores/\")"
   ]
  },
  {
   "cell_type": "code",
   "execution_count": null,
   "id": "9",
   "metadata": {},
   "outputs": [],
   "source": [
    "combine_plink_scores(\"Phe_428_1\", \"^PRScsx.*.sscore$\", \"PRScsx\", \"computed_scores/\")\n",
    "combine_plink_scores(\"Phe_427_21\", \"^PRScsx.*.sscore$\", \"PRScsx\", \"computed_scores/\")\n",
    "combine_plink_scores(\"Phe_250_1\", \"^PRScsx.*.sscore$\", \"PRScsx\", \"computed_scores/\")\n",
    "combine_plink_scores(\"Phe_250_2\", \"^PRScsx.*.sscore$\", \"PRScsx\", \"computed_scores/\")\n",
    "combine_plink_scores(\"Phe_411_2\", \"^PRScsx.*.sscore$\", \"PRScsx\", \"computed_scores/\")\n",
    "combine_plink_scores(\"Phe_411_3\", \"^PRScsx.*.sscore$\", \"PRScsx\", \"computed_scores/\")\n"
   ]
  },
  {
   "cell_type": "code",
   "execution_count": null,
   "id": "10",
   "metadata": {},
   "outputs": [],
   "source": [
    "args <- phecode <- \"Baso_Fra_Mean_INT\"\n",
    "source('combine_ldpred.R')\n"
   ]
  },
  {
   "cell_type": "code",
   "execution_count": null,
   "id": "11",
   "metadata": {},
   "outputs": [],
   "source": [
    "#args <- dir <- \"ldpred_compares\"\n",
    "#source('combine_ldpred_comp.R')"
   ]
  },
  {
   "cell_type": "code",
   "execution_count": null,
   "id": "12",
   "metadata": {},
   "outputs": [],
   "source": [
    "dat <- icd %>% left_join(covars) %>% left_join(sire)\n",
    "#colnames(dat)\n",
    "table(dat$race, dat$ethnicity)"
   ]
  },
  {
   "cell_type": "code",
   "execution_count": null,
   "id": "13",
   "metadata": {},
   "outputs": [],
   "source": [
    "sire <- fread(\"self_report_demographics.txt\") "
   ]
  },
  {
   "cell_type": "code",
   "execution_count": null,
   "id": "14",
   "metadata": {},
   "outputs": [],
   "source": [
    "table(sire$sire, sire$ancestry_pred_other)\n",
    "table(sire$hispanic, sire$ancestry_pred_other)\n",
    "\n",
    "sire %>% filter(ancestry_pred_other == \"oth\") %>%   \n",
    "    group_by(sire) %>%          # now required with changes to dplyr::count()\n",
    "    summarize(n = n())\n",
    "\n",
    "round(prop.table(table(sire$race, sire$ancestry_pred_other),1),2)\n",
    "round(prop.table(table(sire$race, sire$ancestry_pred_other),2),2)"
   ]
  },
  {
   "cell_type": "code",
   "execution_count": null,
   "id": "15",
   "metadata": {},
   "outputs": [],
   "source": [
    "dat <- icd %>% select(\"person_id\", all_of(phecode)) %>% left_join(covars) %>%   left_join(score0, by = c(person_id = \"IID\"))"
   ]
  },
  {
   "cell_type": "code",
   "execution_count": null,
   "id": "16",
   "metadata": {},
   "outputs": [],
   "source": [
    "table(dat[[phecode]], dat$ancestry_pred_other)"
   ]
  },
  {
   "cell_type": "code",
   "execution_count": null,
   "id": "17",
   "metadata": {
    "code_folding": [
     0
    ]
   },
   "outputs": [],
   "source": [
    "compare_cstat_prscs <- function(phecode, pop){\n",
    "file1 <- paste0(phecode, \"cstat_res.txt\")\n",
    "covs <- \"age + is_male + PC1 + PC2 + PC3 + PC4 + PC5 + PC6 + PC7 + PC8 + PC9 + PC10\"\n",
    "dat_anc <- dat[dat$ancestry_pred_other == pop, ]\n",
    "baseline <- glm(as.formula(paste(phecode, covs, sep=\" ~ \")), data = dat_anc)\n",
    "META_afr <- glm(as.formula(paste(phecode, paste(c(\"SCORE1_SUM\", covs), collapse=\" + \"), sep=\" ~ \")), data = dat_anc)\n",
    "print(summary(META_afr))\n",
    "\n",
    "META_amr <- glm(as.formula(paste(phecode, paste(c(\"SCORE2_SUM\", covs), collapse=\" + \"), sep=\" ~ \")), data = dat_anc)\n",
    "print(summary(META_amr))\n",
    "\n",
    "META_eur <- glm(as.formula(paste(phecode, paste(c(\"SCORE3_SUM\", covs), collapse=\" + \"), sep=\" ~ \")), data = dat_anc)\n",
    "print(summary(META_eur))\n",
    "\n",
    "AFR_afr <- glm(as.formula(paste(phecode, paste(c(\"SCORE4_SUM\", covs), collapse=\" + \"), sep=\" ~ \")), data = dat_anc)\n",
    "print(summary(AFR_afr))\n",
    "\n",
    "HIS_amr <- glm(as.formula(paste(phecode, paste(c(\"SCORE5_SUM\", covs), collapse=\" + \"), sep=\" ~ \")), data = dat_anc)\n",
    "print(summary(HIS_amr))\n",
    "\n",
    "EUR_eur <- glm(as.formula(paste(phecode, paste(c(\"SCORE6_SUM\", covs), collapse=\" + \"), sep=\" ~ \")), data = dat_anc)\n",
    "print(summary(EUR_eur))\n",
    "write(paste(phecode, pop, Cstat(baseline), Cstat(META_afr), Cstat(META_amr), Cstat(META_eur), Cstat(AFR_afr), Cstat(HIS_amr), Cstat(EUR_eur)), file = file1, append = T)\n",
    "}\n"
   ]
  },
  {
   "cell_type": "code",
   "execution_count": null,
   "id": "18",
   "metadata": {},
   "outputs": [],
   "source": [
    "ggplot(covars) + geom_histogram(aes(x = age, color = ancestry_pred_other))"
   ]
  },
  {
   "cell_type": "code",
   "execution_count": null,
   "id": "19",
   "metadata": {},
   "outputs": [],
   "source": [
    "#T1DLDp <- fread(\"Phe_250_1cstat_LDp_res.txt\")\n",
    "#head(T1DLDp)"
   ]
  },
  {
   "cell_type": "code",
   "execution_count": null,
   "id": "20",
   "metadata": {},
   "outputs": [],
   "source": [
    "#T1D_prscs <- fread(\"Phe_250_1cstat_res.txt\")\n",
    "#head(T1D_prscs)"
   ]
  },
  {
   "cell_type": "code",
   "execution_count": null,
   "id": "21",
   "metadata": {},
   "outputs": [],
   "source": [
    "afibLDp <- fread(\"Phe_427_21cstat_LDp_res.txt\")\n",
    "head(afibLDp)"
   ]
  },
  {
   "cell_type": "code",
   "execution_count": null,
   "id": "22",
   "metadata": {},
   "outputs": [],
   "source": [
    "afib_prscs <- fread(\"Phe_427_21cstat_res.txt\")\n",
    "head(afib_prscs)"
   ]
  },
  {
   "cell_type": "code",
   "execution_count": null,
   "id": "23",
   "metadata": {},
   "outputs": [],
   "source": [
    "pop <- \"afr\"\n",
    "covs <- \"age + is_male + PC1 + PC2 + PC3 + PC4 + PC5 + PC6 + PC7 + PC8 + PC9 + PC10\"\n",
    "dat_anc <- dat[dat$ancestry_pred_other == pop, ]\n",
    "baseline <- glm(as.formula(paste(phecode, covs, sep=\" ~ \")), data = dat_anc)\n",
    "\n",
    "summary(baseline)\n",
    "mle_inf <- glm(as.formula(paste(phecode, paste(c(\"SCORE1_SUM\", covs), collapse=\" + \"), sep=\" ~ \")), data = dat_anc)\n",
    "print(summary(mle_inf))\n",
    "\n",
    "mle_auto <- glm(as.formula(paste(phecode, paste(c(\"SCORE2_SUM\", covs), collapse=\" + \"), sep=\" ~ \")), data = dat_anc)\n",
    "print(summary(mle_auto))\n",
    "\n",
    "nomle_inf <- glm(as.formula(paste(phecode, paste(c(\"SCORE3_SUM\", covs), collapse=\" + \"), sep=\" ~ \")), data = dat_anc)\n",
    "print(summary(nomle_inf))\n",
    "\n",
    "nomle_auto <- glm(as.formula(paste(phecode, paste(c(\"SCORE4_SUM\", covs), collapse=\" + \"), sep=\" ~ \")), data = dat_anc)\n",
    "print(summary(nomle_auto))"
   ]
  },
  {
   "cell_type": "code",
   "execution_count": null,
   "id": "24",
   "metadata": {},
   "outputs": [],
   "source": [
    "covs <- \"is_male + PC1 + PC2 + PC3 + PC4 + PC5 + PC6 + PC7 + PC8 + PC9 + PC10\"\n",
    "baseline <- glm(as.formula(paste(phecode, covs, sep=\" ~ \")), data = dat_anc)\n",
    "\n",
    "mle_inf <- glm(as.formula(paste(phecode, paste(c(\"SCORE1_SUM\", covs), collapse=\" + \"), sep=\" ~ \")), data = dat_anc)\n",
    "print(summary(mle_inf))\n",
    "\n",
    "mle_auto <- glm(as.formula(paste(phecode, paste(c(\"SCORE2_SUM\", covs), collapse=\" + \"), sep=\" ~ \")), data = dat_anc)\n",
    "print(summary(mle_auto))\n",
    "\n",
    "nomle_inf <- glm(as.formula(paste(phecode, paste(c(\"SCORE3_SUM\", covs), collapse=\" + \"), sep=\" ~ \")), data = dat_anc)\n",
    "print(summary(nomle_inf))\n",
    "\n",
    "nomle_auto <- glm(as.formula(paste(phecode, paste(c(\"SCORE4_SUM\", covs), collapse=\" + \"), sep=\" ~ \")), data = dat_anc)\n",
    "print(summary(nomle_auto))"
   ]
  },
  {
   "cell_type": "code",
   "execution_count": null,
   "id": "25",
   "metadata": {},
   "outputs": [],
   "source": [
    "library(data.table)\n",
    "library(ggplot2)\n",
    "library(dplyr)\n",
    "library(tidyr)"
   ]
  },
  {
   "cell_type": "code",
   "execution_count": null,
   "id": "26",
   "metadata": {},
   "outputs": [],
   "source": [
    "a_long <- a %>% pivot_longer(cols = c(\"baseline\",\"META_afr\", \"META_amr\", \"META_eur\", \"AFR_afr\", \"HIS_amr\", \"EUR_eur\"), names_to = \"score\", values_to = \"AUC\")"
   ]
  },
  {
   "cell_type": "code",
   "execution_count": null,
   "id": "27",
   "metadata": {},
   "outputs": [],
   "source": [
    "ggplot(a_long %>% filter(anc != \"eas\")) + geom_boxplot(aes(x = phecode, y = AUC, color = score)) + facet_wrap(~anc) + scale_x_discrete(guide = guide_axis(n.dodge = 2)) "
   ]
  },
  {
   "cell_type": "code",
   "execution_count": null,
   "id": "28",
   "metadata": {},
   "outputs": [],
   "source": [
    "ggplot(dat %>% filter(!ancestry_pred_other %in% c(\"mid\", \"sas\", \"eas\"))) + geom_density(aes(x = SCORE5_SUM, color = ancestry_pred_other))"
   ]
  }
 ],
 "metadata": {
  "kernelspec": {
   "display_name": "R",
   "language": "R",
   "name": "ir"
  },
  "language_info": {
   "codemirror_mode": "r",
   "file_extension": ".r",
   "mimetype": "text/x-r-source",
   "name": "R",
   "pygments_lexer": "r",
   "version": "4.3.1"
  },
  "toc": {
   "base_numbering": 1,
   "nav_menu": {},
   "number_sections": true,
   "sideBar": true,
   "skip_h1_title": false,
   "title_cell": "Table of Contents",
   "title_sidebar": "Contents",
   "toc_cell": false,
   "toc_position": {},
   "toc_section_display": true,
   "toc_window_display": false
  }
 },
 "nbformat": 4,
 "nbformat_minor": 5
}
