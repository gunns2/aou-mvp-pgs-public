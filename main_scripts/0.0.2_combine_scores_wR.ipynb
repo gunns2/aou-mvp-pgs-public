{
 "cells": [
  {
   "cell_type": "code",
   "execution_count": null,
   "id": "0",
   "metadata": {
    "vscode": {
     "languageId": "r"
    }
   },
   "outputs": [],
   "source": [
    "install.packages('DescTools')"
   ]
  },
  {
   "cell_type": "code",
   "execution_count": null,
   "id": "1",
   "metadata": {
    "vscode": {
     "languageId": "r"
    }
   },
   "outputs": [],
   "source": [
    "library(stringr)\n",
    "library(data.table)\n",
    "#library(DescTools)\n",
    "library(ggplot2)\n",
    "library(dplyr)\n",
    "covars <- fread(\"AoU_98K_covariates.tsv\")\n",
    "icd <- fread(\"icd_cohort_processed.txt\")\n",
    "colnames(icd)[2:1854] <- paste0(\"Phe_\", str_replace(colnames(icd)[2:1854], \"\\\\.\", \"_\"))\n",
    "head(colnames(icd))"
   ]
  },
  {
   "cell_type": "code",
   "execution_count": null,
   "id": "3",
   "metadata": {
    "vscode": {
     "languageId": "r"
    }
   },
   "outputs": [],
   "source": [
    "source(\"eval_functions.R\")\n",
    "#combine_plink_scores(\"LDLC_Mean_INT\", \"^PRScsx.*.sscore$\", \"PRScsx\", \"computed_scores/\")"
   ]
  },
  {
   "cell_type": "code",
   "execution_count": null,
   "id": "4",
   "metadata": {
    "vscode": {
     "languageId": "r"
    }
   },
   "outputs": [],
   "source": [
    "combine_plink_scores(\"Hemoglobin_Mean_INT\", \"LDp\", \"LDpred\", \"computed_scores/\")"
   ]
  },
  {
   "cell_type": "code",
   "execution_count": null,
   "id": "5",
   "metadata": {
    "vscode": {
     "languageId": "r"
    }
   },
   "outputs": [],
   "source": [
    "combine_plink_scores(\"Baso_Fra_Mean_INT\", \"^PRScsx_\", \"PRScsx1\", \"computed_scores/\")"
   ]
  },
  {
   "cell_type": "code",
   "execution_count": null,
   "id": "6",
   "metadata": {
    "vscode": {
     "languageId": "r"
    }
   },
   "outputs": [],
   "source": [
    "combine_plink_scores(\"mean_Height_INT\", \"^PRS_\", \"PRScs\", \"computed_scores/\")"
   ]
  },
  {
   "cell_type": "code",
   "execution_count": null,
   "id": "7",
   "metadata": {
    "vscode": {
     "languageId": "r"
    }
   },
   "outputs": [],
   "source": [
    "combine_plink_scores(\"Hemoglobin_Mean_INT\", \"^PRScsx_\", \"PRScsx\", \"computed_scores/\")"
   ]
  },
  {
   "cell_type": "code",
   "execution_count": null,
   "id": "8",
   "metadata": {
    "vscode": {
     "languageId": "r"
    }
   },
   "outputs": [],
   "source": [
    "#combine_plink_scores(\"Baso_Fra_Mean_INT\", \"^PRScsx.*.sscore$\", \"PRScsx\", \"computed_scores/\")\n",
    "combine_plink_scores(\"CRP_dL_Mean_INT\", \"^PRScsx.*.sscore$\", \"PRScsx\", \"computed_scores/\")\n",
    "combine_plink_scores(\"proBNP_Mean_INT\", \"^PRScsx.*.sscore$\", \"PRScsx\", \"computed_scores/\")"
   ]
  },
  {
   "cell_type": "code",
   "execution_count": null,
   "id": "9",
   "metadata": {
    "vscode": {
     "languageId": "r"
    }
   },
   "outputs": [],
   "source": [
    "combine_plink_scores(\"Phe_428_1\", \"^PRScsx.*.sscore$\", \"PRScsx\", \"computed_scores/\")\n",
    "combine_plink_scores(\"Phe_427_21\", \"^PRScsx.*.sscore$\", \"PRScsx\", \"computed_scores/\")\n",
    "combine_plink_scores(\"Phe_250_1\", \"^PRScsx.*.sscore$\", \"PRScsx\", \"computed_scores/\")\n",
    "combine_plink_scores(\"Phe_250_2\", \"^PRScsx.*.sscore$\", \"PRScsx\", \"computed_scores/\")\n",
    "combine_plink_scores(\"Phe_411_2\", \"^PRScsx.*.sscore$\", \"PRScsx\", \"computed_scores/\")\n",
    "combine_plink_scores(\"Phe_411_3\", \"^PRScsx.*.sscore$\", \"PRScsx\", \"computed_scores/\")\n"
   ]
  }
 ],
 "metadata": {
  "kernelspec": {
   "display_name": "R",
   "language": "R",
   "name": "ir"
  },
  "language_info": {
   "codemirror_mode": "r",
   "file_extension": ".r",
   "mimetype": "text/x-r-source",
   "name": "R",
   "pygments_lexer": "r",
   "version": "4.3.1"
  },
  "toc": {
   "base_numbering": 1,
   "nav_menu": {},
   "number_sections": true,
   "sideBar": true,
   "skip_h1_title": false,
   "title_cell": "Table of Contents",
   "title_sidebar": "Contents",
   "toc_cell": false,
   "toc_position": {},
   "toc_section_display": true,
   "toc_window_display": false
  }
 },
 "nbformat": 4,
 "nbformat_minor": 5
}
