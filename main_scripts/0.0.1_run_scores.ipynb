{
 "cells": [
  {
   "cell_type": "code",
   "execution_count": null,
   "metadata": {},
   "outputs": [],
   "source": [
    "from datetime import datetime\n",
    "import os\n",
    "start = datetime.now()\n",
    "bucket = os.getenv('WORKSPACE_BUCKET')\n",
    "bucket"
   ]
  },
  {
   "cell_type": "code",
   "execution_count": null,
   "metadata": {},
   "outputs": [],
   "source": [
    "!grep 'mutate(diff = ' *.ipynb"
   ]
  },
  {
   "cell_type": "code",
   "execution_count": null,
   "metadata": {},
   "outputs": [],
   "source": [
    "import subprocess\n",
    "import numpy as np\n",
    "import pandas as pd"
   ]
  },
  {
   "cell_type": "code",
   "execution_count": null,
   "metadata": {},
   "outputs": [],
   "source": [
    "!head computed_scores/Baso_Fra_Mean_INT_PRScsx1.txt\n",
    "!head computed_scores/Baso_Fra_Mean_INT_PRScsx.txt\n",
    "!head computed_scores/mean_BMI_INT_PRScsx.txt"
   ]
  },
  {
   "cell_type": "code",
   "execution_count": null,
   "metadata": {},
   "outputs": [],
   "source": [
    "!gsutil -m cp gs://fc-secure-bc2fd5b9-ef9a-455d-a3d8-51eb5469ed79/Baso_Fra_Mean_INT/PRScsx* Baso_Fra_Mean_INT"
   ]
  },
  {
   "cell_type": "code",
   "execution_count": null,
   "metadata": {},
   "outputs": [],
   "source": [
    "!mkdir geno\n",
    "!gsutil -m cp -r gs://fc-secure-3f7876b9-da74-4f9d-98fb-b7268fb807a8/jamesp/wgs/filter-maf001/v20220413/plink-biallelic/output/filtered.* geno"
   ]
  },
  {
   "cell_type": "code",
   "execution_count": null,
   "metadata": {
    "code_folding": []
   },
   "outputs": [],
   "source": [
    "#!gsutil -m cp -r gs://fc-secure-3f7876b9-da74-4f9d-98fb-b7268fb807a8/jamesp/wgs/filter-maf001/v20220413/plink-biallelic/output/filtered.* geno"
   ]
  },
  {
   "cell_type": "code",
   "execution_count": null,
   "metadata": {},
   "outputs": [],
   "source": [
    "!mkdir mean_BMI_INT\n",
    "!head mean_BMI_INTprscsx.scores"
   ]
  },
  {
   "cell_type": "code",
   "execution_count": null,
   "metadata": {},
   "outputs": [],
   "source": [
    "%%bash\n",
    "for file in geno/*.pgen\n",
    "do\n",
    "  f=${file%.*}\n",
    "  n=${f##*.}\n",
    "  \n",
    "  plink2 \\\n",
    "  --pfile $f \\\n",
    "  --score mean_BMI_INTprscs.scores 1 4 cols=+scoresums ignore-dup-ids\\\n",
    "   --score-col-nums 6-11  \\\n",
    "  --out mean_BMI_INT/PRS_chunk$n\n",
    "done"
   ]
  },
  {
   "cell_type": "code",
   "execution_count": null,
   "metadata": {},
   "outputs": [],
   "source": [
    "%%bash\n",
    "for file in geno/*.pgen\n",
    "do\n",
    "  f=${file%.*}\n",
    "  n=${f##*.}\n",
    "  \n",
    "  plink2 \\\n",
    "  --pfile $f \\\n",
    "  --score mean_BMI_INTprscsx.scores 1 4 cols=+scoresums ignore-dup-ids\\\n",
    "   --score-col-nums 6-10  \\\n",
    "  --out mean_BMI_INT/PRScsx_chunk$n\n",
    "done\n"
   ]
  },
  {
   "cell_type": "code",
   "execution_count": null,
   "metadata": {},
   "outputs": [],
   "source": [
    "%%bash\n",
    "for file in geno/*.pgen\n",
    "do\n",
    "  f=${file%.*}\n",
    "  n=${f##*.}\n",
    "  \n",
    "  plink2 \\\n",
    "  --pfile $f \\\n",
    "  --score mean_BMI_INTldpred.scores 1 5 cols=+scoresums ignore-dup-ids\\\n",
    "   --score-col-nums 6-17  \\\n",
    "  --out mean_BMI_INT/LDp_PRS_chunk$n\n",
    "done"
   ]
  },
  {
   "cell_type": "code",
   "execution_count": null,
   "metadata": {},
   "outputs": [],
   "source": [
    "#!gsutil -m cp -r   mean_BMI_INT gs://fc-secure-bc2fd5b9-ef9a-455d-a3d8-51eb5469ed79/mean_BMI_INT\n",
    "#!gsutil -m cp   mean_BMI_INT/LDp_PRS_* gs://fc-secure-bc2fd5b9-ef9a-455d-a3d8-51eb5469ed79/mean_BMI_INT"
   ]
  },
  {
   "cell_type": "code",
   "execution_count": null,
   "metadata": {},
   "outputs": [],
   "source": [
    "!ls outcomes/*"
   ]
  },
  {
   "cell_type": "code",
   "execution_count": null,
   "metadata": {},
   "outputs": [],
   "source": [
    "!mkdir mean_Height_INT\n",
    "!head mean_Height_INTprscs.scores\n",
    "!head mean_Height_INTldpred.scores"
   ]
  },
  {
   "cell_type": "code",
   "execution_count": null,
   "metadata": {},
   "outputs": [],
   "source": [
    "%%bash\n",
    "for file in geno/*.pgen\n",
    "do\n",
    "  f=${file%.*}\n",
    "  n=${f##*.}\n",
    "  \n",
    "  plink2 \\\n",
    "  --pfile $f \\\n",
    "  --score mean_Height_INTprscs.scores 1 4 cols=+scoresums ignore-dup-ids\\\n",
    "   --score-col-nums 6-11  \\\n",
    "  --out mean_Height_INT/PRS_chunk$n\n",
    "done"
   ]
  },
  {
   "cell_type": "code",
   "execution_count": null,
   "metadata": {},
   "outputs": [],
   "source": [
    "%%bash\n",
    "for file in geno/*.pgen\n",
    "do\n",
    "  f=${file%.*}\n",
    "  n=${f##*.}\n",
    "  \n",
    "  plink2 \\\n",
    "  --pfile $f \\\n",
    "  --score mean_Height_INTprscsx.scores 1 4 cols=+scoresums ignore-dup-ids\\\n",
    "   --score-col-nums 6-10  \\\n",
    "  --out mean_Height_INT/PRScsx_chunk$n\n",
    "done\n"
   ]
  },
  {
   "cell_type": "code",
   "execution_count": null,
   "metadata": {},
   "outputs": [],
   "source": [
    "%%bash\n",
    "for file in geno/*.pgen\n",
    "do\n",
    "  f=${file%.*}\n",
    "  n=${f##*.}\n",
    "  \n",
    "  plink2 \\\n",
    "  --pfile $f \\\n",
    "  --score mean_Height_INTldpred.scores 1 5 cols=+scoresums ignore-dup-ids\\\n",
    "   --score-col-nums 6-17  \\\n",
    "  --out mean_Height_INT/LDp_PRS_chunk$n\n",
    "done"
   ]
  },
  {
   "cell_type": "code",
   "execution_count": null,
   "metadata": {},
   "outputs": [],
   "source": [
    "#!gsutil -m cp -r   mean_Height_INT gs://fc-secure-bc2fd5b9-ef9a-455d-a3d8-51eb5469ed79/mean_Height_INT\n",
    "#!gsutil -m cp   mean_Height_INT/LDp_PRS_* gs://fc-secure-bc2fd5b9-ef9a-455d-a3d8-51eb5469ed79/mean_Height_INT"
   ]
  },
  {
   "cell_type": "code",
   "execution_count": null,
   "metadata": {},
   "outputs": [],
   "source": [
    "!mkdir outcomes"
   ]
  },
  {
   "cell_type": "code",
   "execution_count": null,
   "metadata": {},
   "outputs": [],
   "source": [
    "!mkdir mean_Systolic_INT"
   ]
  },
  {
   "cell_type": "code",
   "execution_count": null,
   "metadata": {},
   "outputs": [],
   "source": [
    "%%bash\n",
    "for file in geno/*.pgen\n",
    "do\n",
    "  f=${file%.*}\n",
    "  n=${f##*.}\n",
    "  \n",
    "  plink2 \\\n",
    "  --pfile $f \\\n",
    "  --score mean_Systolic_INTprscs.scores 1 4 cols=+scoresums ignore-dup-ids\\\n",
    "   --score-col-nums 6-11  \\\n",
    "  --out mean_Systolic_INT/PRS_chunk$n\n",
    "done"
   ]
  },
  {
   "cell_type": "code",
   "execution_count": null,
   "metadata": {},
   "outputs": [],
   "source": [
    "%%bash\n",
    "for file in geno/*.pgen\n",
    "do\n",
    "  f=${file%.*}\n",
    "  n=${f##*.}\n",
    "  \n",
    "  plink2 \\\n",
    "  --pfile $f \\\n",
    "  --score mean_Systolic_INTprscsx.scores 1 4 cols=+scoresums ignore-dup-ids\\\n",
    "   --score-col-nums 6-10  \\\n",
    "  --out mean_Systolic_INT/PRScsx_chunk$n\n",
    "done"
   ]
  },
  {
   "cell_type": "code",
   "execution_count": null,
   "metadata": {},
   "outputs": [],
   "source": [
    "%%bash\n",
    "for file in geno/*.pgen\n",
    "do\n",
    "  f=${file%.*}\n",
    "  n=${f##*.}\n",
    "  \n",
    "  plink2 \\\n",
    "  --pfile $f \\\n",
    "  --score mean_Systolic_INTldpred.scores 1 5 cols=+scoresums ignore-dup-ids\\\n",
    "   --score-col-nums 6-17  \\\n",
    "  --out mean_Systolic_INT/LDp_PRS_chunk$n\n",
    "done"
   ]
  },
  {
   "cell_type": "code",
   "execution_count": null,
   "metadata": {},
   "outputs": [],
   "source": [
    "#!gsutil -m cp -r   mean_Systolic_INT gs://fc-secure-bc2fd5b9-ef9a-455d-a3d8-51eb5469ed79/mean_Systolic_INT\n",
    "#!gsutil -m cp   mean_Systolic_INT/LDp_PRS_* gs://fc-secure-bc2fd5b9-ef9a-455d-a3d8-51eb5469ed79/mean_Systolic_INT"
   ]
  },
  {
   "cell_type": "code",
   "execution_count": null,
   "metadata": {},
   "outputs": [],
   "source": [
    "!mkdir Hemoglobin_Mean_INT\n",
    "!head Hemoglobin_Mean_INTldpred.scores\n",
    "!head Hemoglobin_Mean_INTldpred.scores\n",
    "#!awk \"{print $16}\" Hemoglobin_Mean_INTldpred.scores | head"
   ]
  },
  {
   "cell_type": "code",
   "execution_count": null,
   "metadata": {},
   "outputs": [],
   "source": [
    "%%bash\n",
    "for file in geno/*.pgen\n",
    "do\n",
    "  f=${file%.*}\n",
    "  n=${f##*.}\n",
    "  \n",
    "  plink2 \\\n",
    "  --pfile $f \\\n",
    "  --score Hemoglobin_Mean_INTprscs.scores 1 4 cols=+scoresums ignore-dup-ids\\\n",
    "   --score-col-nums 6-11  \\\n",
    "  --out Hemoglobin_Mean_INT/PRS_chunk$n\n",
    "done"
   ]
  },
  {
   "cell_type": "code",
   "execution_count": null,
   "metadata": {},
   "outputs": [],
   "source": [
    "%%bash\n",
    "for file in geno/*.pgen\n",
    "do\n",
    "  f=${file%.*}\n",
    "  n=${f##*.}\n",
    "  \n",
    "  plink2 \\\n",
    "  --pfile $f \\\n",
    "  --score Hemoglobin_Mean_INTprscsx.scores 1 4 cols=+scoresums ignore-dup-ids\\\n",
    "   --score-col-nums 6-10  \\\n",
    "  --out Hemoglobin_Mean_INT/PRScsx_chunk$n\n",
    "done\n"
   ]
  },
  {
   "cell_type": "code",
   "execution_count": null,
   "metadata": {},
   "outputs": [],
   "source": [
    "%%bash\n",
    "for file in geno/*.pgen\n",
    "do\n",
    "  f=${file%.*}\n",
    "  n=${f##*.}\n",
    "  \n",
    "  plink2 \\\n",
    "  --pfile $f \\\n",
    "  --score Hemoglobin_Mean_INTldpred.scores 1 5 cols=+scoresums ignore-dup-ids\\\n",
    "   --score-col-nums 6-17  \\\n",
    "  --out Hemoglobin_Mean_INT/LDp_PRS_chunk$n\n",
    "done"
   ]
  },
  {
   "cell_type": "code",
   "execution_count": null,
   "metadata": {},
   "outputs": [],
   "source": [
    "#!ls Hemoglobin_Mean_INT/PRS*\n",
    "!rm Hemoglobin_Mean_INT/PRS*"
   ]
  },
  {
   "cell_type": "code",
   "execution_count": null,
   "metadata": {},
   "outputs": [],
   "source": [
    "#!gsutil -m cp   Hemoglobin_Mean_INT/LDp_PRS_* gs://fc-secure-bc2fd5b9-ef9a-455d-a3d8-51eb5469ed79/Hemoglobin_Mean_INT"
   ]
  },
  {
   "cell_type": "code",
   "execution_count": null,
   "metadata": {},
   "outputs": [],
   "source": [
    "!gsutil -m cp   Hemoglobin_Mean_INT/PRS* gs://fc-secure-bc2fd5b9-ef9a-455d-a3d8-51eb5469ed79/Hemoglobin_Mean_INT"
   ]
  },
  {
   "cell_type": "code",
   "execution_count": null,
   "metadata": {},
   "outputs": [],
   "source": [
    "!mkdir proBNP_Mean_INT\n",
    "!head proBNP_Mean_INTprscsx.scores"
   ]
  },
  {
   "cell_type": "code",
   "execution_count": null,
   "metadata": {},
   "outputs": [],
   "source": [
    "%%bash\n",
    "for file in geno/*.pgen\n",
    "do\n",
    "  f=${file%.*}\n",
    "  n=${f##*.}\n",
    "  \n",
    "  plink2 \\\n",
    "  --pfile $f \\\n",
    "  --score proBNP_Mean_INTprscsx.scores 1 4 cols=+scoresums ignore-dup-ids\\\n",
    "   --score-col-nums 6-8  \\\n",
    "  --out proBNP_Mean_INT/PRScsx_chunk$n\n",
    "done"
   ]
  },
  {
   "cell_type": "code",
   "execution_count": null,
   "metadata": {},
   "outputs": [],
   "source": [
    "#!gsutil cp  proBNP_Mean_INT/* gs://fc-secure-bc2fd5b9-ef9a-455d-a3d8-51eb5469ed79/proBNP_Mean_INT/"
   ]
  },
  {
   "cell_type": "code",
   "execution_count": null,
   "metadata": {},
   "outputs": [],
   "source": [
    "!mkdir CRP_dL_Mean_INT\n",
    "!head CRP_dL_Mean_INTprscsx.scores"
   ]
  },
  {
   "cell_type": "code",
   "execution_count": null,
   "metadata": {},
   "outputs": [],
   "source": [
    "%%bash\n",
    "for file in geno/*.pgen\n",
    "do\n",
    "  f=${file%.*}\n",
    "  n=${f##*.}\n",
    "  \n",
    "  plink2 \\\n",
    "  --pfile $f \\\n",
    "  --score CRP_dL_Mean_INTprscsx.scores 1 4 cols=+scoresums ignore-dup-ids\\\n",
    "   --score-col-nums 6-8  \\\n",
    "  --out CRP_dL_Mean_INT/PRScsx_chunk$n\n",
    "done"
   ]
  },
  {
   "cell_type": "code",
   "execution_count": null,
   "metadata": {},
   "outputs": [],
   "source": [
    "#!gsutil cp  CRP_dL_Mean_INT/* gs://fc-secure-bc2fd5b9-ef9a-455d-a3d8-51eb5469ed79/CRP_dL_Mean_INT/"
   ]
  },
  {
   "cell_type": "code",
   "execution_count": null,
   "metadata": {},
   "outputs": [],
   "source": [
    "!mkdir Baso_Fra_Mean_INT\n",
    "!head Baso_Fra_Mean_INTprscsx.scores"
   ]
  },
  {
   "cell_type": "code",
   "execution_count": null,
   "metadata": {},
   "outputs": [],
   "source": [
    "%%bash\n",
    "for file in geno/*.pgen\n",
    "do\n",
    "  f=${file%.*}\n",
    "  n=${f##*.}\n",
    "  \n",
    "  plink2 \\\n",
    "  --pfile $f \\\n",
    "  --score Baso_Fra_Mean_INTprscsx.scores 1 4 cols=+scoresums ignore-dup-ids\\\n",
    "   --score-col-nums 6-9  \\\n",
    "  --out Baso_Fra_Mean_INT/PRScsx_chunk$n\n",
    "done"
   ]
  },
  {
   "cell_type": "code",
   "execution_count": null,
   "metadata": {},
   "outputs": [],
   "source": [
    "#!gsutil cp  Baso_Fra_Mean_INT/* gs://fc-secure-bc2fd5b9-ef9a-455d-a3d8-51eb5469ed79/Baso_Fra_Mean_INT/"
   ]
  },
  {
   "cell_type": "code",
   "execution_count": null,
   "metadata": {},
   "outputs": [],
   "source": [
    "!gsutil ls gs://fc-secure-bc2fd5b9-ef9a-455d-a3d8-51eb5469ed79/*.scores"
   ]
  },
  {
   "cell_type": "code",
   "execution_count": null,
   "metadata": {},
   "outputs": [],
   "source": [
    "!mkdir Phe_250_2\n",
    "!head Phe_250_2prscsx.scores"
   ]
  },
  {
   "cell_type": "code",
   "execution_count": null,
   "metadata": {},
   "outputs": [],
   "source": [
    "%%bash\n",
    "for file in geno/*.pgen\n",
    "do\n",
    "  f=${file%.*}\n",
    "  n=${f##*.}\n",
    "  \n",
    "  plink2 \\\n",
    "  --pfile $f \\\n",
    "  --score Phe_250_2prscsx.scores 1 4 cols=+scoresums ignore-dup-ids\\\n",
    "   --score-col-nums 6-10  \\\n",
    "  --out Phe_250_2/PRScsx_chunk$n\n",
    "done"
   ]
  },
  {
   "cell_type": "code",
   "execution_count": null,
   "metadata": {},
   "outputs": [],
   "source": [
    "#!gsutil cp  Phe_250_2/* gs://fc-secure-bc2fd5b9-ef9a-455d-a3d8-51eb5469ed79/Phe_250_2/"
   ]
  },
  {
   "cell_type": "code",
   "execution_count": null,
   "metadata": {},
   "outputs": [],
   "source": [
    "!mkdir LDLC_Mean_INT\n",
    "!head LDLC_Mean_INTprscsx.scores"
   ]
  },
  {
   "cell_type": "code",
   "execution_count": null,
   "metadata": {},
   "outputs": [],
   "source": [
    "%%bash\n",
    "for file in geno/*.pgen\n",
    "do\n",
    "  f=${file%.*}\n",
    "  n=${f##*.}\n",
    "  \n",
    "  plink2 \\\n",
    "  --pfile $f \\\n",
    "  --score LDLC_Mean_INTprscsx.scores 1 4 cols=+scoresums ignore-dup-ids\\\n",
    "   --score-col-nums 6-10  \\\n",
    "  --out LDLC_Mean_INT/PRScsx_chunk$n\n",
    "done"
   ]
  },
  {
   "cell_type": "code",
   "execution_count": null,
   "metadata": {},
   "outputs": [],
   "source": [
    "#!gsutil cp  LDLC_Mean_INT/* gs://fc-secure-bc2fd5b9-ef9a-455d-a3d8-51eb5469ed79/LDLC_Mean_INT/"
   ]
  },
  {
   "cell_type": "code",
   "execution_count": null,
   "metadata": {},
   "outputs": [],
   "source": []
  },
  {
   "cell_type": "code",
   "execution_count": null,
   "metadata": {},
   "outputs": [],
   "source": [
    "!mkdir Phe_428_1\n",
    "!head Phe_428_1prscsx.scores"
   ]
  },
  {
   "cell_type": "code",
   "execution_count": null,
   "metadata": {},
   "outputs": [],
   "source": [
    "%%bash\n",
    "for file in geno/*.pgen\n",
    "do\n",
    "  f=${file%.*}\n",
    "  n=${f##*.}\n",
    "  \n",
    "  plink2 \\\n",
    "  --pfile $f \\\n",
    "  --score Phe_428_1prscsx.scores 1 4 cols=+scoresums ignore-dup-ids\\\n",
    "   --score-col-nums 6-9  \\\n",
    "  --out Phe_428_1/PRScsx_chunk$n\n",
    "done"
   ]
  },
  {
   "cell_type": "code",
   "execution_count": null,
   "metadata": {},
   "outputs": [],
   "source": [
    "#!gsutil cp  Phe_428_1/* gs://fc-secure-bc2fd5b9-ef9a-455d-a3d8-51eb5469ed79/Phe_428_1/"
   ]
  },
  {
   "cell_type": "code",
   "execution_count": null,
   "metadata": {},
   "outputs": [],
   "source": [
    "!mkdir Phe_250_1\n",
    "!head Phe_250_1prscsx.scores"
   ]
  },
  {
   "cell_type": "code",
   "execution_count": null,
   "metadata": {},
   "outputs": [],
   "source": [
    "%%bash\n",
    "for file in geno/*.pgen\n",
    "do\n",
    "  f=${file%.*}\n",
    "  n=${f##*.}\n",
    "  \n",
    "  plink2 \\\n",
    "  --pfile $f \\\n",
    "  --score Phe_250_1prscsx.scores 1 4 cols=+scoresums ignore-dup-ids\\\n",
    "   --score-col-nums 6-9  \\\n",
    "  --out Phe_250_1/PRScsx_chunk$n\n",
    "done"
   ]
  },
  {
   "cell_type": "code",
   "execution_count": null,
   "metadata": {},
   "outputs": [],
   "source": [
    "#!gsutil cp  Phe_250_1/* gs://fc-secure-bc2fd5b9-ef9a-455d-a3d8-51eb5469ed79/Phe_250_1/"
   ]
  },
  {
   "cell_type": "code",
   "execution_count": null,
   "metadata": {},
   "outputs": [],
   "source": [
    "!mkdir Phe_427_21\n",
    "!head Phe_427_21prscsx.scores"
   ]
  },
  {
   "cell_type": "code",
   "execution_count": null,
   "metadata": {},
   "outputs": [],
   "source": [
    "%%bash\n",
    "for file in geno/*.pgen\n",
    "do\n",
    "  f=${file%.*}\n",
    "  n=${f##*.}\n",
    "  \n",
    "  plink2 \\\n",
    "  --pfile $f \\\n",
    "  --score Phe_427_21prscsx.scores 1 4 cols=+scoresums ignore-dup-ids\\\n",
    "   --score-col-nums 6-9  \\\n",
    "  --out Phe_427_21/PRScsx_chunk$n\n",
    "done"
   ]
  },
  {
   "cell_type": "code",
   "execution_count": null,
   "metadata": {},
   "outputs": [],
   "source": [
    "!mkdir Phe_250_2\n",
    "!head Phe_250_2prscsx.scores"
   ]
  },
  {
   "cell_type": "code",
   "execution_count": null,
   "metadata": {},
   "outputs": [],
   "source": [
    "%%bash\n",
    "for file in geno/*.pgen\n",
    "do\n",
    "  f=${file%.*}\n",
    "  n=${f##*.}\n",
    "  \n",
    "  plink2 \\\n",
    "  --pfile $f \\\n",
    "  --score Phe_250_2prscsx.scores 1 4 cols=+scoresums ignore-dup-ids\\\n",
    "   --score-col-nums 6-9  \\\n",
    "  --out Phe_250_2/PRScsx_chunk$n\n",
    "done"
   ]
  },
  {
   "cell_type": "code",
   "execution_count": null,
   "metadata": {},
   "outputs": [],
   "source": [
    "#!gsutil cp  Phe_250_2/* gs://fc-secure-bc2fd5b9-ef9a-455d-a3d8-51eb5469ed79/Phe_250_2/"
   ]
  },
  {
   "cell_type": "code",
   "execution_count": null,
   "metadata": {},
   "outputs": [],
   "source": [
    "!mkdir Phe_411_3\n",
    "!head Phe_411_3prscsx.scores"
   ]
  },
  {
   "cell_type": "code",
   "execution_count": null,
   "metadata": {},
   "outputs": [],
   "source": [
    "%%bash\n",
    "for file in geno/*.pgen\n",
    "do\n",
    "  f=${file%.*}\n",
    "  n=${f##*.}\n",
    "  \n",
    "  plink2 \\\n",
    "  --pfile $f \\\n",
    "  --score Phe_411_3prscsx.scores 1 4 cols=+scoresums ignore-dup-ids\\\n",
    "   --score-col-nums 6-9  \\\n",
    "  --out Phe_411_3/PRScsx_chunk$n\n",
    "done"
   ]
  },
  {
   "cell_type": "code",
   "execution_count": null,
   "metadata": {},
   "outputs": [],
   "source": [
    "#!gsutil cp  Phe_411_3/* gs://fc-secure-bc2fd5b9-ef9a-455d-a3d8-51eb5469ed79/Phe_411_3/"
   ]
  },
  {
   "cell_type": "code",
   "execution_count": null,
   "metadata": {},
   "outputs": [],
   "source": [
    "!mkdir Phe_411_2\n",
    "!head Phe_411_2prscsx.scores"
   ]
  },
  {
   "cell_type": "code",
   "execution_count": null,
   "metadata": {},
   "outputs": [],
   "source": [
    "%%bash\n",
    "for file in geno/*.pgen\n",
    "do\n",
    "  f=${file%.*}\n",
    "  n=${f##*.}\n",
    "  \n",
    "  plink2 \\\n",
    "  --pfile $f \\\n",
    "  --score Phe_411_2prscsx.scores 1 4 cols=+scoresums ignore-dup-ids\\\n",
    "   --score-col-nums 6-9  \\\n",
    "  --out Phe_411_2/PRScsx_chunk$n\n",
    "done"
   ]
  },
  {
   "cell_type": "code",
   "execution_count": null,
   "metadata": {},
   "outputs": [],
   "source": [
    "!gsutil cp  Phe_411_3/* gs://fc-secure-bc2fd5b9-ef9a-455d-a3d8-51eb5469ed79/Phe_411_3/"
   ]
  },
  {
   "cell_type": "code",
   "execution_count": null,
   "metadata": {},
   "outputs": [],
   "source": [
    "!gsutil cp  Phe_411_2/* gs://fc-secure-bc2fd5b9-ef9a-455d-a3d8-51eb5469ed79/Phe_411_2/"
   ]
  },
  {
   "cell_type": "code",
   "execution_count": null,
   "metadata": {},
   "outputs": [],
   "source": [
    "#!gsutil cp  Phe_427_21/* gs://fc-secure-bc2fd5b9-ef9a-455d-a3d8-51eb5469ed79/Phe_427_21/"
   ]
  },
  {
   "cell_type": "code",
   "execution_count": null,
   "metadata": {},
   "outputs": [],
   "source": [
    "%%bash\n",
    "for file in geno/*.pgen\n",
    "do\n",
    "  f=${file%.*}\n",
    "  n=${f##*.}\n",
    "  \n",
    "  plink2 \\\n",
    "  --pfile $f \\\n",
    "  --score proBNP_Mean_INTldpred.scores 1 5 cols=+scoresums ignore-dup-ids\\\n",
    "   --score-col-nums 6-15  \\\n",
    "  --out proBNP_Mean_INT/LDp_PRS_chunk$n\n",
    "done"
   ]
  },
  {
   "cell_type": "code",
   "execution_count": null,
   "metadata": {},
   "outputs": [],
   "source": [
    "%%bash\n",
    "for file in geno/*.pgen\n",
    "do\n",
    "  f=${file%.*}\n",
    "  n=${f##*.}\n",
    "  \n",
    "  plink2 \\\n",
    "  --pfile $f \\\n",
    "  --score proBNP_Mean_INTprscs.scores 1 4 cols=+scoresums ignore-dup-ids\\\n",
    "   --score-col-nums 6-10  \\\n",
    "  --out proBNP_Mean_INT/PRS_chunk$n\n",
    "done"
   ]
  },
  {
   "cell_type": "code",
   "execution_count": null,
   "metadata": {},
   "outputs": [],
   "source": [
    "#!gsutil cp -r  proBNP_Mean_INT gs://fc-secure-bc2fd5b9-ef9a-455d-a3d8-51eb5469ed79/"
   ]
  },
  {
   "cell_type": "code",
   "execution_count": null,
   "metadata": {},
   "outputs": [],
   "source": [
    "!gsutil ls gs://fc-secure-bc2fd5b9-ef9a-455d-a3d8-51eb5469ed79/"
   ]
  },
  {
   "cell_type": "code",
   "execution_count": null,
   "metadata": {},
   "outputs": [],
   "source": [
    "!mkdir Baso_Fra_Mean_INT\n",
    "#!head Baso_Fra_Mean_INTldpred.scores"
   ]
  },
  {
   "cell_type": "code",
   "execution_count": null,
   "metadata": {},
   "outputs": [],
   "source": [
    "%%bash\n",
    "for file in geno/*.pgen\n",
    "do\n",
    "  f=${file%.*}\n",
    "  n=${f##*.}\n",
    "  \n",
    "  plink2 \\\n",
    "  --pfile $f \\\n",
    "  --score Baso_Fra_Mean_INTldpred.scores 1 5 cols=+scoresums ignore-dup-ids\\\n",
    "   --score-col-nums 6-17  \\\n",
    "  --out Baso_Fra_Mean_INT/LDp_PRS_chunk$n\n",
    "done"
   ]
  },
  {
   "cell_type": "code",
   "execution_count": null,
   "metadata": {},
   "outputs": [],
   "source": [
    "%%bash\n",
    "for file in geno/*.pgen\n",
    "do\n",
    "  f=${file%.*}\n",
    "  n=${f##*.}\n",
    "  \n",
    "  plink2 \\\n",
    "  --pfile $f \\\n",
    "  --score Baso_Fra_Mean_INTprscs.scores 1 4 cols=+scoresums ignore-dup-ids list-variants\\\n",
    "   --score-col-nums 6-11  \\\n",
    "  --out Baso_Fra_Mean_INT/PRS_chunk$n\n",
    "done"
   ]
  },
  {
   "cell_type": "code",
   "execution_count": null,
   "metadata": {},
   "outputs": [],
   "source": [
    "#!gsutil cp -r  Baso_Fra_Mean_INT gs://fc-secure-bc2fd5b9-ef9a-455d-a3d8-51eb5469ed79/"
   ]
  },
  {
   "cell_type": "code",
   "execution_count": null,
   "metadata": {},
   "outputs": [],
   "source": [
    "\n"
   ]
  },
  {
   "cell_type": "code",
   "execution_count": null,
   "metadata": {},
   "outputs": [],
   "source": [
    "%%bash\n",
    "for file in geno/*.pgen\n",
    "do\n",
    "  f=${file%.*}\n",
    "  n=${f##*.}\n",
    "  \n",
    "  plink2 \\\n",
    "  --pfile $f \\\n",
    "  --score CRP_dL_Mean_INTldpred.scores 1 5 cols=+scoresums ignore-dup-ids\\\n",
    "   --score-col-nums 6-15  \\\n",
    "  --out CRP_dL_Mean_INT/LDp_PRS_chunk$n\n",
    "done"
   ]
  },
  {
   "cell_type": "code",
   "execution_count": null,
   "metadata": {},
   "outputs": [],
   "source": [
    "%%bash\n",
    "for file in geno/*.pgen\n",
    "do\n",
    "  f=${file%.*}\n",
    "  n=${f##*.}\n",
    "  \n",
    "  plink2 \\\n",
    "  --pfile $f \\\n",
    "  --score CRP_dL_Mean_INTprscs.scores 1 4 cols=+scoresums ignore-dup-ids\\\n",
    "   --score-col-nums 6-10  \\\n",
    "  --out CRP_dL_Mean_INT/PRS_chunk$n\n",
    "done"
   ]
  },
  {
   "cell_type": "code",
   "execution_count": null,
   "metadata": {},
   "outputs": [],
   "source": [
    "#!gsutil cp -r CRP_dL_Mean_INT gs://fc-secure-bc2fd5b9-ef9a-455d-a3d8-51eb5469ed79/"
   ]
  },
  {
   "cell_type": "code",
   "execution_count": null,
   "metadata": {},
   "outputs": [],
   "source": [
    "!mkdir comparisons\n",
    "!mv *_res* comparisons"
   ]
  },
  {
   "cell_type": "code",
   "execution_count": null,
   "metadata": {},
   "outputs": [],
   "source": [
    "!head LDLC_Mean_INTprscs.scores\n",
    "!head LDLC_Mean_INTldpred.scores\n",
    "!mkdir LDLC_Mean_INT"
   ]
  },
  {
   "cell_type": "code",
   "execution_count": null,
   "metadata": {},
   "outputs": [],
   "source": [
    "%%bash\n",
    "for file in geno/*.pgen\n",
    "do\n",
    "  f=${file%.*}\n",
    "  n=${f##*.}\n",
    "  \n",
    "  plink2 \\\n",
    "  --pfile $f \\\n",
    "  --score LDLC_Mean_INTprscs.scores 1 4 cols=+scoresums ignore-dup-ids list-variants\\\n",
    "   --score-col-nums 6-11  \\\n",
    "  --out LDLC_Mean_INT/PRS_chunk$n\n",
    "done"
   ]
  },
  {
   "cell_type": "code",
   "execution_count": null,
   "metadata": {},
   "outputs": [],
   "source": [
    "%%bash\n",
    "for file in geno/*.pgen\n",
    "do\n",
    "  f=${file%.*}\n",
    "  n=${f##*.}\n",
    "  \n",
    "  plink2 \\\n",
    "  --pfile $f \\\n",
    "  --score LDLC_Mean_INTldpred.scores 1 5 cols=+scoresums ignore-dup-ids\\\n",
    "   --score-col-nums 6-17  \\\n",
    "  --out LDLC_Mean_INT/LDp_PRS_chunk$n\n",
    "done"
   ]
  },
  {
   "cell_type": "code",
   "execution_count": null,
   "metadata": {},
   "outputs": [],
   "source": [
    "#!gsutil cp -r  LDLC_Mean_INT gs://fc-secure-bc2fd5b9-ef9a-455d-a3d8-51eb5469ed79/"
   ]
  },
  {
   "cell_type": "code",
   "execution_count": null,
   "metadata": {},
   "outputs": [],
   "source": [
    "#!gsutil ls gs://fc-secure-bc2fd5b9-ef9a-455d-a3d8-51eb5469ed79/results"
   ]
  },
  {
   "cell_type": "code",
   "execution_count": null,
   "metadata": {},
   "outputs": [],
   "source": [
    "!mkdir Phe_427_21\n",
    "!head Phe_427_21ldpred.scores"
   ]
  },
  {
   "cell_type": "code",
   "execution_count": null,
   "metadata": {},
   "outputs": [],
   "source": []
  },
  {
   "cell_type": "code",
   "execution_count": null,
   "metadata": {},
   "outputs": [],
   "source": [
    "%%bash\n",
    "for file in geno/*.pgen\n",
    "do\n",
    "  f=${file%.*}\n",
    "  n=${f##*.}\n",
    "  \n",
    "  plink2 \\\n",
    "  --pfile $f \\\n",
    "  --score Phe_427_21ldpred.scores 1 5 cols=+scoresums ignore-dup-ids\\\n",
    "   --score-col-nums 6-17  \\\n",
    "  --out Phe_427_21/LDp_PRS_chunk$n\n",
    "done"
   ]
  },
  {
   "cell_type": "code",
   "execution_count": null,
   "metadata": {},
   "outputs": [],
   "source": [
    "%%bash\n",
    "for file in geno/*.pgen\n",
    "do\n",
    "  f=${file%.*}\n",
    "  n=${f##*.}\n",
    "  \n",
    "  plink2 \\\n",
    "  --pfile $f \\\n",
    "  --score Phe_427_21prscs.scores 1 4 cols=+scoresums ignore-dup-ids list-variants\\\n",
    "   --score-col-nums 6-11  \\\n",
    "  --out Phe_427_21/PRS_chunk$n\n",
    "done"
   ]
  },
  {
   "cell_type": "code",
   "execution_count": null,
   "metadata": {},
   "outputs": [],
   "source": [
    "#!gsutil cp Phe_427_21/* gs://fc-secure-bc2fd5b9-ef9a-455d-a3d8-51eb5469ed79/Phe_427_21"
   ]
  },
  {
   "cell_type": "code",
   "execution_count": null,
   "metadata": {},
   "outputs": [],
   "source": [
    "!mkdir Phe_411_2"
   ]
  },
  {
   "cell_type": "code",
   "execution_count": null,
   "metadata": {},
   "outputs": [],
   "source": [
    "!head Phe_411_2prscs.scores\n",
    "!head Phe_411_2ldpred.scores"
   ]
  },
  {
   "cell_type": "code",
   "execution_count": null,
   "metadata": {},
   "outputs": [],
   "source": [
    "%%bash\n",
    "for file in geno/*.pgen\n",
    "do\n",
    "  f=${file%.*}\n",
    "  n=${f##*.}\n",
    "  \n",
    "  plink2 \\\n",
    "  --pfile $f \\\n",
    "  --score Phe_411_2prscs.scores 1 4 cols=+scoresums ignore-dup-ids\\\n",
    "   --score-col-nums 6-11  \\\n",
    "  --out Phe_411_2/PRS_chunk$n\n",
    "done"
   ]
  },
  {
   "cell_type": "code",
   "execution_count": null,
   "metadata": {},
   "outputs": [],
   "source": [
    "%%bash\n",
    "for file in geno/*.pgen\n",
    "do\n",
    "  f=${file%.*}\n",
    "  n=${f##*.}\n",
    "  \n",
    "  plink2 \\\n",
    "  --pfile $f \\\n",
    "  --score Phe_411_2ldpred.scores 1 5 cols=+scoresums ignore-dup-ids\\\n",
    "   --score-col-nums 6-17  \\\n",
    "  --out Phe_411_2/LDp_PRS_chunk$n\n",
    "done"
   ]
  },
  {
   "cell_type": "code",
   "execution_count": null,
   "metadata": {},
   "outputs": [],
   "source": [
    "!ls geno/*.pvar | wc -l\n",
    "!ls Phe_411_2/*.log | wc -l"
   ]
  },
  {
   "cell_type": "code",
   "execution_count": null,
   "metadata": {},
   "outputs": [],
   "source": [
    "#!gsutil cp -r Phe_411_2 gs://fc-secure-bc2fd5b9-ef9a-455d-a3d8-51eb5469ed79"
   ]
  },
  {
   "cell_type": "code",
   "execution_count": null,
   "metadata": {},
   "outputs": [],
   "source": [
    "#!gsutil cp Phe_411_2/* gs://fc-secure-bc2fd5b9-ef9a-455d-a3d8-51eb5469ed79/Phe_411_2"
   ]
  },
  {
   "cell_type": "code",
   "execution_count": null,
   "metadata": {},
   "outputs": [],
   "source": [
    "!mkdir Phe_250_1\n",
    "#!head Phe_250_1prscs.scores\n",
    "#head Phe_250_1ldpred.scores"
   ]
  },
  {
   "cell_type": "code",
   "execution_count": null,
   "metadata": {},
   "outputs": [],
   "source": [
    "%%bash\n",
    "for file in geno/*.pgen\n",
    "do\n",
    "  f=${file%.*}\n",
    "  n=${f##*.}\n",
    "  \n",
    "  plink2 \\\n",
    "  --pfile $f \\\n",
    "  --score Phe_250_1prscs.scores 1 4 cols=+scoresums ignore-dup-ids\\\n",
    "   --score-col-nums 6-11  \\\n",
    "  --out Phe_250_1/PRS_chunk$n\n",
    "done"
   ]
  },
  {
   "cell_type": "code",
   "execution_count": null,
   "metadata": {},
   "outputs": [],
   "source": [
    "%%bash\n",
    "for file in geno/*.pgen\n",
    "do\n",
    "  f=${file%.*}\n",
    "  n=${f##*.}\n",
    "  \n",
    "  plink2 \\\n",
    "  --pfile $f \\\n",
    "  --score Phe_250_1ldpred.scores 1 5 cols=+scoresums ignore-dup-ids\\\n",
    "   --score-col-nums 6-17  \\\n",
    "  --out Phe_250_1/LDp_PRS_chunk$n\n",
    "done"
   ]
  },
  {
   "cell_type": "code",
   "execution_count": null,
   "metadata": {},
   "outputs": [],
   "source": [
    "#!gsutil cp -r Phe_250_1 gs://fc-secure-bc2fd5b9-ef9a-455d-a3d8-51eb5469ed79"
   ]
  },
  {
   "cell_type": "code",
   "execution_count": null,
   "metadata": {},
   "outputs": [],
   "source": [
    "!mkdir Phe_250_2\n",
    "!head Phe_250_2ldpred.scores"
   ]
  },
  {
   "cell_type": "code",
   "execution_count": null,
   "metadata": {},
   "outputs": [],
   "source": [
    "%%bash\n",
    "for file in geno/*.pgen\n",
    "do\n",
    "  f=${file%.*}\n",
    "  n=${f##*.}\n",
    "  \n",
    "  plink2 \\\n",
    "  --pfile $f \\\n",
    "  --score Phe_250_2prscs.scores 1 4 cols=+scoresums ignore-dup-ids\\\n",
    "   --score-col-nums 6-11  \\\n",
    "  --out Phe_250_2/PRS_chunk$n\n",
    "done"
   ]
  },
  {
   "cell_type": "code",
   "execution_count": null,
   "metadata": {},
   "outputs": [],
   "source": [
    "%%bash\n",
    "for file in geno/*.pgen\n",
    "do\n",
    "  f=${file%.*}\n",
    "  n=${f##*.}\n",
    "  \n",
    "  plink2 \\\n",
    "  --pfile $f \\\n",
    "  --score Phe_250_2ldpred.scores 1 5 cols=+scoresums ignore-dup-ids\\\n",
    "   --score-col-nums 6-17  \\\n",
    "  --out Phe_250_2/LDp_PRS_chunk$n\n",
    "done"
   ]
  },
  {
   "cell_type": "code",
   "execution_count": null,
   "metadata": {},
   "outputs": [],
   "source": [
    "#!gsutil cp -r Phe_250_2 gs://fc-secure-bc2fd5b9-ef9a-455d-a3d8-51eb5469ed79"
   ]
  },
  {
   "cell_type": "code",
   "execution_count": null,
   "metadata": {},
   "outputs": [],
   "source": [
    "#!gsutil cp Phe_250_2/* gs://fc-secure-bc2fd5b9-ef9a-455d-a3d8-51eb5469ed79/Phe_250_2"
   ]
  },
  {
   "cell_type": "code",
   "execution_count": null,
   "metadata": {},
   "outputs": [],
   "source": [
    "!mkdir Phe_411_3"
   ]
  },
  {
   "cell_type": "code",
   "execution_count": null,
   "metadata": {},
   "outputs": [],
   "source": [
    "%%bash\n",
    "for file in geno/*.pgen\n",
    "do\n",
    "  f=${file%.*}\n",
    "  n=${f##*.}\n",
    "  \n",
    "  plink2 \\\n",
    "  --pfile $f \\\n",
    "  --score Phe_411_3prscs.scores 1 4 cols=+scoresums ignore-dup-ids\\\n",
    "   --score-col-nums 6-11  \\\n",
    "  --out Phe_411_3/PRS_chunk$n\n",
    "done"
   ]
  },
  {
   "cell_type": "code",
   "execution_count": null,
   "metadata": {},
   "outputs": [],
   "source": [
    "%%bash\n",
    "for file in geno/*.pgen\n",
    "do\n",
    "  f=${file%.*}\n",
    "  n=${f##*.}\n",
    "  \n",
    "  plink2 \\\n",
    "  --pfile $f \\\n",
    "  --score Phe_411_3ldpred.scores 1 5 cols=+scoresums ignore-dup-ids\\\n",
    "   --score-col-nums 6-17  \\\n",
    "  --out Phe_411_3/LDp_PRS_chunk$n\n",
    "done"
   ]
  },
  {
   "cell_type": "code",
   "execution_count": null,
   "metadata": {},
   "outputs": [],
   "source": [
    "!ls geno/*.pvar | wc -l\n",
    "!ls Phe_411_3/*.log | wc -l"
   ]
  },
  {
   "cell_type": "code",
   "execution_count": null,
   "metadata": {},
   "outputs": [],
   "source": [
    "#!gsutil cp -r Phe_411_3 gs://fc-secure-bc2fd5b9-ef9a-455d-a3d8-51eb5469ed79"
   ]
  },
  {
   "cell_type": "code",
   "execution_count": null,
   "metadata": {},
   "outputs": [],
   "source": [
    "#!gsutil cp -r Phe_411_3/* gs://fc-secure-bc2fd5b9-ef9a-455d-a3d8-51eb5469ed79/Phe_411_3"
   ]
  },
  {
   "cell_type": "code",
   "execution_count": null,
   "metadata": {},
   "outputs": [],
   "source": [
    "#!mkdir Phe_428_1\n",
    "#!head Phe_428_1ldpred.scores"
   ]
  },
  {
   "cell_type": "code",
   "execution_count": null,
   "metadata": {},
   "outputs": [],
   "source": [
    "%%bash\n",
    "for file in geno/*.pgen\n",
    "do\n",
    "  f=${file%.*}\n",
    "  n=${f##*.}\n",
    "  \n",
    "  plink2 \\\n",
    "  --pfile $f \\\n",
    "  --score Phe_428_1prscs.scores 1 4 cols=+scoresums ignore-dup-ids\\\n",
    "   --score-col-nums 6-11  \\\n",
    "  --out Phe_428_1/PRS_chunk$n\n",
    "done"
   ]
  },
  {
   "cell_type": "code",
   "execution_count": null,
   "metadata": {},
   "outputs": [],
   "source": [
    "%%bash\n",
    "for file in geno/*.pgen\n",
    "do\n",
    "  f=${file%.*}\n",
    "  n=${f##*.}\n",
    "  \n",
    "  plink2 \\\n",
    "  --pfile $f \\\n",
    "  --score Phe_428_1ldpred.scores 1 5 cols=+scoresums ignore-dup-ids\\\n",
    "   --score-col-nums 6-17  \\\n",
    "  --out Phe_428_1/LDp_PRS_chunk$n\n",
    "done"
   ]
  },
  {
   "cell_type": "code",
   "execution_count": null,
   "metadata": {},
   "outputs": [],
   "source": [
    "#!gsutil cp -r Phe_428_1/* gs://fc-secure-bc2fd5b9-ef9a-455d-a3d8-51eb5469ed79/Phe_428_1"
   ]
  },
  {
   "cell_type": "code",
   "execution_count": null,
   "metadata": {},
   "outputs": [],
   "source": [
    "#!gsutil cp -r Phe_428_1 gs://fc-secure-bc2fd5b9-ef9a-455d-a3d8-51eb5469ed79"
   ]
  },
  {
   "cell_type": "code",
   "execution_count": null,
   "metadata": {},
   "outputs": [],
   "source": [
    "#!Rscript combine_eval_PRScs.R Phe_427_21\n",
    "#use R notebook \"combine_scores_wR\" instead"
   ]
  },
  {
   "cell_type": "code",
   "execution_count": null,
   "metadata": {},
   "outputs": [],
   "source": [
    "!gsutil cp gs://fc-secure-3f7876b9-da74-4f9d-98fb-b7268fb807a8/AoU_98K/phenotype/AoU_98K_covariates.tsv.gz .\n",
    "!gunzip AoU_98K_covariates.tsv.gz\n",
    "!gsutil cp gs://fc-secure-bc2fd5b9-ef9a-455d-a3d8-51eb5469ed79/icd_cohort_processed.txt.gz .\n",
    "!gunzip icd_cohort_processed.txt.gz"
   ]
  },
  {
   "cell_type": "code",
   "execution_count": null,
   "metadata": {},
   "outputs": [],
   "source": [
    "#!gsutil ls gs://fc-secure-bc2fd5b9-ef9a-455d-a3d8-51eb5469ed79/"
   ]
  },
  {
   "cell_type": "code",
   "execution_count": null,
   "metadata": {},
   "outputs": [],
   "source": [
    "!gsutil ls gs://fc-secure-bc2fd5b9-ef9a-455d-a3d8-51eb5469ed79/Phe_250_1 | wc -l\n",
    "!gsutil ls gs://fc-secure-bc2fd5b9-ef9a-455d-a3d8-51eb5469ed79/Phe_250_2 | wc -l\n",
    "!gsutil ls gs://fc-secure-bc2fd5b9-ef9a-455d-a3d8-51eb5469ed79/Phe_411_2 | wc -l\n",
    "!gsutil ls gs://fc-secure-bc2fd5b9-ef9a-455d-a3d8-51eb5469ed79/Phe_411_3 | wc -l\n",
    "!gsutil ls gs://fc-secure-bc2fd5b9-ef9a-455d-a3d8-51eb5469ed79/Phe_428_1 | wc -l    \n",
    "!gsutil ls gs://fc-secure-bc2fd5b9-ef9a-455d-a3d8-51eb5469ed79/Phe_427_21 | wc -l "
   ]
  },
  {
   "cell_type": "code",
   "execution_count": null,
   "metadata": {},
   "outputs": [],
   "source": [
    "!mkdir scores\n",
    "!cp *.scores scores"
   ]
  },
  {
   "cell_type": "code",
   "execution_count": null,
   "metadata": {},
   "outputs": [],
   "source": [
    "!ls *_LDpred*\n",
    "!head LDLC_Mean_INT_LDpred.txt"
   ]
  },
  {
   "cell_type": "code",
   "execution_count": null,
   "metadata": {},
   "outputs": [],
   "source": [
    "!mkdir results\n",
    "!cp *_PRScs.txt results\n",
    "!cp *_LDpred.txt results\n",
    "!cp *cstat* results\n",
    "!ls results\n"
   ]
  },
  {
   "cell_type": "code",
   "execution_count": null,
   "metadata": {},
   "outputs": [],
   "source": [
    "!gsutil ls gs://fc-secure-bc2fd5b9-ef9a-455d-a3d8-51eb5469ed79/"
   ]
  },
  {
   "cell_type": "code",
   "execution_count": null,
   "metadata": {},
   "outputs": [],
   "source": [
    "#!gsutil -m cp -r computed_scores/ gs://fc-secure-bc2fd5b9-ef9a-455d-a3d8-51eb5469ed79/"
   ]
  },
  {
   "cell_type": "code",
   "execution_count": null,
   "metadata": {},
   "outputs": [],
   "source": [
    "#!gsutil cp -r  gs://fc-secure-bc2fd5b9-ef9a-455d-a3d8-51eb5469ed79/results/ ."
   ]
  },
  {
   "cell_type": "code",
   "execution_count": null,
   "metadata": {},
   "outputs": [],
   "source": [
    "!cat *cstat_LDp_res.txt > cstat_LDp_res.txt\n",
    "!cat *cstat_res.txt > cstat_PRScs_res.txt"
   ]
  },
  {
   "cell_type": "code",
   "execution_count": null,
   "metadata": {},
   "outputs": [],
   "source": [
    "!cat *ldpred_beta_res.txt > beta_LDp_res.txt\n",
    "!cat *prscs_beta_res.txt > beta_PRScs_res.txt"
   ]
  },
  {
   "cell_type": "code",
   "execution_count": null,
   "metadata": {},
   "outputs": [],
   "source": [
    "!cat comparison_3.17/*prscs_R2liab2_nocov_res.txt > comparison_3.17/prscs_R2liab2_nocov.txt\n",
    "!cat comparison_3.17/*prscsx_R2liab2_nocov_res.txt > comparison_3.17/prscsx_R2liab2_nocov.txt\n",
    "!cat comparison_3.17/*ldpred_R2liab2_nocov_res.txt > comparison_3.17/ldpred_R2liab2_nocov.txt"
   ]
  },
  {
   "cell_type": "code",
   "execution_count": null,
   "metadata": {},
   "outputs": [],
   "source": [
    "\n"
   ]
  },
  {
   "cell_type": "code",
   "execution_count": null,
   "metadata": {},
   "outputs": [],
   "source": [
    "!head comparison_3.17/Phe_427_21prscsx_R2liab2_res.txt\n",
    "!head comparison_3.17/Phe_427_21prscsx_R2liab2_nocov_res.txt"
   ]
  },
  {
   "cell_type": "code",
   "execution_count": null,
   "metadata": {},
   "outputs": [],
   "source": [
    "!mkdir scores\n",
    "!mv *.scores scores"
   ]
  },
  {
   "cell_type": "code",
   "execution_count": null,
   "metadata": {},
   "outputs": [],
   "source": [
    "!wc -l cstat_LDp_res.txt\n",
    "!wc -l cstat_PRScs_res.txt"
   ]
  },
  {
   "cell_type": "code",
   "execution_count": null,
   "metadata": {},
   "outputs": [],
   "source": [
    "#!head Phe_427_21ldpred.scores"
   ]
  },
  {
   "cell_type": "code",
   "execution_count": null,
   "metadata": {},
   "outputs": [],
   "source": [
    "mkdir ldpred_compares"
   ]
  },
  {
   "cell_type": "code",
   "execution_count": null,
   "metadata": {},
   "outputs": [],
   "source": [
    "%%bash\n",
    "for file in geno/*.pgen\n",
    "do\n",
    "  f=${file%.*}\n",
    "  n=${f##*.}\n",
    "  \n",
    "  plink2 \\\n",
    "  --pfile $f \\\n",
    "  --score ldpred_checkingMLEvnoMLE.txt 1 5 cols=+scoresums ignore-dup-ids\\\n",
    "   --score-col-nums 6-9  \\\n",
    "  --out ldpred_compares/PRS_chunk$n\n",
    "done"
   ]
  }
 ],
 "metadata": {
  "kernelspec": {
   "display_name": "Python 3",
   "language": "python",
   "name": "python3"
  },
  "language_info": {
   "codemirror_mode": {
    "name": "ipython",
    "version": 3
   },
   "file_extension": ".py",
   "mimetype": "text/x-python",
   "name": "python",
   "nbconvert_exporter": "python",
   "pygments_lexer": "ipython3",
   "version": "3.10.12"
  },
  "toc": {
   "base_numbering": 1,
   "nav_menu": {},
   "number_sections": true,
   "sideBar": true,
   "skip_h1_title": false,
   "title_cell": "Table of Contents",
   "title_sidebar": "Contents",
   "toc_cell": false,
   "toc_position": {},
   "toc_section_display": true,
   "toc_window_display": false
  }
 },
 "nbformat": 4,
 "nbformat_minor": 2
}
